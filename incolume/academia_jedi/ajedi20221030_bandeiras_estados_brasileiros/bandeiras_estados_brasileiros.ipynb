{
 "cells": [
  {
   "cell_type": "markdown",
   "id": "966b1716-8a92-429d-9e65-3d8d09ab315a",
   "metadata": {},
   "source": [
    "# Raspagem das bandeiras dos estados brasileiros\n",
    "\n",
    "https://github.com/incolume-jedi/academia-jedi/issues/15\n",
    "\n",
    "\n"
   ]
  },
  {
   "cell_type": "code",
   "execution_count": 15,
   "id": "77f92ddd-13cb-40c2-8535-521eea7c1dc6",
   "metadata": {},
   "outputs": [],
   "source": [
    "import json\n",
    "import pandas as pd\n",
    "import enum\n",
    "import datetime as dt\n",
    "import requests\n",
    "\n",
    "from dataclasses import dataclass\n",
    "from pathlib import Path"
   ]
  },
  {
   "cell_type": "code",
   "execution_count": 5,
   "id": "e046c328-902a-4d53-9d65-42256f36ec34",
   "metadata": {},
   "outputs": [],
   "source": [
    "data_path = Path().resolve().parents[1].joinpath('data_files')\n",
    "Regiao = enum.Enum('Regiao', 'NORTE NORDESTE CENTROESTE SUDESTE SUL'.split())\n",
    "\n",
    "\n",
    "@dataclass\n",
    "class Estado:\n",
    "    sigla: str\n",
    "    nome: str\n",
    "    capital: str\n",
    "    regiao: Regiao\n",
    "    bandeira: str\n",
    "\n",
    "\n",
    "@dataclass\n",
    "class Municipio:\n",
    "    estado: Estado\n",
    "    nome: str\n",
    "    data: dt.datetime\n",
    "    mes: int\n",
    "    dia: int"
   ]
  },
  {
   "cell_type": "code",
   "execution_count": 3,
   "id": "0afdb38a-1201-48d5-8fd7-a4bb591c199b",
   "metadata": {},
   "outputs": [],
   "source": [
    "url = 'https://cidades.ibge.gov.br/img/bandeiras/{}'"
   ]
  },
  {
   "cell_type": "code",
   "execution_count": 6,
   "id": "9f0d33da-94f0-4efa-b900-e0504942c104",
   "metadata": {},
   "outputs": [
    {
     "data": {
      "text/html": [
       "<div>\n",
       "<style scoped>\n",
       "    .dataframe tbody tr th:only-of-type {\n",
       "        vertical-align: middle;\n",
       "    }\n",
       "\n",
       "    .dataframe tbody tr th {\n",
       "        vertical-align: top;\n",
       "    }\n",
       "\n",
       "    .dataframe thead th {\n",
       "        text-align: right;\n",
       "    }\n",
       "</style>\n",
       "<table border=\"1\" class=\"dataframe\">\n",
       "  <thead>\n",
       "    <tr style=\"text-align: right;\">\n",
       "      <th></th>\n",
       "      <th>SIGLA</th>\n",
       "      <th>ESTADO</th>\n",
       "      <th>CAPITAL</th>\n",
       "      <th>REGIAO</th>\n",
       "    </tr>\n",
       "  </thead>\n",
       "  <tbody>\n",
       "    <tr>\n",
       "      <th>0</th>\n",
       "      <td>AC</td>\n",
       "      <td>Acre</td>\n",
       "      <td>Rio Branco</td>\n",
       "      <td>NORTE</td>\n",
       "    </tr>\n",
       "    <tr>\n",
       "      <th>1</th>\n",
       "      <td>AL</td>\n",
       "      <td>Alagoas</td>\n",
       "      <td>Maceió</td>\n",
       "      <td>NORDESTE</td>\n",
       "    </tr>\n",
       "    <tr>\n",
       "      <th>2</th>\n",
       "      <td>AP</td>\n",
       "      <td>Amapá</td>\n",
       "      <td>Macapá</td>\n",
       "      <td>NORTE</td>\n",
       "    </tr>\n",
       "    <tr>\n",
       "      <th>3</th>\n",
       "      <td>AM</td>\n",
       "      <td>Amazonas</td>\n",
       "      <td>Manaus</td>\n",
       "      <td>NORTE</td>\n",
       "    </tr>\n",
       "    <tr>\n",
       "      <th>4</th>\n",
       "      <td>BA</td>\n",
       "      <td>Bahia</td>\n",
       "      <td>Salvador</td>\n",
       "      <td>NORDESTE</td>\n",
       "    </tr>\n",
       "    <tr>\n",
       "      <th>5</th>\n",
       "      <td>CE</td>\n",
       "      <td>Ceará</td>\n",
       "      <td>Fortaleza</td>\n",
       "      <td>NORDESTE</td>\n",
       "    </tr>\n",
       "    <tr>\n",
       "      <th>6</th>\n",
       "      <td>DF</td>\n",
       "      <td>Distrito Federal</td>\n",
       "      <td>Brasília</td>\n",
       "      <td>CENTROESTE</td>\n",
       "    </tr>\n",
       "    <tr>\n",
       "      <th>7</th>\n",
       "      <td>ES</td>\n",
       "      <td>Espírito Santo</td>\n",
       "      <td>Vitória</td>\n",
       "      <td>SUDESTE</td>\n",
       "    </tr>\n",
       "    <tr>\n",
       "      <th>8</th>\n",
       "      <td>GO</td>\n",
       "      <td>Goiás</td>\n",
       "      <td>Goiânia</td>\n",
       "      <td>CENTROESTE</td>\n",
       "    </tr>\n",
       "    <tr>\n",
       "      <th>9</th>\n",
       "      <td>MA</td>\n",
       "      <td>Maranhão</td>\n",
       "      <td>São Luís</td>\n",
       "      <td>NORDESTE</td>\n",
       "    </tr>\n",
       "    <tr>\n",
       "      <th>10</th>\n",
       "      <td>MT</td>\n",
       "      <td>Mato Grosso</td>\n",
       "      <td>Cuiabá</td>\n",
       "      <td>CENTROESTE</td>\n",
       "    </tr>\n",
       "    <tr>\n",
       "      <th>11</th>\n",
       "      <td>MS</td>\n",
       "      <td>Mato Grosso do Sul</td>\n",
       "      <td>Campo Grande</td>\n",
       "      <td>CENTROESTE</td>\n",
       "    </tr>\n",
       "    <tr>\n",
       "      <th>12</th>\n",
       "      <td>MG</td>\n",
       "      <td>Minas Gerais</td>\n",
       "      <td>Belo Horizonte</td>\n",
       "      <td>SUDESTE</td>\n",
       "    </tr>\n",
       "    <tr>\n",
       "      <th>13</th>\n",
       "      <td>PR</td>\n",
       "      <td>Paraná</td>\n",
       "      <td>Curitiba</td>\n",
       "      <td>SUL</td>\n",
       "    </tr>\n",
       "    <tr>\n",
       "      <th>14</th>\n",
       "      <td>PB</td>\n",
       "      <td>Paraíba</td>\n",
       "      <td>João Pessoa</td>\n",
       "      <td>NORDESTE</td>\n",
       "    </tr>\n",
       "    <tr>\n",
       "      <th>15</th>\n",
       "      <td>PA</td>\n",
       "      <td>Pará</td>\n",
       "      <td>Belém</td>\n",
       "      <td>NORTE</td>\n",
       "    </tr>\n",
       "    <tr>\n",
       "      <th>16</th>\n",
       "      <td>PE</td>\n",
       "      <td>Pernambuco</td>\n",
       "      <td>Recife</td>\n",
       "      <td>NORDESTE</td>\n",
       "    </tr>\n",
       "    <tr>\n",
       "      <th>17</th>\n",
       "      <td>PI</td>\n",
       "      <td>Piauí</td>\n",
       "      <td>Teresina</td>\n",
       "      <td>NORDESTE</td>\n",
       "    </tr>\n",
       "    <tr>\n",
       "      <th>18</th>\n",
       "      <td>RN</td>\n",
       "      <td>Rio Grande do Norte</td>\n",
       "      <td>Natal</td>\n",
       "      <td>NORDESTE</td>\n",
       "    </tr>\n",
       "    <tr>\n",
       "      <th>19</th>\n",
       "      <td>RS</td>\n",
       "      <td>Rio Grande do Sul</td>\n",
       "      <td>Porto Alegre</td>\n",
       "      <td>SUL</td>\n",
       "    </tr>\n",
       "    <tr>\n",
       "      <th>20</th>\n",
       "      <td>RJ</td>\n",
       "      <td>Rio de Janeiro</td>\n",
       "      <td>Rio de Janeiro</td>\n",
       "      <td>SUDESTE</td>\n",
       "    </tr>\n",
       "    <tr>\n",
       "      <th>21</th>\n",
       "      <td>RO</td>\n",
       "      <td>Rondônia</td>\n",
       "      <td>Porto Velho</td>\n",
       "      <td>NORTE</td>\n",
       "    </tr>\n",
       "    <tr>\n",
       "      <th>22</th>\n",
       "      <td>RR</td>\n",
       "      <td>Roraima</td>\n",
       "      <td>Boa Vista</td>\n",
       "      <td>NORTE</td>\n",
       "    </tr>\n",
       "    <tr>\n",
       "      <th>23</th>\n",
       "      <td>SC</td>\n",
       "      <td>Santa Catarina</td>\n",
       "      <td>Florianópolis</td>\n",
       "      <td>SUL</td>\n",
       "    </tr>\n",
       "    <tr>\n",
       "      <th>24</th>\n",
       "      <td>SE</td>\n",
       "      <td>Sergipe</td>\n",
       "      <td>Aracaju</td>\n",
       "      <td>NORDESTE</td>\n",
       "    </tr>\n",
       "    <tr>\n",
       "      <th>25</th>\n",
       "      <td>SP</td>\n",
       "      <td>São Paulo</td>\n",
       "      <td>São Paulo</td>\n",
       "      <td>SUDESTE</td>\n",
       "    </tr>\n",
       "    <tr>\n",
       "      <th>26</th>\n",
       "      <td>TO</td>\n",
       "      <td>Tocantins</td>\n",
       "      <td>Palmas</td>\n",
       "      <td>NORTE</td>\n",
       "    </tr>\n",
       "  </tbody>\n",
       "</table>\n",
       "</div>"
      ],
      "text/plain": [
       "   SIGLA               ESTADO         CAPITAL      REGIAO\n",
       "0     AC                 Acre      Rio Branco       NORTE\n",
       "1     AL              Alagoas          Maceió    NORDESTE\n",
       "2     AP                Amapá          Macapá       NORTE\n",
       "3     AM             Amazonas          Manaus       NORTE\n",
       "4     BA                Bahia        Salvador    NORDESTE\n",
       "5     CE                Ceará       Fortaleza    NORDESTE\n",
       "6     DF     Distrito Federal        Brasília  CENTROESTE\n",
       "7     ES       Espírito Santo         Vitória     SUDESTE\n",
       "8     GO                Goiás         Goiânia  CENTROESTE\n",
       "9     MA             Maranhão        São Luís    NORDESTE\n",
       "10    MT          Mato Grosso          Cuiabá  CENTROESTE\n",
       "11    MS   Mato Grosso do Sul    Campo Grande  CENTROESTE\n",
       "12    MG         Minas Gerais  Belo Horizonte     SUDESTE\n",
       "13    PR               Paraná        Curitiba         SUL\n",
       "14    PB              Paraíba     João Pessoa    NORDESTE\n",
       "15    PA                 Pará           Belém       NORTE\n",
       "16    PE           Pernambuco          Recife    NORDESTE\n",
       "17    PI                Piauí        Teresina    NORDESTE\n",
       "18    RN  Rio Grande do Norte           Natal    NORDESTE\n",
       "19    RS    Rio Grande do Sul    Porto Alegre         SUL\n",
       "20    RJ       Rio de Janeiro  Rio de Janeiro     SUDESTE\n",
       "21    RO             Rondônia     Porto Velho       NORTE\n",
       "22    RR              Roraima       Boa Vista       NORTE\n",
       "23    SC       Santa Catarina   Florianópolis         SUL\n",
       "24    SE              Sergipe         Aracaju    NORDESTE\n",
       "25    SP            São Paulo       São Paulo     SUDESTE\n",
       "26    TO            Tocantins          Palmas       NORTE"
      ]
     },
     "execution_count": 6,
     "metadata": {},
     "output_type": "execute_result"
    }
   ],
   "source": [
    "df = pd.read_json(data_path / 'estados_br.json')\n",
    "df"
   ]
  },
  {
   "cell_type": "code",
   "execution_count": 14,
   "id": "374ae3c3-430e-42e3-8a30-f839b26f5721",
   "metadata": {},
   "outputs": [
    {
     "data": {
      "text/plain": [
       "array(['AC', 'AL', 'AP', 'AM', 'BA', 'CE', 'DF', 'ES', 'GO', 'MA', 'MT',\n",
       "       'MS', 'MG', 'PR', 'PB', 'PA', 'PE', 'PI', 'RN', 'RS', 'RJ', 'RO',\n",
       "       'RR', 'SC', 'SE', 'SP', 'TO'], dtype=object)"
      ]
     },
     "execution_count": 14,
     "metadata": {},
     "output_type": "execute_result"
    }
   ],
   "source": [
    "df.SIGLA.values"
   ]
  },
  {
   "cell_type": "code",
   "execution_count": 17,
   "id": "b2b5cb03-f46a-416e-9eff-995b8f99a37d",
   "metadata": {},
   "outputs": [
    {
     "name": "stdout",
     "output_type": "stream",
     "text": [
      "AC.gif\n",
      "AL.gif\n",
      "AP.gif\n",
      "AM.gif\n",
      "BA.gif\n",
      "CE.gif\n",
      "DF.gif\n",
      "ES.gif\n",
      "GO.gif\n",
      "MA.gif\n",
      "MT.gif\n",
      "MS.gif\n",
      "MG.gif\n",
      "PR.gif\n",
      "PB.gif\n",
      "PA.gif\n",
      "PE.gif\n",
      "PI.gif\n",
      "RN.gif\n",
      "RS.gif\n",
      "RJ.gif\n",
      "RO.gif\n",
      "RR.gif\n",
      "SC.gif\n",
      "SE.gif\n",
      "SP.gif\n",
      "TO.gif\n"
     ]
    }
   ],
   "source": [
    "for estado in df.SIGLA.values:\n",
    "    file = f'{estado}.gif'\n",
    "    print(file)\n",
    "    # requests.get(url.format(file))"
   ]
  },
  {
   "cell_type": "code",
   "execution_count": 23,
   "id": "e3bb6085-2e96-4e38-b87c-e5080f59778c",
   "metadata": {},
   "outputs": [],
   "source": [
    "r = requests.get(url.format('AC.gif'), allow_redirects=True)"
   ]
  },
  {
   "cell_type": "code",
   "execution_count": 24,
   "id": "6c9d6415-6b7f-4b68-8881-305a79cfe08d",
   "metadata": {},
   "outputs": [
    {
     "data": {
      "text/plain": [
       "<Response [200]>"
      ]
     },
     "execution_count": 24,
     "metadata": {},
     "output_type": "execute_result"
    }
   ],
   "source": [
    "r"
   ]
  },
  {
   "cell_type": "code",
   "execution_count": 25,
   "id": "45f0c2ff-4b81-49c8-83ea-703d49393226",
   "metadata": {},
   "outputs": [
    {
     "data": {
      "text/plain": [
       "'image/gif'"
      ]
     },
     "execution_count": 25,
     "metadata": {},
     "output_type": "execute_result"
    }
   ],
   "source": [
    "r.headers.get('content-type')"
   ]
  },
  {
   "cell_type": "code",
   "execution_count": 26,
   "id": "015c3288-91bd-4987-9089-3618e70116c4",
   "metadata": {},
   "outputs": [],
   "source": [
    "r.headers.get('content-disposition')"
   ]
  },
  {
   "cell_type": "code",
   "execution_count": 29,
   "id": "94bc864c-5d9a-45ee-a513-eaa1cb69f01e",
   "metadata": {},
   "outputs": [],
   "source": [
    "for estado in df.SIGLA.values:\n",
    "    file = f'{estado}.gif'\n",
    "    # print(file)\n",
    "    r = requests.get(url.format(file), allow_redirects=True)\n",
    "    with (data_path.joinpath('img', 'bandeiras') / file).open('wb') as f:\n",
    "        f.write(r.content)"
   ]
  },
  {
   "cell_type": "code",
   "execution_count": null,
   "id": "a2410dfa-1e26-44a3-a0b4-0b44666f9bd5",
   "metadata": {},
   "outputs": [],
   "source": []
  },
  {
   "cell_type": "code",
   "execution_count": null,
   "id": "d0c047fe-8bd1-41ec-b44d-1a7b4be3b2b9",
   "metadata": {},
   "outputs": [],
   "source": []
  },
  {
   "cell_type": "code",
   "execution_count": null,
   "id": "51940d79-e8f6-4461-be6f-b09d79c5aa57",
   "metadata": {},
   "outputs": [],
   "source": []
  }
 ],
 "metadata": {
  "kernelspec": {
   "display_name": "Python 3 (ipykernel)",
   "language": "python",
   "name": "python3"
  },
  "language_info": {
   "codemirror_mode": {
    "name": "ipython",
    "version": 3
   },
   "file_extension": ".py",
   "mimetype": "text/x-python",
   "name": "python",
   "nbconvert_exporter": "python",
   "pygments_lexer": "ipython3",
   "version": "3.10.6"
  }
 },
 "nbformat": 4,
 "nbformat_minor": 5
}
