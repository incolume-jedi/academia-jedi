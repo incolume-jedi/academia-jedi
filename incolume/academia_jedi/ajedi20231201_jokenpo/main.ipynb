{
 "cells": [
  {
   "cell_type": "code",
   "execution_count": 3,
   "metadata": {},
   "outputs": [],
   "source": [
    "from enum import Enum\n",
    "from dataclasses import dataclass"
   ]
  },
  {
   "cell_type": "code",
   "execution_count": 5,
   "metadata": {},
   "outputs": [],
   "source": [
    "class Jokenpo(Enum):\n",
    "    \"\"\"\"\"\"\n",
    "    PAPEL = 1\n",
    "    TESOURA = 2 \n",
    "    PEDRA = 3"
   ]
  },
  {
   "cell_type": "code",
   "execution_count": 8,
   "metadata": {},
   "outputs": [],
   "source": [
    "@dataclass\n",
    "class Jogador:\n",
    "    nome: str\n",
    "    lance: Jokenpo\n",
    "    vitorias: int = 0\n",
    "    derrotas: int = 0\n",
    "    empates: int = 0\n",
    "\n",
    "    def __lt__(self, __value: object) -> bool:\n",
    "        \"\"\"Menor que.\"\"\"\n",
    "        if __value.lance < self.lance or __value.lance:\n",
    "\n",
    "\n",
    "    def __eq__(self, __value: object) -> bool:\n",
    "        \"\"\"Equal.\"\"\"\n",
    "        if __value.lance == self.lance:\n",
    "            self.empates += 1\n",
    "\n",
    "    def __gt__(self, __value: object) -> bool:\n",
    "        \"\"\"Maior que.\"\"\"\n",
    "    \n"
   ]
  },
  {
   "cell_type": "code",
   "execution_count": null,
   "metadata": {},
   "outputs": [],
   "source": [
    "def classify_jokepo(jogador1: Jogador, jogador2: Jogador) -> Jogador:\n",
    "    \"\"\"\"\"\"\n",
    "    "
   ]
  },
  {
   "cell_type": "code",
   "execution_count": 13,
   "metadata": {},
   "outputs": [
    {
     "data": {
      "text/plain": [
       "<Jokenpo.PAPEL: 1>"
      ]
     },
     "execution_count": 13,
     "metadata": {},
     "output_type": "execute_result"
    }
   ],
   "source": [
    "Jokenpo.PAPEL"
   ]
  }
 ],
 "metadata": {
  "kernelspec": {
   "display_name": "academia-jedi",
   "language": "python",
   "name": "academia-jedi"
  },
  "language_info": {
   "codemirror_mode": {
    "name": "ipython",
    "version": 3
   },
   "file_extension": ".py",
   "mimetype": "text/x-python",
   "name": "python",
   "nbconvert_exporter": "python",
   "pygments_lexer": "ipython3",
   "version": "3.10.8"
  }
 },
 "nbformat": 4,
 "nbformat_minor": 2
}
