{
 "cells": [
  {
   "cell_type": "code",
   "execution_count": 1,
   "metadata": {},
   "outputs": [],
   "source": [
    "from enum import Enum\n",
    "from dataclasses import dataclass"
   ]
  },
  {
   "cell_type": "code",
   "execution_count": 2,
   "metadata": {},
   "outputs": [],
   "source": [
    "class Jokenpo(Enum):\n",
    "    \"\"\"\"\"\"\n",
    "    PAPEL = 1\n",
    "    TESOURA = 2 \n",
    "    PEDRA = 3\n",
    "    def __eq__(self, other):\n",
    "        return self.value == other.value\n",
    "    def __lt__(self, other):\n",
    "        return self.value < other.value or (self.name == 'PEDRA' and other.name == 'PAPEL')\n",
    "    def __gt__(self, other):\n",
    "        return self.value > other.value or (self.value == 3 and other.value == 1)"
   ]
  },
  {
   "cell_type": "code",
   "execution_count": 23,
   "metadata": {},
   "outputs": [],
   "source": [
    "@dataclass\n",
    "class Jogador:\n",
    "    nome: str\n",
    "    lance: Jokenpo\n",
    "    vitorias: int = 0\n",
    "    derrotas: int = 0\n",
    "    empates: int = 0\n",
    "\n",
    "    def __lt__(self, __value: object) -> bool:\n",
    "        \"\"\"Menor que.\"\"\"\n",
    "        if __value.lance > self.lance:\n",
    "            print(f'{__value.lance.name} x {self.lance.name}: {self.nome} lose')\n",
    "            __value.vitorias += 1\n",
    "            self.derrotas += 1\n",
    "            return True\n",
    "        return False\n",
    "\n",
    "    def __ilt__(self, __value: object) -> bool:\n",
    "        return self.__lt__(__value)\n",
    "        \n",
    "    def __eq__(self, __value: object) -> bool:\n",
    "        \"\"\"Equal.\"\"\"\n",
    "        if __value.lance == self.lance:\n",
    "            print(f'{__value.lance.name} x {self.lance.name}: {__value.nome} empate')\n",
    "            self.empates += 1\n",
    "            __value.empates += 1\n",
    "            return True\n",
    "        return False\n",
    "\n",
    "    def __gt__(self, __value: object) -> bool:\n",
    "        \"\"\"Maior que.\"\"\"\n",
    "        if __value.lance < self.lance:\n",
    "            print(f'{__value.lance.name} x {self.lance.name}: {self.nome} wins')\n",
    "            __value.derrotas += 1\n",
    "            self.vitorias += 1\n",
    "            return True\n",
    "        return False\n",
    "\n",
    "    def __igt__(self, __value: object) -> bool:\n",
    "        \"\"\"Maior que.\"\"\"\n",
    "        return self.__gt__(__value)\n",
    "    \n"
   ]
  },
  {
   "cell_type": "code",
   "execution_count": 4,
   "metadata": {},
   "outputs": [],
   "source": [
    "def classify_jokepo(jogador1: Jogador, jogador2: Jogador) -> Jogador:\n",
    "    \"\"\"\"\"\"\n",
    "    "
   ]
  },
  {
   "cell_type": "code",
   "execution_count": 5,
   "metadata": {},
   "outputs": [],
   "source": [
    "Jokenpo.PAPEL\n",
    "j1 = Jogador(nome='Brito', lance=Jokenpo(1))"
   ]
  },
  {
   "cell_type": "code",
   "execution_count": 6,
   "metadata": {},
   "outputs": [],
   "source": [
    "j2 = Jogador('Ricardo', Jokenpo(2))"
   ]
  },
  {
   "cell_type": "code",
   "execution_count": 7,
   "metadata": {},
   "outputs": [],
   "source": [
    "j3 = Jogador('RBrito', Jokenpo(3))"
   ]
  },
  {
   "cell_type": "code",
   "execution_count": 8,
   "metadata": {},
   "outputs": [
    {
     "data": {
      "text/plain": [
       "<Jokenpo.PAPEL: 1>"
      ]
     },
     "metadata": {},
     "output_type": "display_data"
    },
    {
     "data": {
      "text/plain": [
       "<Jokenpo.TESOURA: 2>"
      ]
     },
     "metadata": {},
     "output_type": "display_data"
    },
    {
     "data": {
      "text/plain": [
       "<Jokenpo.PEDRA: 3>"
      ]
     },
     "metadata": {},
     "output_type": "display_data"
    }
   ],
   "source": [
    "display(j1.lance)\n",
    "display(j2.lance)\n",
    "display(j3.lance)"
   ]
  },
  {
   "cell_type": "code",
   "execution_count": 35,
   "metadata": {},
   "outputs": [
    {
     "data": {
      "text/plain": [
       "'     Brito: 02(vit), 00(emp), 07(der)'"
      ]
     },
     "metadata": {},
     "output_type": "display_data"
    },
    {
     "data": {
      "text/plain": [
       "'   Ricardo: 03(vit), 00(emp), 03(der)'"
      ]
     },
     "metadata": {},
     "output_type": "display_data"
    },
    {
     "data": {
      "text/plain": [
       "'    RBrito: 07(vit), 00(emp), 02(der)'"
      ]
     },
     "metadata": {},
     "output_type": "display_data"
    }
   ],
   "source": [
    "def placar(*args):\n",
    "    for jogador in args:\n",
    "        display(f'{jogador.nome:>10}: {jogador.vitorias:02}(vit), {jogador.empates:02}(emp), {jogador.derrotas:02}(der)')\n",
    "\n",
    "placar(j1, j2, j3)"
   ]
  },
  {
   "cell_type": "code",
   "execution_count": 10,
   "metadata": {},
   "outputs": [
    {
     "data": {
      "text/plain": [
       "<Jokenpo.PAPEL: 1>"
      ]
     },
     "execution_count": 10,
     "metadata": {},
     "output_type": "execute_result"
    }
   ],
   "source": [
    "a = Jokenpo(1)\n",
    "a"
   ]
  },
  {
   "cell_type": "code",
   "execution_count": 24,
   "metadata": {},
   "outputs": [
    {
     "data": {
      "text/plain": [
       "False"
      ]
     },
     "execution_count": 24,
     "metadata": {},
     "output_type": "execute_result"
    }
   ],
   "source": [
    "j1 > j2"
   ]
  },
  {
   "cell_type": "code",
   "execution_count": 25,
   "metadata": {},
   "outputs": [
    {
     "name": "stdout",
     "output_type": "stream",
     "text": [
      "TESOURA x PAPEL: Brito lose\n"
     ]
    },
    {
     "data": {
      "text/plain": [
       "True"
      ]
     },
     "execution_count": 25,
     "metadata": {},
     "output_type": "execute_result"
    }
   ],
   "source": [
    "j1 < j2"
   ]
  },
  {
   "cell_type": "code",
   "execution_count": 26,
   "metadata": {},
   "outputs": [
    {
     "name": "stdout",
     "output_type": "stream",
     "text": [
      "PEDRA x PAPEL: Brito wins\n"
     ]
    },
    {
     "data": {
      "text/plain": [
       "True"
      ]
     },
     "execution_count": 26,
     "metadata": {},
     "output_type": "execute_result"
    }
   ],
   "source": [
    "j1 > j3"
   ]
  },
  {
   "cell_type": "code",
   "execution_count": 27,
   "metadata": {},
   "outputs": [
    {
     "name": "stdout",
     "output_type": "stream",
     "text": [
      "PEDRA x PAPEL: Brito lose\n"
     ]
    },
    {
     "data": {
      "text/plain": [
       "True"
      ]
     },
     "execution_count": 27,
     "metadata": {},
     "output_type": "execute_result"
    }
   ],
   "source": [
    "j1 < j3"
   ]
  },
  {
   "cell_type": "code",
   "execution_count": 28,
   "metadata": {},
   "outputs": [
    {
     "data": {
      "text/plain": [
       "False"
      ]
     },
     "execution_count": 28,
     "metadata": {},
     "output_type": "execute_result"
    }
   ],
   "source": [
    "j2 > j3"
   ]
  },
  {
   "cell_type": "code",
   "execution_count": 29,
   "metadata": {},
   "outputs": [
    {
     "name": "stdout",
     "output_type": "stream",
     "text": [
      "PEDRA x TESOURA: Ricardo lose\n"
     ]
    },
    {
     "data": {
      "text/plain": [
       "True"
      ]
     },
     "execution_count": 29,
     "metadata": {},
     "output_type": "execute_result"
    }
   ],
   "source": [
    "j2 < j3"
   ]
  },
  {
   "cell_type": "code",
   "execution_count": null,
   "metadata": {},
   "outputs": [],
   "source": []
  },
  {
   "cell_type": "code",
   "execution_count": 30,
   "metadata": {},
   "outputs": [
    {
     "data": {
      "text/plain": [
       "'j1.vitorias=2, j1.empates=0,j1.derrotas=7'"
      ]
     },
     "metadata": {},
     "output_type": "display_data"
    },
    {
     "data": {
      "text/plain": [
       "'j2.vitorias=3, j2.empates=0,j2.derrotas=3'"
      ]
     },
     "metadata": {},
     "output_type": "display_data"
    },
    {
     "data": {
      "text/plain": [
       "'j3.vitorias=7, j3.empates=0,j3.derrotas=2'"
      ]
     },
     "metadata": {},
     "output_type": "display_data"
    }
   ],
   "source": [
    "placar()"
   ]
  }
 ],
 "metadata": {
  "kernelspec": {
   "display_name": "academia-jedi",
   "language": "python",
   "name": "academia-jedi"
  },
  "language_info": {
   "codemirror_mode": {
    "name": "ipython",
    "version": 3
   },
   "file_extension": ".py",
   "mimetype": "text/x-python",
   "name": "python",
   "nbconvert_exporter": "python",
   "pygments_lexer": "ipython3",
   "version": "3.11.0"
  }
 },
 "nbformat": 4,
 "nbformat_minor": 4
}
