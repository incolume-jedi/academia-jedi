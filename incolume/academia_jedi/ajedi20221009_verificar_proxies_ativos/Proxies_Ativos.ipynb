{
 "cells": [
  {
   "cell_type": "code",
   "execution_count": 1,
   "id": "487bad22",
   "metadata": {},
   "outputs": [],
   "source": [
    "import pandas as pd\n",
    "import pathlib\n",
    "import requests\n",
    "from concurrent.futures import ThreadPoolExecutor"
   ]
  },
  {
   "cell_type": "code",
   "execution_count": 2,
   "id": "54a5baa2",
   "metadata": {},
   "outputs": [],
   "source": [
    "proxies_list = [\n",
    "    '',\n",
    "    '193.122.71.184:3128',\n",
    "    '198.59.191.234:8080',\n",
    "    '45.42.177.49:3128',\n",
    "    '49.0.2.242:8090',\n",
    "    '8.219.97.248:80',\n",
    "    '8.211.22.130:5678',\n",
    "]\n",
    "urls = ['https://httpbin.org/ip', 'http://google.com']"
   ]
  },
  {
   "cell_type": "code",
   "execution_count": 3,
   "id": "5847d8c6",
   "metadata": {},
   "outputs": [
    {
     "data": {
      "text/html": [
       "<div>\n",
       "<style scoped>\n",
       "    .dataframe tbody tr th:only-of-type {\n",
       "        vertical-align: middle;\n",
       "    }\n",
       "\n",
       "    .dataframe tbody tr th {\n",
       "        vertical-align: top;\n",
       "    }\n",
       "\n",
       "    .dataframe thead th {\n",
       "        text-align: right;\n",
       "    }\n",
       "</style>\n",
       "<table border=\"1\" class=\"dataframe\">\n",
       "  <thead>\n",
       "    <tr style=\"text-align: right;\">\n",
       "      <th></th>\n",
       "      <th>PROXY</th>\n",
       "    </tr>\n",
       "  </thead>\n",
       "  <tbody>\n",
       "    <tr>\n",
       "      <th>0</th>\n",
       "      <td></td>\n",
       "    </tr>\n",
       "    <tr>\n",
       "      <th>1</th>\n",
       "      <td>193.122.71.184:3128</td>\n",
       "    </tr>\n",
       "    <tr>\n",
       "      <th>2</th>\n",
       "      <td>198.59.191.234:8080</td>\n",
       "    </tr>\n",
       "    <tr>\n",
       "      <th>3</th>\n",
       "      <td>45.42.177.49:3128</td>\n",
       "    </tr>\n",
       "    <tr>\n",
       "      <th>4</th>\n",
       "      <td>49.0.2.242:8090</td>\n",
       "    </tr>\n",
       "    <tr>\n",
       "      <th>5</th>\n",
       "      <td>8.219.97.248:80</td>\n",
       "    </tr>\n",
       "    <tr>\n",
       "      <th>6</th>\n",
       "      <td>8.211.22.130:5678</td>\n",
       "    </tr>\n",
       "  </tbody>\n",
       "</table>\n",
       "</div>"
      ],
      "text/plain": [
       "                 PROXY\n",
       "0                     \n",
       "1  193.122.71.184:3128\n",
       "2  198.59.191.234:8080\n",
       "3    45.42.177.49:3128\n",
       "4      49.0.2.242:8090\n",
       "5      8.219.97.248:80\n",
       "6    8.211.22.130:5678"
      ]
     },
     "execution_count": 3,
     "metadata": {},
     "output_type": "execute_result"
    }
   ],
   "source": [
    "df = pd.DataFrame(proxies_list, columns=['PROXY'])\n",
    "df"
   ]
  },
  {
   "cell_type": "code",
   "execution_count": 4,
   "id": "e26ac9c1",
   "metadata": {},
   "outputs": [
    {
     "data": {
      "text/plain": [
       "<generator object Path.glob at 0x7ff544fa7290>"
      ]
     },
     "metadata": {},
     "output_type": "display_data"
    },
    {
     "data": {
      "text/plain": [
       "<generator object Path.glob at 0x7ff544fa7300>"
      ]
     },
     "metadata": {},
     "output_type": "display_data"
    }
   ],
   "source": [
    "files_csv = (\n",
    "    pathlib.Path().absolute().parent.joinpath('data_files').glob('*.csv')\n",
    ")\n",
    "files_json = (\n",
    "    pathlib.Path().absolute().parent.joinpath('data_files').glob('*.json')\n",
    ")\n",
    "display(files_csv, files_json)\n",
    "# display(next(files_csv), next(files_json))"
   ]
  },
  {
   "cell_type": "code",
   "execution_count": 5,
   "id": "d1cbd0d5",
   "metadata": {},
   "outputs": [
    {
     "name": "stdout",
     "output_type": "stream",
     "text": [
      "/home/brito/projetos/treinamentos/academia-jedi/data_files/proxies_1663510211.csv\n",
      "/home/brito/projetos/treinamentos/academia-jedi/data_files/proxies_1663510576.csv\n",
      "/home/brito/projetos/treinamentos/academia-jedi/data_files/proxies_1663514130.csv\n",
      "/home/brito/projetos/treinamentos/academia-jedi/data_files/proxies_1663510256.csv\n",
      "<class 'pandas.core.frame.DataFrame'>\n",
      "Int64Index: 126 entries, 0 to 12\n",
      "Data columns (total 1 columns):\n",
      " #   Column  Non-Null Count  Dtype \n",
      "---  ------  --------------  ----- \n",
      " 0   PROXY   126 non-null    object\n",
      "dtypes: object(1)\n",
      "memory usage: 2.0+ KB\n"
     ]
    }
   ],
   "source": [
    "files_csv = (\n",
    "    pathlib.Path().absolute().parent.joinpath('data_files').glob('*.csv')\n",
    ")\n",
    "\n",
    "for file in files_csv:\n",
    "    print(file)\n",
    "    df = pd.concat((df, pd.read_csv(file)))\n",
    "df.info()"
   ]
  },
  {
   "cell_type": "code",
   "execution_count": 6,
   "id": "dfd968f7",
   "metadata": {},
   "outputs": [
    {
     "name": "stdout",
     "output_type": "stream",
     "text": [
      "/home/brito/projetos/treinamentos/academia-jedi/data_files/proxies_1663510576.json\n",
      "/home/brito/projetos/treinamentos/academia-jedi/data_files/proxies_1663510533.json\n",
      "/home/brito/projetos/treinamentos/academia-jedi/data_files/proxies_1663514130.json\n",
      "<class 'pandas.core.frame.DataFrame'>\n",
      "Int64Index: 235 entries, 0 to 75\n",
      "Data columns (total 1 columns):\n",
      " #   Column  Non-Null Count  Dtype \n",
      "---  ------  --------------  ----- \n",
      " 0   PROXY   235 non-null    object\n",
      "dtypes: object(1)\n",
      "memory usage: 3.7+ KB\n"
     ]
    }
   ],
   "source": [
    "files_json = (\n",
    "    pathlib.Path().absolute().parent.joinpath('data_files').glob('*.json')\n",
    ")\n",
    "\n",
    "for file in files_json:\n",
    "    print(file)\n",
    "    df = pd.concat((df, pd.read_json(file)))\n",
    "df.info()"
   ]
  },
  {
   "cell_type": "code",
   "execution_count": 7,
   "id": "40a2289e",
   "metadata": {},
   "outputs": [
    {
     "data": {
      "text/plain": [
       "0                         \n",
       "1      193.122.71.184:3128\n",
       "2      198.59.191.234:8080\n",
       "3        45.42.177.49:3128\n",
       "4          49.0.2.242:8090\n",
       "              ...         \n",
       "71     89.107.197.165:3128\n",
       "72    172.105.184.208:8001\n",
       "73      47.241.165.133:443\n",
       "74        202.1.197.227:80\n",
       "75      47.91.57.176:30001\n",
       "Name: PROXY, Length: 235, dtype: object"
      ]
     },
     "execution_count": 7,
     "metadata": {},
     "output_type": "execute_result"
    }
   ],
   "source": [
    "df.PROXY"
   ]
  },
  {
   "cell_type": "code",
   "execution_count": 8,
   "id": "a3cf0d39",
   "metadata": {},
   "outputs": [
    {
     "data": {
      "text/plain": [
       "array(['', '1.32.59.217:47045', '103.1.95.47:8080', '103.252.1.137:3128',\n",
       "       '105.112.191.250:3128', '110.238.104.109:30001',\n",
       "       '115.79.26.177:8080', '130.41.55.190:8080', '135.125.106.131:3128',\n",
       "       '139.162.44.152:22365', '139.59.113.229:8080',\n",
       "       '141.94.184.230:3128', '154.212.7.242:999', '157.100.12.138:999',\n",
       "       '157.100.53.100:999', '158.247.199.27:8081',\n",
       "       '172.105.184.208:8001', '172.105.25.190:8020', '173.244.48.9:3128',\n",
       "       '177.234.217.83:999', '177.234.217.85:999', '181.78.27.38:999',\n",
       "       '185.150.130.103:808', '186.96.67.238:999', '189.223.88.61:999',\n",
       "       '189.238.232.123:999', '190.107.237.21:999', '190.95.199.146:999',\n",
       "       '191.97.16.111:999', '192.210.196.222:8118', '193.122.71.184:3128',\n",
       "       '196.216.132.9:8080', '198.59.191.234:8080', '20.163.160.128:8000',\n",
       "       '20.163.162.171:8000', '20.163.162.9:8000', '20.24.181.133:80',\n",
       "       '20.254.52.236:8000', '20.54.56.26:8080', '20.81.62.32:3128',\n",
       "       '20.87.10.146:8000', '200.105.215.18:33630', '201.71.2.41:999',\n",
       "       '201.71.2.97:999', '202.1.197.227:80', '212.71.255.43:38613',\n",
       "       '217.19.36.62:8080', '36.89.218.67:8080', '38.41.0.88:999',\n",
       "       '41.65.168.51:1981', '41.65.251.86:1976', '45.162.75.194:999',\n",
       "       '45.189.254.162:999', '45.42.177.17:3128', '45.42.177.49:3128',\n",
       "       '45.42.177.50:3128', '45.56.83.46:8013', '45.79.111.38:999',\n",
       "       '45.79.253.142:4153', '45.79.90.143:3128', '47.241.165.133:443',\n",
       "       '47.242.202.128:54466', '47.250.47.208:36389', '47.250.47.37:1100',\n",
       "       '47.252.4.64:8888', '47.253.0.126:31726', '47.254.153.200:80',\n",
       "       '47.254.247.233:4153', '47.88.6.186:30001', '47.91.57.176:30001',\n",
       "       '49.0.2.242:8090', '5.189.184.6:80', '51.159.162.151:80',\n",
       "       '61.7.146.7:8082', '62.193.108.135:1981', '65.21.141.242:10100',\n",
       "       '8.209.127.181:1080', '8.211.22.130:5678', '8.211.22.40:1080',\n",
       "       '8.219.97.248:80', '80.80.211.110:8080', '89.107.197.165:3128',\n",
       "       '96.126.103.64:999'], dtype=object)"
      ]
     },
     "execution_count": 8,
     "metadata": {},
     "output_type": "execute_result"
    }
   ],
   "source": [
    "df.PROXY.sort_values().unique()"
   ]
  },
  {
   "cell_type": "code",
   "execution_count": 11,
   "id": "c94b1e04",
   "metadata": {},
   "outputs": [
    {
     "data": {
      "text/plain": [
       "True"
      ]
     },
     "execution_count": 11,
     "metadata": {},
     "output_type": "execute_result"
    }
   ],
   "source": [
    "set(proxies_list).issubset(df.PROXY.sort_values().unique())"
   ]
  },
  {
   "cell_type": "code",
   "execution_count": 9,
   "id": "ff93f859",
   "metadata": {},
   "outputs": [
    {
     "data": {
      "text/plain": [
       "array(['', '1.32.59.217:47045', '103.1.95.47:8080', '103.252.1.137:3128',\n",
       "       '105.112.191.250:3128', '110.238.104.109:30001',\n",
       "       '115.79.26.177:8080', '130.41.55.190:8080', '135.125.106.131:3128',\n",
       "       '139.162.44.152:22365', '139.59.113.229:8080',\n",
       "       '141.94.184.230:3128', '154.212.7.242:999', '157.100.12.138:999',\n",
       "       '157.100.53.100:999', '158.247.199.27:8081',\n",
       "       '172.105.184.208:8001', '172.105.25.190:8020', '173.244.48.9:3128',\n",
       "       '177.234.217.83:999', '177.234.217.85:999', '181.78.27.38:999',\n",
       "       '185.150.130.103:808', '186.96.67.238:999', '189.223.88.61:999',\n",
       "       '189.238.232.123:999', '190.107.237.21:999', '190.95.199.146:999',\n",
       "       '191.97.16.111:999', '192.210.196.222:8118', '193.122.71.184:3128',\n",
       "       '196.216.132.9:8080', '198.59.191.234:8080', '20.163.160.128:8000',\n",
       "       '20.163.162.171:8000', '20.163.162.9:8000', '20.24.181.133:80',\n",
       "       '20.254.52.236:8000', '20.54.56.26:8080', '20.81.62.32:3128',\n",
       "       '20.87.10.146:8000', '200.105.215.18:33630', '201.71.2.41:999',\n",
       "       '201.71.2.97:999', '202.1.197.227:80', '212.71.255.43:38613',\n",
       "       '217.19.36.62:8080', '36.89.218.67:8080', '38.41.0.88:999',\n",
       "       '41.65.168.51:1981', '41.65.251.86:1976', '45.162.75.194:999',\n",
       "       '45.189.254.162:999', '45.42.177.17:3128', '45.42.177.49:3128',\n",
       "       '45.42.177.50:3128', '45.56.83.46:8013', '45.79.111.38:999',\n",
       "       '45.79.253.142:4153', '45.79.90.143:3128', '47.241.165.133:443',\n",
       "       '47.242.202.128:54466', '47.250.47.208:36389', '47.250.47.37:1100',\n",
       "       '47.252.4.64:8888', '47.253.0.126:31726', '47.254.153.200:80',\n",
       "       '47.254.247.233:4153', '47.88.6.186:30001', '47.91.57.176:30001',\n",
       "       '49.0.2.242:8090', '5.189.184.6:80', '51.159.162.151:80',\n",
       "       '61.7.146.7:8082', '62.193.108.135:1981', '65.21.141.242:10100',\n",
       "       '8.209.127.181:1080', '8.211.22.130:5678', '8.211.22.40:1080',\n",
       "       '8.219.97.248:80', '80.80.211.110:8080', '89.107.197.165:3128',\n",
       "       '96.126.103.64:999'], dtype=object)"
      ]
     },
     "execution_count": 9,
     "metadata": {},
     "output_type": "execute_result"
    }
   ],
   "source": [
    "proxies_list = df.PROXY.sort_values().unique()\n",
    "proxies_list"
   ]
  },
  {
   "cell_type": "code",
   "execution_count": 10,
   "id": "86a62ea7",
   "metadata": {
    "scrolled": true
   },
   "outputs": [
    {
     "data": {
      "text/plain": [
       "['',\n",
       " '1.32.59.217:47045',\n",
       " '103.1.95.47:8080',\n",
       " '103.252.1.137:3128',\n",
       " '105.112.191.250:3128',\n",
       " '110.238.104.109:30001',\n",
       " '115.79.26.177:8080',\n",
       " '130.41.55.190:8080',\n",
       " '135.125.106.131:3128',\n",
       " '139.162.44.152:22365',\n",
       " '139.59.113.229:8080',\n",
       " '141.94.184.230:3128',\n",
       " '154.212.7.242:999',\n",
       " '157.100.12.138:999',\n",
       " '157.100.53.100:999',\n",
       " '158.247.199.27:8081',\n",
       " '172.105.184.208:8001',\n",
       " '172.105.25.190:8020',\n",
       " '173.244.48.9:3128',\n",
       " '177.234.217.83:999',\n",
       " '177.234.217.85:999',\n",
       " '181.78.27.38:999',\n",
       " '185.150.130.103:808',\n",
       " '186.96.67.238:999',\n",
       " '189.223.88.61:999',\n",
       " '189.238.232.123:999',\n",
       " '190.107.237.21:999',\n",
       " '190.95.199.146:999',\n",
       " '191.97.16.111:999',\n",
       " '192.210.196.222:8118',\n",
       " '193.122.71.184:3128',\n",
       " '196.216.132.9:8080',\n",
       " '198.59.191.234:8080',\n",
       " '20.163.160.128:8000',\n",
       " '20.163.162.171:8000',\n",
       " '20.163.162.9:8000',\n",
       " '20.24.181.133:80',\n",
       " '20.254.52.236:8000',\n",
       " '20.54.56.26:8080',\n",
       " '20.81.62.32:3128',\n",
       " '20.87.10.146:8000',\n",
       " '200.105.215.18:33630',\n",
       " '201.71.2.41:999',\n",
       " '201.71.2.97:999',\n",
       " '202.1.197.227:80',\n",
       " '212.71.255.43:38613',\n",
       " '217.19.36.62:8080',\n",
       " '36.89.218.67:8080',\n",
       " '38.41.0.88:999',\n",
       " '41.65.168.51:1981',\n",
       " '41.65.251.86:1976',\n",
       " '45.162.75.194:999',\n",
       " '45.189.254.162:999',\n",
       " '45.42.177.17:3128',\n",
       " '45.42.177.49:3128',\n",
       " '45.42.177.50:3128',\n",
       " '45.56.83.46:8013',\n",
       " '45.79.111.38:999',\n",
       " '45.79.253.142:4153',\n",
       " '45.79.90.143:3128',\n",
       " '47.241.165.133:443',\n",
       " '47.242.202.128:54466',\n",
       " '47.250.47.208:36389',\n",
       " '47.250.47.37:1100',\n",
       " '47.252.4.64:8888',\n",
       " '47.253.0.126:31726',\n",
       " '47.254.153.200:80',\n",
       " '47.254.247.233:4153',\n",
       " '47.88.6.186:30001',\n",
       " '47.91.57.176:30001',\n",
       " '49.0.2.242:8090',\n",
       " '5.189.184.6:80',\n",
       " '51.159.162.151:80',\n",
       " '61.7.146.7:8082',\n",
       " '62.193.108.135:1981',\n",
       " '65.21.141.242:10100',\n",
       " '8.209.127.181:1080',\n",
       " '8.211.22.130:5678',\n",
       " '8.211.22.40:1080',\n",
       " '8.219.97.248:80',\n",
       " '80.80.211.110:8080',\n",
       " '89.107.197.165:3128',\n",
       " '96.126.103.64:999']"
      ]
     },
     "execution_count": 10,
     "metadata": {},
     "output_type": "execute_result"
    }
   ],
   "source": [
    "sorted(proxies_list)"
   ]
  },
  {
   "cell_type": "code",
   "execution_count": 13,
   "id": "618ecaed",
   "metadata": {},
   "outputs": [
    {
     "data": {
      "text/plain": [
       "200"
      ]
     },
     "metadata": {},
     "output_type": "display_data"
    },
    {
     "data": {
      "text/plain": [
       "{'origin': '170.150.147.25'}"
      ]
     },
     "metadata": {},
     "output_type": "display_data"
    },
    {
     "data": {
      "text/plain": [
       "{'Date': 'Mon, 19 Sep 2022 11:16:03 GMT', 'Content-Type': 'application/json', 'Content-Length': '33', 'Connection': 'keep-alive', 'Server': 'gunicorn/19.9.0', 'Access-Control-Allow-Origin': '*', 'Access-Control-Allow-Credentials': 'true'}"
      ]
     },
     "metadata": {},
     "output_type": "display_data"
    },
    {
     "data": {
      "text/plain": [
       "<RequestsCookieJar[]>"
      ]
     },
     "metadata": {},
     "output_type": "display_data"
    }
   ],
   "source": [
    "proxies = {'http': proxies_list[0], 'https': proxies_list[0]}\n",
    "r = requests.get(urls[0], proxies=proxies, timeout=3)\n",
    "display(r.status_code)\n",
    "display(r.json())\n",
    "display(r.headers)\n",
    "display(r.cookies)"
   ]
  },
  {
   "cell_type": "code",
   "execution_count": 25,
   "id": "7540947d",
   "metadata": {},
   "outputs": [],
   "source": [
    "def is_checked_proxy(proxy: str) -> bool:\n",
    "    try:\n",
    "        proxies = {'http': proxy, 'https': proxy}\n",
    "        r = requests.get('https://httpbin.org/ip', proxies=proxies, timeout=3)\n",
    "    except:\n",
    "        return False\n",
    "\n",
    "    return True"
   ]
  },
  {
   "cell_type": "code",
   "execution_count": 26,
   "id": "f4c42206",
   "metadata": {
    "scrolled": true
   },
   "outputs": [
    {
     "data": {
      "text/plain": [
       "True"
      ]
     },
     "execution_count": 26,
     "metadata": {},
     "output_type": "execute_result"
    }
   ],
   "source": [
    "is_checked_proxy(proxy=proxies_list[0])"
   ]
  },
  {
   "cell_type": "code",
   "execution_count": null,
   "id": "3d1b7551",
   "metadata": {},
   "outputs": [],
   "source": []
  },
  {
   "cell_type": "code",
   "execution_count": 27,
   "id": "daa264b5",
   "metadata": {
    "scrolled": true
   },
   "outputs": [
    {
     "name": "stdout",
     "output_type": "stream",
     "text": [
      "True \n",
      "False 1.32.59.217:47045\n",
      "False 103.1.95.47:8080\n",
      "False 103.252.1.137:3128\n",
      "False 105.112.191.250:3128\n",
      "False 110.238.104.109:30001\n",
      "False 115.79.26.177:8080\n",
      "False 130.41.55.190:8080\n",
      "True 135.125.106.131:3128\n",
      "False 139.162.44.152:22365\n",
      "True 139.59.113.229:8080\n",
      "True 141.94.184.230:3128\n",
      "False 154.212.7.242:999\n",
      "True 157.100.12.138:999\n",
      "True 157.100.53.100:999\n",
      "False 158.247.199.27:8081\n",
      "False 172.105.184.208:8001\n",
      "False 172.105.25.190:8020\n",
      "True 173.244.48.9:3128\n",
      "False 177.234.217.83:999\n",
      "False 177.234.217.85:999\n",
      "False 181.78.27.38:999\n",
      "False 185.150.130.103:808\n",
      "True 186.96.67.238:999\n",
      "False 189.223.88.61:999\n",
      "False 189.238.232.123:999\n",
      "False 190.107.237.21:999\n",
      "False 190.95.199.146:999\n",
      "False 191.97.16.111:999\n",
      "False 192.210.196.222:8118\n",
      "True 193.122.71.184:3128\n",
      "False 196.216.132.9:8080\n",
      "False 198.59.191.234:8080\n",
      "False 20.163.160.128:8000\n",
      "True 20.163.162.171:8000\n",
      "False 20.163.162.9:8000\n",
      "False 20.24.181.133:80\n",
      "False 20.254.52.236:8000\n",
      "True 20.54.56.26:8080\n",
      "False 20.81.62.32:3128\n",
      "True 20.87.10.146:8000\n",
      "False 200.105.215.18:33630\n",
      "False 201.71.2.41:999\n",
      "False 201.71.2.97:999\n",
      "False 202.1.197.227:80\n",
      "False 212.71.255.43:38613\n",
      "False 217.19.36.62:8080\n",
      "True 36.89.218.67:8080\n",
      "False 38.41.0.88:999\n",
      "False 41.65.168.51:1981\n",
      "False 41.65.251.86:1976\n",
      "False 45.162.75.194:999\n",
      "False 45.189.254.162:999\n",
      "True 45.42.177.17:3128\n",
      "True 45.42.177.49:3128\n",
      "True 45.42.177.50:3128\n",
      "False 45.56.83.46:8013\n",
      "False 45.79.111.38:999\n",
      "False 45.79.253.142:4153\n",
      "False 45.79.90.143:3128\n",
      "False 47.241.165.133:443\n",
      "False 47.242.202.128:54466\n",
      "False 47.250.47.208:36389\n",
      "False 47.250.47.37:1100\n",
      "False 47.252.4.64:8888\n",
      "False 47.253.0.126:31726\n",
      "True 47.254.153.200:80\n",
      "False 47.254.247.233:4153\n",
      "False 47.88.6.186:30001\n",
      "False 47.91.57.176:30001\n",
      "False 49.0.2.242:8090\n",
      "False 5.189.184.6:80\n",
      "False 51.159.162.151:80\n",
      "False 61.7.146.7:8082\n",
      "False 62.193.108.135:1981\n",
      "False 65.21.141.242:10100\n",
      "False 8.209.127.181:1080\n",
      "False 8.211.22.130:5678\n",
      "False 8.211.22.40:1080\n",
      "True 8.219.97.248:80\n",
      "False 80.80.211.110:8080\n",
      "False 89.107.197.165:3128\n",
      "False 96.126.103.64:999\n"
     ]
    }
   ],
   "source": [
    "for proxy in proxies_list:\n",
    "    print(is_checked_proxy(proxy), proxy)"
   ]
  },
  {
   "cell_type": "code",
   "execution_count": 28,
   "id": "b67ac3ac",
   "metadata": {},
   "outputs": [],
   "source": [
    "def proxy_checked(proxies: list) -> bool:\n",
    "    for proxy in proxies:\n",
    "        if is_checked_proxy(proxy):\n",
    "            yield proxy"
   ]
  },
  {
   "cell_type": "code",
   "execution_count": 31,
   "id": "ab15b6c7",
   "metadata": {},
   "outputs": [
    {
     "data": {
      "text/plain": [
       "''"
      ]
     },
     "execution_count": 31,
     "metadata": {},
     "output_type": "execute_result"
    }
   ],
   "source": [
    "valid_proxy = proxy_checked(proxies_list)\n",
    "next(valid_proxy)"
   ]
  },
  {
   "cell_type": "code",
   "execution_count": 32,
   "id": "47ea7cf0",
   "metadata": {},
   "outputs": [
    {
     "data": {
      "text/plain": [
       "'135.125.106.131:3128'"
      ]
     },
     "execution_count": 32,
     "metadata": {},
     "output_type": "execute_result"
    }
   ],
   "source": [
    "next(valid_proxy)"
   ]
  },
  {
   "cell_type": "code",
   "execution_count": null,
   "id": "53653232",
   "metadata": {},
   "outputs": [],
   "source": []
  },
  {
   "cell_type": "code",
   "execution_count": 45,
   "id": "f1340e5e",
   "metadata": {},
   "outputs": [
    {
     "data": {
      "text/plain": [
       "[<generator object Executor.map.<locals>.result_iterator at 0x7ff542775850>]"
      ]
     },
     "execution_count": 45,
     "metadata": {},
     "output_type": "execute_result"
    }
   ],
   "source": [
    "results = []\n",
    "with ThreadPoolExecutor() as executor:\n",
    "    results.append(executor.map(proxy_checked, proxies_list))\n",
    "\n",
    "[result for result in results]"
   ]
  },
  {
   "cell_type": "code",
   "execution_count": 43,
   "id": "f2a41423",
   "metadata": {},
   "outputs": [
    {
     "data": {
      "text/plain": [
       "[<Future at 0x7ff5427e3490 state=finished returned bool>]"
      ]
     },
     "execution_count": 43,
     "metadata": {},
     "output_type": "execute_result"
    }
   ],
   "source": [
    "with ThreadPoolExecutor() as executor:\n",
    "    results = [executor.submit(is_checked_proxy, proxies_list)]"
   ]
  },
  {
   "cell_type": "code",
   "execution_count": null,
   "id": "a4d2b4a5",
   "metadata": {},
   "outputs": [],
   "source": []
  }
 ],
 "metadata": {
  "kernelspec": {
   "display_name": "academia-jedi",
   "language": "python",
   "name": "academia-jedi"
  },
  "language_info": {
   "codemirror_mode": {
    "name": "ipython",
    "version": 3
   },
   "file_extension": ".py",
   "mimetype": "text/x-python",
   "name": "python",
   "nbconvert_exporter": "python",
   "pygments_lexer": "ipython3",
   "version": "3.10.5"
  }
 },
 "nbformat": 4,
 "nbformat_minor": 5
}
