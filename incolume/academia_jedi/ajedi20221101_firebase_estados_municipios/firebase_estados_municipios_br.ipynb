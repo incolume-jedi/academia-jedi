{
 "cells": [
  {
   "cell_type": "markdown",
   "id": "f5a4c287-1a37-40f0-ab63-f5b8a74e5079",
   "metadata": {},
   "source": [
    "# Firebase\n",
    "## Estados e Municipios Brasileiros"
   ]
  },
  {
   "cell_type": "code",
   "execution_count": null,
   "id": "5a9ebc91-94b0-4ec1-b674-c3d7f4eecaaa",
   "metadata": {},
   "outputs": [],
   "source": []
  }
 ],
 "metadata": {
  "kernelspec": {
   "display_name": "Python 3 (ipykernel)",
   "language": "python",
   "name": "python3"
  },
  "language_info": {
   "codemirror_mode": {
    "name": "ipython",
    "version": 3
   },
   "file_extension": ".py",
   "mimetype": "text/x-python",
   "name": "python",
   "nbconvert_exporter": "python",
   "pygments_lexer": "ipython3",
   "version": "3.10.6"
  }
 },
 "nbformat": 4,
 "nbformat_minor": 5
}
