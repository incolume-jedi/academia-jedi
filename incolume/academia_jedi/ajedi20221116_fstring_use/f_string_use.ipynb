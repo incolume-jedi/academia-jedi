{
 "cells": [
  {
   "cell_type": "markdown",
   "id": "b6c4dc74-92f0-4025-9451-62f5b5f87196",
   "metadata": {},
   "source": [
    "# Exemplos com Ftrings"
   ]
  },
  {
   "cell_type": "code",
   "execution_count": 1,
   "id": "3dfa736f-134e-4680-a454-066e2be1c161",
   "metadata": {},
   "outputs": [],
   "source": [
    "from math import pi"
   ]
  },
  {
   "cell_type": "code",
   "execution_count": 5,
   "id": "ab9c2dfe-b74c-40d8-ac4c-ca2f9899f1c1",
   "metadata": {},
   "outputs": [],
   "source": [
    "number = 1000000000\n",
    "n = 1_000_000_000_000\n",
    "title = 'title'"
   ]
  },
  {
   "cell_type": "markdown",
   "id": "740b6979-dac2-44ca-ba57-cd24860a12e0",
   "metadata": {},
   "source": [
    "## Uso de valores sem formatação"
   ]
  },
  {
   "cell_type": "code",
   "execution_count": 6,
   "id": "2dc241bb-1b3f-40cf-9d9d-1af3c178c528",
   "metadata": {},
   "outputs": [
    {
     "name": "stdout",
     "output_type": "stream",
     "text": [
      "3.141592653589793\n",
      "1000000000\n",
      "1000000000000\n",
      "title\n"
     ]
    }
   ],
   "source": [
    "print(pi)\n",
    "print(number)\n",
    "print(n)\n",
    "print(title)"
   ]
  },
  {
   "cell_type": "markdown",
   "id": "93830eb1-87e6-4cce-95b4-8d6284397646",
   "metadata": {},
   "source": [
    "# Uso de valores com formação"
   ]
  },
  {
   "cell_type": "markdown",
   "id": "9edaefed-1d40-40f7-916a-fddad59fd038",
   "metadata": {},
   "source": [
    "## Alinhamento"
   ]
  },
  {
   "cell_type": "code",
   "execution_count": 38,
   "id": "85f25eaf-2a9f-49f6-bc92-54c23c97af1b",
   "metadata": {},
   "outputs": [
    {
     "name": "stdout",
     "output_type": "stream",
     "text": [
      "title:_^30\n"
     ]
    }
   ],
   "source": [
    "print(f'{title}:_^30')"
   ]
  },
  {
   "cell_type": "code",
   "execution_count": 30,
   "id": "be782f09-30cb-4faa-9538-2f158c599545",
   "metadata": {},
   "outputs": [
    {
     "name": "stdout",
     "output_type": "stream",
     "text": [
      "1 void\n",
      "2 void\n",
      "3 void\n",
      "4 void\n",
      "5 void\n",
      "6 void\n",
      "7 void\n",
      "8 void\n",
      "9 void\n",
      "10 void\n"
     ]
    }
   ],
   "source": [
    "for i in range(1, 11):\n",
    "    print(i, 'void')"
   ]
  },
  {
   "cell_type": "code",
   "execution_count": 33,
   "id": "00378702-e808-42bf-bba6-57806c138a7f",
   "metadata": {},
   "outputs": [
    {
     "name": "stdout",
     "output_type": "stream",
     "text": [
      "001 void\n",
      "002 void\n",
      "003 void\n",
      "004 void\n",
      "005 void\n",
      "006 void\n",
      "007 void\n",
      "008 void\n",
      "009 void\n",
      "010 void\n"
     ]
    }
   ],
   "source": [
    "for i in range(1, 11):\n",
    "    print(f'{i:03}', 'void')"
   ]
  },
  {
   "cell_type": "code",
   "execution_count": 34,
   "id": "6a1a228e-4df5-4395-af84-0736bede5c7f",
   "metadata": {},
   "outputs": [
    {
     "name": "stdout",
     "output_type": "stream",
     "text": [
      "001 void\n",
      "002 void\n",
      "003 void\n",
      "004 void\n",
      "005 void\n",
      "006 void\n",
      "007 void\n",
      "008 void\n",
      "009 void\n",
      "010 void\n"
     ]
    }
   ],
   "source": [
    "for i in range(1, 11):\n",
    "    print(f'{i:03} void')"
   ]
  }
 ],
 "metadata": {
  "kernelspec": {
   "display_name": "Python 3 (ipykernel)",
   "language": "python",
   "name": "python3"
  },
  "language_info": {
   "codemirror_mode": {
    "name": "ipython",
    "version": 3
   },
   "file_extension": ".py",
   "mimetype": "text/x-python",
   "name": "python",
   "nbconvert_exporter": "python",
   "pygments_lexer": "ipython3",
   "version": "3.10.6"
  }
 },
 "nbformat": 4,
 "nbformat_minor": 5
}
