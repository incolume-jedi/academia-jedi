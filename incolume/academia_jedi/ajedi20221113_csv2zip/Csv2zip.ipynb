{
 "cells": [
  {
   "cell_type": "markdown",
   "id": "efe91eb2-8b68-4b39-8869-d4ed1ef8ebaa",
   "metadata": {
    "tags": []
   },
   "source": [
    "# CSV to ZIP file\n",
    "\n",
    "\n",
    "# Este módulo tem o objetivo de carregar dados de arquivo zip sem descompactar arquivos em disco."
   ]
  },
  {
   "cell_type": "markdown",
   "id": "6a227a3d-f130-4112-b529-af7bef1fae3f",
   "metadata": {
    "tags": []
   },
   "source": [
    "## Imports"
   ]
  },
  {
   "cell_type": "code",
   "execution_count": 1,
   "id": "a9ad41cc-8a52-47cd-8d49-695d5b0d3e8b",
   "metadata": {},
   "outputs": [],
   "source": [
    "import zipfile\n",
    "from pathlib import Path\n",
    "from tempfile import tempdir\n",
    "from os import chdir, getcwd"
   ]
  },
  {
   "cell_type": "markdown",
   "id": "ef78c703-3944-4859-8437-484680817a89",
   "metadata": {
    "tags": []
   },
   "source": [
    "## Variáveis"
   ]
  },
  {
   "cell_type": "code",
   "execution_count": 2,
   "id": "5c71951b-c2d9-4592-ac92-29597a17524e",
   "metadata": {},
   "outputs": [
    {
     "data": {
      "text/plain": [
       "True"
      ]
     },
     "execution_count": 2,
     "metadata": {},
     "output_type": "execute_result"
    }
   ],
   "source": [
    "file = Path('PostgreSQLPython.zip')\n",
    "file.exists()"
   ]
  },
  {
   "cell_type": "markdown",
   "id": "190d663c-a0c4-4064-ba50-c5a7ebd7ff76",
   "metadata": {},
   "source": [
    "## Exemplos de acesso"
   ]
  },
  {
   "cell_type": "code",
   "execution_count": 3,
   "id": "79c9a392-0155-4062-ae84-5c00eeb347fc",
   "metadata": {},
   "outputs": [
    {
     "name": "stdout",
     "output_type": "stream",
     "text": [
      "File Name                                             Modified             Size\n",
      "PostgreSQLPython/~$PostgreSQLPython.pptx       2021-01-02 11:42:32          165\n",
      "PostgreSQLPython/~$PythonSQLDW.pptx            2020-10-18 13:50:12          165\n",
      "PostgreSQLPython/Notebook/                     2021-01-03 12:34:36            0\n",
      "PostgreSQLPython/Notebook/Data/                2021-01-03 12:30:16            0\n",
      "PostgreSQLPython/Notebook/Data/DimCurrency.csv 2020-01-05 11:24:40         2259\n",
      "PostgreSQLPython/Notebook/Data/DimCustomer.csv 2020-01-03 17:25:12      4698932\n",
      "PostgreSQLPython/Notebook/Data/DimCustomerTransactions.csv 2020-12-20 10:02:34          329\n",
      "PostgreSQLPython/Notebook/Data/DimDate.csv     2020-01-03 16:45:10       357464\n",
      "PostgreSQLPython/Notebook/Data/DimGeography.csv 2019-03-02 14:57:18        57275\n",
      "PostgreSQLPython/Notebook/Data/DimProduct.csv  2018-10-20 08:54:48       152149\n",
      "PostgreSQLPython/Notebook/Data/DimProductCategory.csv 2020-01-03 16:54:14          265\n",
      "PostgreSQLPython/Notebook/Data/DimProductSubcategory.csv 2020-01-03 17:04:42         1748\n",
      "PostgreSQLPython/Notebook/Data/DimSalesTerritory.csv 2018-10-20 08:57:26       655899\n",
      "PostgreSQLPython/Notebook/Data/FactInternetSales.csv 2019-03-02 15:00:50     11721072\n",
      "PostgreSQLPython/Notebook/PythonPostgreSQL.ipynb 2021-01-02 14:21:54       166943\n",
      "PostgreSQLPython/PostgreSQLPython.pptx         2021-01-03 12:34:12      8421841\n"
     ]
    }
   ],
   "source": [
    "with zipfile.ZipFile(file) as zf:\n",
    "    zf.printdir()"
   ]
  },
  {
   "cell_type": "code",
   "execution_count": 4,
   "id": "13bdfbfc-20aa-4509-a4e9-ec631c573301",
   "metadata": {},
   "outputs": [
    {
     "name": "stdout",
     "output_type": "stream",
     "text": [
      "PostgreSQLPython/~$PostgreSQLPython.pptx\n",
      "PostgreSQLPython/~$PythonSQLDW.pptx\n",
      "PostgreSQLPython/Notebook/\n",
      "PostgreSQLPython/Notebook/Data/\n",
      "PostgreSQLPython/Notebook/Data/DimCurrency.csv\n",
      "PostgreSQLPython/Notebook/Data/DimCustomer.csv\n",
      "PostgreSQLPython/Notebook/Data/DimCustomerTransactions.csv\n",
      "PostgreSQLPython/Notebook/Data/DimDate.csv\n",
      "PostgreSQLPython/Notebook/Data/DimGeography.csv\n",
      "PostgreSQLPython/Notebook/Data/DimProduct.csv\n",
      "PostgreSQLPython/Notebook/Data/DimProductCategory.csv\n",
      "PostgreSQLPython/Notebook/Data/DimProductSubcategory.csv\n",
      "PostgreSQLPython/Notebook/Data/DimSalesTerritory.csv\n",
      "PostgreSQLPython/Notebook/Data/FactInternetSales.csv\n",
      "PostgreSQLPython/Notebook/PythonPostgreSQL.ipynb\n",
      "PostgreSQLPython/PostgreSQLPython.pptx\n"
     ]
    }
   ],
   "source": [
    "with zipfile.ZipFile(file) as zf:\n",
    "    for f in zf.filelist:\n",
    "        print(f.filename)"
   ]
  },
  {
   "cell_type": "raw",
   "id": "f8adbc79-d7e6-48b7-90fb-25e68d7fec8d",
   "metadata": {},
   "source": [
    "# Descompactar o zipfile no tempdir para acessar os arquivos CSV\n",
    "\n",
    "with zipfile.ZipFile(file) as zf:\n",
    "    zf.extractall(path=Path(tempdir)/'PostgreSQLPython')"
   ]
  },
  {
   "cell_type": "raw",
   "id": "da97bbbb-b5ea-48a1-8260-3e5c98f3dbad",
   "metadata": {},
   "source": [
    "with zipfile.ZipFile(file) as zf:\n",
    "    zf.extractall(path=tempdir)"
   ]
  },
  {
   "cell_type": "markdown",
   "id": "26681299-3862-475e-8d56-c35a34523ecf",
   "metadata": {},
   "source": [
    "## Extração do conteúdo original no disco local"
   ]
  },
  {
   "cell_type": "code",
   "execution_count": 5,
   "id": "50e681b9-fd43-461b-876b-c5dd77d65b8c",
   "metadata": {},
   "outputs": [],
   "source": [
    "with zipfile.ZipFile(file) as zf:\n",
    "    zf.extractall()"
   ]
  },
  {
   "cell_type": "markdown",
   "id": "578b0202-feb5-40b3-b10f-a66e47d8fe0f",
   "metadata": {},
   "source": [
    "## Filtro para arquivos CSV"
   ]
  },
  {
   "cell_type": "code",
   "execution_count": 6,
   "id": "cefc3b03-3743-4ed9-a234-2655a3940357",
   "metadata": {},
   "outputs": [
    {
     "data": {
      "text/plain": [
       "[PosixPath('PostgreSQLPython/Notebook/Data/DimProductCategory.csv'),\n",
       " PosixPath('PostgreSQLPython/Notebook/Data/DimCurrency.csv'),\n",
       " PosixPath('PostgreSQLPython/Notebook/Data/DimDate.csv'),\n",
       " PosixPath('PostgreSQLPython/Notebook/Data/DimProductSubcategory.csv'),\n",
       " PosixPath('PostgreSQLPython/Notebook/Data/DimGeography.csv'),\n",
       " PosixPath('PostgreSQLPython/Notebook/Data/DimSalesTerritory.csv'),\n",
       " PosixPath('PostgreSQLPython/Notebook/Data/DimCustomerTransactions.csv'),\n",
       " PosixPath('PostgreSQLPython/Notebook/Data/DimCustomer.csv'),\n",
       " PosixPath('PostgreSQLPython/Notebook/Data/DimProduct.csv'),\n",
       " PosixPath('PostgreSQLPython/Notebook/Data/FactInternetSales.csv')]"
      ]
     },
     "execution_count": 6,
     "metadata": {},
     "output_type": "execute_result"
    }
   ],
   "source": [
    "csvfiles = list(Path('PostgreSQLPython').rglob('**/*.csv'))\n",
    "csvfiles"
   ]
  },
  {
   "cell_type": "markdown",
   "id": "9044310b-e456-4666-a69f-00edf502a66f",
   "metadata": {},
   "source": [
    "## Criação de  container para todos os CSV encontrados mantendo a estrutura original"
   ]
  },
  {
   "cell_type": "code",
   "execution_count": 7,
   "id": "c10821fb-cfa6-44c8-8f84-8934fc7239fc",
   "metadata": {},
   "outputs": [],
   "source": [
    "with zipfile.ZipFile('datafile0.zip', 'w') as zf:\n",
    "    for filename in csvfiles:\n",
    "        zf.write(filename)"
   ]
  },
  {
   "cell_type": "code",
   "execution_count": 8,
   "id": "4db543dd-f0e8-44dc-86ad-3d9cfee895b6",
   "metadata": {},
   "outputs": [
    {
     "data": {
      "text/plain": [
       "PosixPath('/home/jovyan/work/incolume/academia_jedi/ajedi20221113_csv2zip')"
      ]
     },
     "execution_count": 8,
     "metadata": {},
     "output_type": "execute_result"
    }
   ],
   "source": [
    "cwd = Path.cwd()\n",
    "cwd"
   ]
  },
  {
   "cell_type": "markdown",
   "id": "ab23fa68-54c7-4d10-b4f1-c334aae75ced",
   "metadata": {},
   "source": [
    "## ZIP contendo CSV em nova estrutura"
   ]
  },
  {
   "cell_type": "markdown",
   "id": "eeac35db-0cb5-4596-a445-5df56e26deae",
   "metadata": {
    "tags": []
   },
   "source": [
    "### Tratativas de navegação em Python"
   ]
  },
  {
   "cell_type": "code",
   "execution_count": 9,
   "id": "2dc538d8-2a0f-4723-a321-03d661d2e56f",
   "metadata": {},
   "outputs": [
    {
     "name": "stdout",
     "output_type": "stream",
     "text": [
      "/home/jovyan/work/incolume/academia_jedi/ajedi20221113_csv2zip\n",
      "PostgreSQLPython/Notebook/Data\n",
      "/home/jovyan/work/incolume/academia_jedi/ajedi20221113_csv2zip/PostgreSQLPython/Notebook/Data\n"
     ]
    }
   ],
   "source": [
    "print(getcwd())\n",
    "print(csvfiles[0].parent)\n",
    "chdir(Path(csvfiles[0].parent))\n",
    "print(getcwd())\n",
    "chdir(cwd)"
   ]
  },
  {
   "cell_type": "markdown",
   "id": "ae75eb02-881b-4126-9725-f51519e8c0e6",
   "metadata": {},
   "source": [
    "## Criação de container para todos os CSV encontrados com nova estrutura"
   ]
  },
  {
   "cell_type": "code",
   "execution_count": 10,
   "id": "dd69f6d1-b43b-4967-b32b-9dc8ddac75f3",
   "metadata": {},
   "outputs": [
    {
     "name": "stdout",
     "output_type": "stream",
     "text": [
      "/home/jovyan/work/incolume/academia_jedi/ajedi20221113_csv2zip /home/jovyan/work/incolume/academia_jedi/ajedi20221113_csv2zip\n",
      "DimProductCategory.csv\n",
      "DimCurrency.csv\n",
      "DimDate.csv\n",
      "DimProductSubcategory.csv\n",
      "DimGeography.csv\n",
      "DimSalesTerritory.csv\n",
      "DimCustomerTransactions.csv\n",
      "DimCustomer.csv\n",
      "DimProduct.csv\n",
      "FactInternetSales.csv\n",
      ">> /home/jovyan/work/incolume/academia_jedi/ajedi20221113_csv2zip/datafile.zip finalizado.\n"
     ]
    }
   ],
   "source": [
    "print(Path.cwd(), cwd)\n",
    "chdir(Path(csvfiles[0].parent))\n",
    "\n",
    "with zipfile.ZipFile(\n",
    "    cwd / 'datafile.zip', 'w', compression=zipfile.ZIP_DEFLATED\n",
    ") as zf:\n",
    "    for filename in Path().rglob('**/*.csv'):\n",
    "        print(filename)\n",
    "        zf.write(filename)\n",
    "    print(f'>> {zf.filename} finalizado.')\n",
    "chdir(cwd)"
   ]
  },
  {
   "cell_type": "markdown",
   "id": "49513c8a-1e32-4764-b60e-ee261fb82bde",
   "metadata": {},
   "source": [
    "## Criação de container para todos os CSV individualmente"
   ]
  },
  {
   "cell_type": "markdown",
   "id": "c44624ec-4b07-46b4-b417-58a0f2e742d9",
   "metadata": {},
   "source": [
    "### Zip/CSV com paridade 1/1"
   ]
  },
  {
   "cell_type": "code",
   "execution_count": 12,
   "id": "745184a9-01be-4904-ae42-e8971ee7773b",
   "metadata": {},
   "outputs": [
    {
     "name": "stdout",
     "output_type": "stream",
     "text": [
      "/home/jovyan/work/incolume/academia_jedi/ajedi20221113_csv2zip\n",
      "/home/jovyan/work/incolume/academia_jedi/ajedi20221113_csv2zip/PostgreSQLPython/Notebook/Data DimProductCategory.csv DimProductCategory\n",
      "/home/jovyan/work/incolume/academia_jedi/ajedi20221113_csv2zip/PostgreSQLPython/Notebook/Data DimCurrency.csv DimCurrency\n",
      "/home/jovyan/work/incolume/academia_jedi/ajedi20221113_csv2zip/PostgreSQLPython/Notebook/Data DimDate.csv DimDate\n",
      "/home/jovyan/work/incolume/academia_jedi/ajedi20221113_csv2zip/PostgreSQLPython/Notebook/Data DimProductSubcategory.csv DimProductSubcategory\n",
      "/home/jovyan/work/incolume/academia_jedi/ajedi20221113_csv2zip/PostgreSQLPython/Notebook/Data DimGeography.csv DimGeography\n",
      "/home/jovyan/work/incolume/academia_jedi/ajedi20221113_csv2zip/PostgreSQLPython/Notebook/Data DimSalesTerritory.csv DimSalesTerritory\n",
      "/home/jovyan/work/incolume/academia_jedi/ajedi20221113_csv2zip/PostgreSQLPython/Notebook/Data DimCustomerTransactions.csv DimCustomerTransactions\n",
      "/home/jovyan/work/incolume/academia_jedi/ajedi20221113_csv2zip/PostgreSQLPython/Notebook/Data DimCustomer.csv DimCustomer\n",
      "/home/jovyan/work/incolume/academia_jedi/ajedi20221113_csv2zip/PostgreSQLPython/Notebook/Data DimProduct.csv DimProduct\n",
      "/home/jovyan/work/incolume/academia_jedi/ajedi20221113_csv2zip/PostgreSQLPython/Notebook/Data FactInternetSales.csv FactInternetSales\n",
      "/home/jovyan/work/incolume/academia_jedi/ajedi20221113_csv2zip\n"
     ]
    }
   ],
   "source": [
    "pwd = Path.cwd()\n",
    "print(pwd)\n",
    "for filename in Path().absolute().rglob('**/*.csv'):\n",
    "    print(filename.parent, filename.name, filename.stem)\n",
    "    with zipfile.ZipFile(\n",
    "        pwd.joinpath(filename.name).with_suffix('.zip'),\n",
    "        'w',\n",
    "        compression=zipfile.ZIP_DEFLATED,\n",
    "    ) as zf:\n",
    "        chdir(filename.parent)\n",
    "        zf.write(filename.name)\n",
    "chdir(pwd)\n",
    "print(Path.cwd())"
   ]
  },
  {
   "cell_type": "raw",
   "id": "05daa80a-a0c2-4194-ba86-73245844e6b0",
   "metadata": {},
   "source": [
    "pwd = Path.cwd()\n",
    "print(pwd)\n",
    "for filename in Path().absolute().rglob('**/*.csv'):\n",
    "    print(filename.parent, filename.name, filename.stem)\n",
    "    with name := zipfile.ZipFile(pwd.joinpath(f'{filename.stem}.zip'), 'w', compression=zipfile.ZIP_DEFLATED) as zf:\n",
    "        chdir(filename.parent)\n",
    "        zf.write(filename.name)\n",
    "        print(f'{name} Ok!')\n",
    "chdir(pwd)\n",
    "print(Path.cwd())   "
   ]
  },
  {
   "cell_type": "markdown",
   "id": "75876cd3-6c2f-4975-9a5c-cd5b834d3963",
   "metadata": {},
   "source": [
    "## Acesso a conteúdo Zipado"
   ]
  },
  {
   "cell_type": "markdown",
   "id": "481129ab-d534-4b78-86e7-0506fca583ab",
   "metadata": {},
   "source": [
    "### via pandas"
   ]
  },
  {
   "cell_type": "code",
   "execution_count": 16,
   "id": "9a904be1-e23c-49ab-b7ef-2171bb174813",
   "metadata": {},
   "outputs": [],
   "source": [
    "import pandas as pd"
   ]
  },
  {
   "cell_type": "code",
   "execution_count": 17,
   "id": "af29af91-3cba-47b5-94b9-120082d32f17",
   "metadata": {},
   "outputs": [
    {
     "data": {
      "text/html": [
       "<div>\n",
       "<style scoped>\n",
       "    .dataframe tbody tr th:only-of-type {\n",
       "        vertical-align: middle;\n",
       "    }\n",
       "\n",
       "    .dataframe tbody tr th {\n",
       "        vertical-align: top;\n",
       "    }\n",
       "\n",
       "    .dataframe thead th {\n",
       "        text-align: right;\n",
       "    }\n",
       "</style>\n",
       "<table border=\"1\" class=\"dataframe\">\n",
       "  <thead>\n",
       "    <tr style=\"text-align: right;\">\n",
       "      <th></th>\n",
       "      <th>CurrencyKey</th>\n",
       "      <th>CurrencyAlternateKey</th>\n",
       "      <th>CurrencyName</th>\n",
       "    </tr>\n",
       "  </thead>\n",
       "  <tbody>\n",
       "    <tr>\n",
       "      <th>0</th>\n",
       "      <td>1</td>\n",
       "      <td>AFA</td>\n",
       "      <td>Afghani</td>\n",
       "    </tr>\n",
       "    <tr>\n",
       "      <th>1</th>\n",
       "      <td>2</td>\n",
       "      <td>DZD</td>\n",
       "      <td>Algerian Dinar</td>\n",
       "    </tr>\n",
       "    <tr>\n",
       "      <th>2</th>\n",
       "      <td>3</td>\n",
       "      <td>ARS</td>\n",
       "      <td>Argentine Peso</td>\n",
       "    </tr>\n",
       "    <tr>\n",
       "      <th>3</th>\n",
       "      <td>4</td>\n",
       "      <td>AMD</td>\n",
       "      <td>Armenian Dram</td>\n",
       "    </tr>\n",
       "    <tr>\n",
       "      <th>4</th>\n",
       "      <td>5</td>\n",
       "      <td>AWG</td>\n",
       "      <td>Aruban Guilder</td>\n",
       "    </tr>\n",
       "    <tr>\n",
       "      <th>...</th>\n",
       "      <td>...</td>\n",
       "      <td>...</td>\n",
       "      <td>...</td>\n",
       "    </tr>\n",
       "    <tr>\n",
       "      <th>100</th>\n",
       "      <td>101</td>\n",
       "      <td>KRW</td>\n",
       "      <td>Won</td>\n",
       "    </tr>\n",
       "    <tr>\n",
       "      <th>101</th>\n",
       "      <td>102</td>\n",
       "      <td>JPY</td>\n",
       "      <td>Yen</td>\n",
       "    </tr>\n",
       "    <tr>\n",
       "      <th>102</th>\n",
       "      <td>103</td>\n",
       "      <td>CNY</td>\n",
       "      <td>Yuan Renminbi</td>\n",
       "    </tr>\n",
       "    <tr>\n",
       "      <th>103</th>\n",
       "      <td>104</td>\n",
       "      <td>ZWD</td>\n",
       "      <td>Zimbabwe Dollar</td>\n",
       "    </tr>\n",
       "    <tr>\n",
       "      <th>104</th>\n",
       "      <td>105</td>\n",
       "      <td>PLN</td>\n",
       "      <td>Zloty</td>\n",
       "    </tr>\n",
       "  </tbody>\n",
       "</table>\n",
       "<p>105 rows × 3 columns</p>\n",
       "</div>"
      ],
      "text/plain": [
       "     CurrencyKey CurrencyAlternateKey     CurrencyName\n",
       "0              1                  AFA          Afghani\n",
       "1              2                  DZD   Algerian Dinar\n",
       "2              3                  ARS   Argentine Peso\n",
       "3              4                  AMD    Armenian Dram\n",
       "4              5                  AWG   Aruban Guilder\n",
       "..           ...                  ...              ...\n",
       "100          101                  KRW              Won\n",
       "101          102                  JPY              Yen\n",
       "102          103                  CNY    Yuan Renminbi\n",
       "103          104                  ZWD  Zimbabwe Dollar\n",
       "104          105                  PLN            Zloty\n",
       "\n",
       "[105 rows x 3 columns]"
      ]
     },
     "execution_count": 17,
     "metadata": {},
     "output_type": "execute_result"
    }
   ],
   "source": [
    "df = pd.read_csv('DimCurrency.zip')\n",
    "df"
   ]
  },
  {
   "cell_type": "markdown",
   "id": "420a79d1-2105-44b1-b6fe-7e2a26dd2573",
   "metadata": {},
   "source": [
    "### Pure python"
   ]
  },
  {
   "cell_type": "raw",
   "id": "b539629f-a029-441e-bfc4-f8e9a9be1c62",
   "metadata": {},
   "source": [
    "# Abrindo zipfile em RAM e carregando XLSX no Pandas\n",
    "\n",
    "with zipfile.ZipFile(report) as zf:\n",
    "    filename, = zf.namelist()\n",
    "    fin = zf.read(filename)\n",
    "    df = pd.read_excel(fin, parse_dates=['DATE'])"
   ]
  },
  {
   "cell_type": "raw",
   "id": "37bfea53-b8fc-409d-bfb1-0f9b71a7e68c",
   "metadata": {},
   "source": [
    "# Abrindo zipfile em RAM e carregando XLSX no Pandas (com uso de contexto)\n",
    "\n",
    "with zipfile.ZipFile(report) as zf:\n",
    "    with zf.open(zf.namelist()[0]) as fin:\n",
    "    df = pd.read_excel(fin, parse_dates=['DATE'])"
   ]
  },
  {
   "cell_type": "code",
   "execution_count": 24,
   "id": "ba8ae87e-83ac-4567-b60f-4fb0ab182b81",
   "metadata": {},
   "outputs": [
    {
     "name": "stdout",
     "output_type": "stream",
     "text": [
      "[<ZipInfo filename='DimCurrency.csv' compress_type=deflate filemode='-rw-r--r--' file_size=2259 compress_size=1325>]\n"
     ]
    }
   ],
   "source": [
    "with zipfile.ZipFile('DimCurrency.zip') as zf:\n",
    "    print(zf.filelist)"
   ]
  },
  {
   "cell_type": "code",
   "execution_count": 25,
   "id": "4944256b-230e-4006-ac80-3925d9588e13",
   "metadata": {},
   "outputs": [
    {
     "name": "stdout",
     "output_type": "stream",
     "text": [
      "['DimCurrency.csv']\n"
     ]
    }
   ],
   "source": [
    "with zipfile.ZipFile('DimCurrency.zip') as zf:\n",
    "    print(zf.namelist())"
   ]
  },
  {
   "cell_type": "code",
   "execution_count": 27,
   "id": "5e77f75f-b9b9-42dc-94d8-7045f41ed825",
   "metadata": {},
   "outputs": [
    {
     "name": "stdout",
     "output_type": "stream",
     "text": [
      "b'\\xef\\xbb\\xbfCurrencyKey,CurrencyAlternateKey,CurrencyName\\r\\n1,AFA,Afghani\\r\\n2,DZD,Algerian Dinar\\r\\n3,ARS,Argentine Peso\\r\\n4,AMD,Armenian Dram\\r\\n5,AWG,Aruban Guilder\\r\\n6,AUD,Australian Dollar\\r\\n7,AZM,Azerbaijanian Manat\\r\\n8,BSD,Bahamian Dollar\\r\\n9,BHD,Bahraini Dinar\\r\\n10,THB,Baht\\r\\n11,PAB,Balboa\\r\\n12,BBD,Barbados Dollar\\r\\n13,BEF,Belgian Franc\\r\\n14,VEB,Bolivar\\r\\n15,BOB,Boliviano\\r\\n16,BRL,Brazilian Real\\r\\n17,BND,Brunei Dollar\\r\\n18,BGN,Bulgarian Lev\\r\\n19,CAD,Canadian Dollar\\r\\n20,GHC,Cedi\\r\\n21,XOF,CFA Franc BCEAO\\r\\n22,CLP,Chilean Peso\\r\\n23,COP,Colombian Peso\\r\\n24,CRC,Costa Rican Colon\\r\\n25,HRK,Croatian Kuna\\r\\n26,CYP,Cyprus Pound\\r\\n27,CZK,Czech Koruna\\r\\n28,DKK,Danish Krone\\r\\n29,DEM,Deutsche Mark\\r\\n30,DOP,Dominican Peso\\r\\n31,VND,Dong\\r\\n32,GRD,Drachma\\r\\n33,EGP,Egyptian Pound\\r\\n34,SVC,El Salvador Colon\\r\\n35,AED,Emirati Dirham\\r\\n36,EUR,EURO\\r\\n37,FJD,Fiji Dollar\\r\\n38,HUF,Forint\\r\\n39,FRF,French Franc\\r\\n40,PYG,Guarani\\r\\n41,HKD,Hong Kong Dollar\\r\\n42,ISK,Iceland Krona\\r\\n43,INR,Indian Rupee\\r\\n44,IEP,Irish Pound\\r\\n45,ITL,Italian Lira\\r\\n46,JMD,Jamaican Dollar\\r\\n47,JOD,Jordanian Dinar\\r\\n48,KES,Kenyan Shilling\\r\\n49,EEK,Kroon\\r\\n50,KWD,Kuwaiti Dinar\\r\\n51,AOA,Kwanza\\r\\n52,LVL,Latvian Lats\\r\\n53,LBP,Lebanese Pound\\r\\n54,ALL,Lek\\r\\n55,ROL,Leu\\r\\n56,LTL,Lithuanian Litas\\r\\n57,MYR,Malaysian Ringgit\\r\\n58,MTL,Maltese Lira\\r\\n59,FIM,Markka\\r\\n60,MUR,Mauritius Rupee\\r\\n61,MXN,Mexican Peso\\r\\n62,MAD,Moroccan Dirham\\r\\n63,NGN,Naira\\r\\n64,NAD,Namibia Dollar\\r\\n65,NPR,Nepalese Rupee\\r\\n66,ANG,Netherlands Antillian Guilder\\r\\n67,NLG,Netherlands Guilder\\r\\n68,ILS,New Israeli Shekel\\r\\n69,TWD,New Taiwan Dollar\\r\\n70,NZD,New Zealand Dollar\\r\\n71,BTN,Ngultrum\\r\\n72,NOK,Norwegian Krone\\r\\n73,PEN,Nuevo Sol\\r\\n74,OMR,Omani Rial\\r\\n75,PKR,Pakistan Rupee\\r\\n76,PHP,Philippine Peso\\r\\n77,PLZ,Polish Zloty(old)\\r\\n78,PTE,Portuguese Escudo\\r\\n79,GTQ,Quetzal\\r\\n80,ZAR,Rand\\r\\n81,MVR,Rufiyaa\\r\\n82,IDR,Rupiah\\r\\n83,RUB,Russian Ruble\\r\\n84,RUR,Russian Ruble(old)\\r\\n85,SAR,Saudi Riyal\\r\\n86,ATS,Shilling\\r\\n87,SGD,Singapore Dollar\\r\\n88,SKK,Slovak Koruna\\r\\n89,ESP,Spanish Peseta\\r\\n90,LKR,Sri Lankan Rupee\\r\\n91,SEK,Swedish Krona\\r\\n92,CHF,Swiss Franc\\r\\n93,BDT,Taka\\r\\n94,SIT,Tolar\\r\\n95,TTD,Trinidad and Tobago Dollar\\r\\n96,TND,Tunisian Dinar\\r\\n97,TRL,Turkish Lira\\r\\n98,GBP,United Kingdom Pound\\r\\n99,UYU,Uruguayan Peso\\r\\n100,USD,US Dollar\\r\\n101,KRW,Won\\r\\n102,JPY,Yen\\r\\n103,CNY,Yuan Renminbi\\r\\n104,ZWD,Zimbabwe Dollar\\r\\n105,PLN,Zloty\\r\\n'\n"
     ]
    }
   ],
   "source": [
    "with zipfile.ZipFile('DimCurrency.zip') as zf:\n",
    "    with zf.open(zf.namelist()[0]) as f:\n",
    "        print(f.read())"
   ]
  },
  {
   "cell_type": "code",
   "execution_count": 28,
   "id": "105fa9ae-74c0-4856-9586-f77b1c6fba45",
   "metadata": {},
   "outputs": [
    {
     "ename": "TypeError",
     "evalue": "ZipFile.open() missing 1 required positional argument: 'name'",
     "output_type": "error",
     "traceback": [
      "\u001b[0;31m---------------------------------------------------------------------------\u001b[0m",
      "\u001b[0;31mTypeError\u001b[0m                                 Traceback (most recent call last)",
      "Cell \u001b[0;32mIn [28], line 2\u001b[0m\n\u001b[1;32m      1\u001b[0m \u001b[38;5;28;01mwith\u001b[39;00m zipfile\u001b[38;5;241m.\u001b[39mZipFile(\u001b[38;5;124m'\u001b[39m\u001b[38;5;124mDimCurrency.zip\u001b[39m\u001b[38;5;124m'\u001b[39m) \u001b[38;5;28;01mas\u001b[39;00m zf:\n\u001b[0;32m----> 2\u001b[0m     \u001b[38;5;28;01mwith\u001b[39;00m zf\u001b[38;5;241m.\u001b[39mopen() \u001b[38;5;28;01mas\u001b[39;00m f:\n\u001b[1;32m      3\u001b[0m         \u001b[38;5;28mprint\u001b[39m(f\u001b[38;5;241m.\u001b[39mread())\n",
      "\u001b[0;31mTypeError\u001b[0m: ZipFile.open() missing 1 required positional argument: 'name'"
     ]
    }
   ],
   "source": []
  }
 ],
 "metadata": {
  "kernelspec": {
   "display_name": "Python 3 (ipykernel)",
   "language": "python",
   "name": "python3"
  },
  "language_info": {
   "codemirror_mode": {
    "name": "ipython",
    "version": 3
   },
   "file_extension": ".py",
   "mimetype": "text/x-python",
   "name": "python",
   "nbconvert_exporter": "python",
   "pygments_lexer": "ipython3",
   "version": "3.10.6"
  }
 },
 "nbformat": 4,
 "nbformat_minor": 5
}
