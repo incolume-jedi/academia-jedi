{
 "cells": [
  {
   "cell_type": "code",
   "execution_count": 1,
   "id": "921e07f4",
   "metadata": {},
   "outputs": [
    {
     "name": "stdout",
     "output_type": "stream",
     "text": [
      "Requirement already satisfied: pip in /opt/conda/lib/python3.10/site-packages (22.2.2)\n",
      "Collecting fpdf\n",
      "  Downloading fpdf-1.7.2.tar.gz (39 kB)\n",
      "  Preparing metadata (setup.py) ... \u001b[?25ldone\n",
      "\u001b[?25hBuilding wheels for collected packages: fpdf\n",
      "  Building wheel for fpdf (setup.py) ... \u001b[?25ldone\n",
      "\u001b[?25h  Created wheel for fpdf: filename=fpdf-1.7.2-py2.py3-none-any.whl size=40705 sha256=1d6ff9e18cd8be67f522a565667cf2f726d4cf0069e80ff065fa30e583cc4038\n",
      "  Stored in directory: /home/jovyan/.cache/pip/wheels/f9/95/ba/f418094659025eb9611f17cbcaf2334236bf39a0c3453ea455\n",
      "Successfully built fpdf\n",
      "Installing collected packages: fpdf\n",
      "Successfully installed fpdf-1.7.2\n"
     ]
    }
   ],
   "source": [
    "try:\n",
    "    from fpdf import FPDF\n",
    "except (ModuleNotFoundError, ImportError):\n",
    "    \"\"!pip install -U pip fpdf\"\"\n",
    "    from fpdf import FPDF"
   ]
  },
  {
   "cell_type": "code",
   "execution_count": 3,
   "id": "ec869c08",
   "metadata": {},
   "outputs": [
    {
     "name": "stdin",
     "output_type": "stream",
     "text": [
      "Nome do projeto:  Fake\n",
      "Horas estimadas:  100\n",
      "Valor da hora trabalhada:  120\n",
      "Prazo estimado:  2\n"
     ]
    }
   ],
   "source": [
    "projeto = input('Nome do projeto: ')\n",
    "hora_estimada = int(input('Horas estimadas: '))\n",
    "valor_hora = float(input('Valor da hora trabalhada: '))\n",
    "prazo = int(input('Prazo estimado: '))\n",
    "valor_total = hora_estimada * valor_hora"
   ]
  },
  {
   "cell_type": "code",
   "execution_count": 4,
   "id": "8b4897db",
   "metadata": {},
   "outputs": [
    {
     "name": "stdout",
     "output_type": "stream",
     "text": [
      "Orçamento gerado com sucesso!\n"
     ]
    }
   ],
   "source": [
    "pdf = FPDF()\n",
    "\n",
    "pdf.add_page()\n",
    "pdf.set_font('Arial')\n",
    "# pdf.image('template.png', x=0, y=0)    # providenciar template...\n",
    "pdf.text(115, 145, projeto)\n",
    "pdf.text(115, 160, str(hora_estimada))\n",
    "pdf.text(115, 175, f'R$ {valor_hora:,.2}')\n",
    "pdf.text(115, 190, str(prazo))\n",
    "pdf.text(115, 205, f'R$ {valor_total:,.2}')\n",
    "\n",
    "pdf.output('orçamento.pdf')\n",
    "print('Orçamento gerado com sucesso!')"
   ]
  },
  {
   "cell_type": "code",
   "execution_count": null,
   "id": "40f3c399",
   "metadata": {},
   "outputs": [],
   "source": []
  }
 ],
 "metadata": {
  "kernelspec": {
   "display_name": "Python 3 (ipykernel)",
   "language": "python",
   "name": "python3"
  },
  "language_info": {
   "codemirror_mode": {
    "name": "ipython",
    "version": 3
   },
   "file_extension": ".py",
   "mimetype": "text/x-python",
   "name": "python",
   "nbconvert_exporter": "python",
   "pygments_lexer": "ipython3",
   "version": "3.10.6"
  }
 },
 "nbformat": 4,
 "nbformat_minor": 5
}
