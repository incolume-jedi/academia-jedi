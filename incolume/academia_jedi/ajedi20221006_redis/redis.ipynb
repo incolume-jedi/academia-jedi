{
 "cells": [
  {
   "cell_type": "code",
   "execution_count": 29,
   "id": "5550d3ad",
   "metadata": {},
   "outputs": [],
   "source": [
    "# Conexão com banco de memória redis"
   ]
  },
  {
   "cell_type": "markdown",
   "id": "7e8fc8a6",
   "metadata": {},
   "source": [
    "## Imports"
   ]
  },
  {
   "cell_type": "code",
   "execution_count": 1,
   "id": "9fdc61f9",
   "metadata": {},
   "outputs": [],
   "source": [
    "try:\n",
    "    import redis\n",
    "except:\n",
    "    \"\"!pip install -U pip\"\"\n",
    "    '5a411feb350a7a5e'\n",
    "    import redis"
   ]
  },
  {
   "cell_type": "markdown",
   "id": "4a397e8a",
   "metadata": {},
   "source": [
    "## Configuração de conexão"
   ]
  },
  {
   "cell_type": "code",
   "execution_count": 2,
   "id": "39866342",
   "metadata": {},
   "outputs": [],
   "source": [
    "r = redis.Redis(host='localhost', port=6379)"
   ]
  },
  {
   "cell_type": "markdown",
   "id": "5beba4dc",
   "metadata": {},
   "source": [
    "## Gravando dados no redis"
   ]
  },
  {
   "cell_type": "code",
   "execution_count": 3,
   "id": "9db217e5",
   "metadata": {},
   "outputs": [
    {
     "data": {
      "text/plain": [
       "True"
      ]
     },
     "execution_count": 3,
     "metadata": {},
     "output_type": "execute_result"
    }
   ],
   "source": [
    "r.set('França', 'Paris')"
   ]
  },
  {
   "cell_type": "code",
   "execution_count": 4,
   "id": "7e7c15ed",
   "metadata": {},
   "outputs": [
    {
     "data": {
      "text/plain": [
       "True"
      ]
     },
     "execution_count": 4,
     "metadata": {},
     "output_type": "execute_result"
    }
   ],
   "source": [
    "r.set('Brasil', 'Brasília')"
   ]
  },
  {
   "cell_type": "code",
   "execution_count": 5,
   "id": "c25491d2",
   "metadata": {},
   "outputs": [
    {
     "data": {
      "text/plain": [
       "True"
      ]
     },
     "execution_count": 5,
     "metadata": {},
     "output_type": "execute_result"
    }
   ],
   "source": [
    "r.set('Alemanha', 'Berlin')"
   ]
  },
  {
   "cell_type": "markdown",
   "id": "6cb4adf5",
   "metadata": {},
   "source": [
    "## Ler dados do redis"
   ]
  },
  {
   "cell_type": "code",
   "execution_count": 6,
   "id": "bb772e8b",
   "metadata": {},
   "outputs": [
    {
     "data": {
      "text/plain": [
       "b'Bras\\xc3\\xadlia'"
      ]
     },
     "execution_count": 6,
     "metadata": {},
     "output_type": "execute_result"
    }
   ],
   "source": [
    "r.get('Brasil')"
   ]
  },
  {
   "cell_type": "code",
   "execution_count": 7,
   "id": "baad2ec8",
   "metadata": {},
   "outputs": [
    {
     "data": {
      "text/plain": [
       "b'Berlin'"
      ]
     },
     "execution_count": 7,
     "metadata": {},
     "output_type": "execute_result"
    }
   ],
   "source": [
    "r.get('Alemanha')"
   ]
  },
  {
   "cell_type": "code",
   "execution_count": 8,
   "id": "b51fedf5",
   "metadata": {},
   "outputs": [
    {
     "data": {
      "text/plain": [
       "b'Paris'"
      ]
     },
     "execution_count": 8,
     "metadata": {},
     "output_type": "execute_result"
    }
   ],
   "source": [
    "r.get('França')"
   ]
  },
  {
   "cell_type": "markdown",
   "id": "ed606562",
   "metadata": {},
   "source": [
    "## Gravar dicionário/json no redis"
   ]
  },
  {
   "cell_type": "code",
   "execution_count": 9,
   "id": "a319b42d",
   "metadata": {},
   "outputs": [
    {
     "data": {
      "text/plain": [
       "True"
      ]
     },
     "execution_count": 9,
     "metadata": {},
     "output_type": "execute_result"
    }
   ],
   "source": [
    "r.mset(\n",
    "    {\n",
    "        'São Paulo': 'São Paulo',\n",
    "        'Rio de Janeiro': 'Rio de Janeiro',\n",
    "        'Goiás': 'Goiânia',\n",
    "    }\n",
    ")"
   ]
  },
  {
   "cell_type": "markdown",
   "id": "d200f79a",
   "metadata": {},
   "source": [
    "## Ler informação do dicionário"
   ]
  },
  {
   "cell_type": "code",
   "execution_count": 10,
   "id": "6b83d79e",
   "metadata": {},
   "outputs": [
    {
     "data": {
      "text/plain": [
       "b'S\\xc3\\xa3o Paulo'"
      ]
     },
     "execution_count": 10,
     "metadata": {},
     "output_type": "execute_result"
    }
   ],
   "source": [
    "r.get('São Paulo')"
   ]
  },
  {
   "cell_type": "code",
   "execution_count": 11,
   "id": "4f9b4884",
   "metadata": {},
   "outputs": [
    {
     "data": {
      "text/plain": [
       "b'Goi\\xc3\\xa2nia'"
      ]
     },
     "execution_count": 11,
     "metadata": {},
     "output_type": "execute_result"
    }
   ],
   "source": [
    "r.get('Goiás')"
   ]
  },
  {
   "cell_type": "markdown",
   "id": "c2bfc78f",
   "metadata": {},
   "source": [
    "## Validação de informação no redis"
   ]
  },
  {
   "cell_type": "code",
   "execution_count": 14,
   "id": "fcd3e5cc",
   "metadata": {},
   "outputs": [
    {
     "data": {
      "text/plain": [
       "1"
      ]
     },
     "execution_count": 14,
     "metadata": {},
     "output_type": "execute_result"
    }
   ],
   "source": [
    "r.exists('Rio de Janeiro')"
   ]
  },
  {
   "cell_type": "markdown",
   "id": "c5057854",
   "metadata": {},
   "source": [
    "## Informação temporária"
   ]
  },
  {
   "cell_type": "code",
   "execution_count": 15,
   "id": "be2bd6d9",
   "metadata": {},
   "outputs": [],
   "source": [
    "import time"
   ]
  },
  {
   "cell_type": "code",
   "execution_count": 27,
   "id": "e70e3f4a",
   "metadata": {},
   "outputs": [
    {
     "data": {
      "text/plain": [
       "True"
      ]
     },
     "execution_count": 27,
     "metadata": {},
     "output_type": "execute_result"
    }
   ],
   "source": [
    "r.psetex('token', 1000, 'xpto1234')"
   ]
  },
  {
   "cell_type": "code",
   "execution_count": 28,
   "id": "ab08fbf4",
   "metadata": {},
   "outputs": [
    {
     "name": "stdout",
     "output_type": "stream",
     "text": [
      "b'xpto1234'\n",
      "None\n"
     ]
    }
   ],
   "source": [
    "r.psetex('token', 1000, 'xpto1234')\n",
    "print(r.get('token'))\n",
    "time.sleep(2)\n",
    "print(r.get('token'))"
   ]
  },
  {
   "cell_type": "code",
   "execution_count": null,
   "id": "88987dd2",
   "metadata": {},
   "outputs": [],
   "source": []
  }
 ],
 "metadata": {
  "kernelspec": {
   "display_name": "academia-jedi",
   "language": "python",
   "name": "academia-jedi"
  },
  "language_info": {
   "codemirror_mode": {
    "name": "ipython",
    "version": 3
   },
   "file_extension": ".py",
   "mimetype": "text/x-python",
   "name": "python",
   "nbconvert_exporter": "python",
   "pygments_lexer": "ipython3",
   "version": "3.10.5"
  }
 },
 "nbformat": 4,
 "nbformat_minor": 5
}
