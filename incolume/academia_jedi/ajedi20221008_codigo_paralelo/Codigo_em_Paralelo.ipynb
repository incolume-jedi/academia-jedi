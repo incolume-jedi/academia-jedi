{
 "cells": [
  {
   "cell_type": "code",
   "execution_count": 2,
   "metadata": {},
   "outputs": [
    {
     "name": "stdout",
     "output_type": "stream",
     "text": [
      "Demorou: 0.0003535747528076172\n"
     ]
    }
   ],
   "source": [
    "import requests\n",
    "import time\n",
    "import os\n",
    "import pandas as pd\n",
    "\n",
    "tempo_inicial = time.time()\n",
    "\n",
    "arquivos = os.listdir()\n",
    "\n",
    "tabela_final = pd.DataFrame()\n",
    "for arquivo in arquivos:\n",
    "    if 'xlsx' in arquivo:\n",
    "        tabela = pd.read_excel(arquivo)\n",
    "        faturamento = tabela['Valor Final'].sum()\n",
    "        print(\n",
    "            f\"Faturamento da Loja {arquivo.replace('.xlsx', '')} foi de R${faturamento:,2f}\"\n",
    "        )\n",
    "\n",
    "print(f'Demorou: {time.time() - tempo_inicial}')"
   ]
  },
  {
   "cell_type": "code",
   "execution_count": null,
   "metadata": {},
   "outputs": [],
   "source": []
  }
 ],
 "metadata": {
  "kernelspec": {
   "display_name": "Python 3 (ipykernel)",
   "language": "python",
   "name": "python3"
  },
  "language_info": {
   "codemirror_mode": {
    "name": "ipython",
    "version": 3
   },
   "file_extension": ".py",
   "mimetype": "text/x-python",
   "name": "python",
   "nbconvert_exporter": "python",
   "pygments_lexer": "ipython3",
   "version": "3.10.6"
  }
 },
 "nbformat": 4,
 "nbformat_minor": 4
}
