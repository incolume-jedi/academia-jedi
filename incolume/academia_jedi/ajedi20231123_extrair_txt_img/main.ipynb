{
 "cells": [
  {
   "cell_type": "code",
   "execution_count": null,
   "metadata": {},
   "outputs": [],
   "source": [
    "import inspect\n",
    "import logging\n",
    "import wget\n",
    "\n",
    "import fitz  # pyMuPDF\n",
    "import PyPDF2\n",
    "from pathlib import Path\n"
   ]
  },
  {
   "cell_type": "code",
   "execution_count": null,
   "metadata": {},
   "outputs": [],
   "source": [
    "def ex01(file: Path):\n",
    "    \"\"\"Exemplo atualizado de https://www.geeksforgeeks.org/extract-text-from-pdf-file-using-python/.\"\"\"\n",
    "    logging.debug(inspect.stack()[0][3].__doc__)\n",
    "\n",
    "    # creating a pdf file object\n",
    "    pdfFileObj = open(file, 'rb')\n",
    "\n",
    "    # creating a pdf reader object\n",
    "    pdfReader = PyPDF2.PdfReader(pdfFileObj)\n",
    "\n",
    "    # printing number of pages in pdf file\n",
    "    print('paginas: ', len(pdfReader.pages))\n",
    "\n",
    "    # creating a page object\n",
    "    pageObj = pdfReader.pages[0]\n",
    "\n",
    "    # extracting text from page\n",
    "    print('content: ', pageObj.extract_text())\n",
    "\n",
    "    # closing the pdf file object\n",
    "    pdfFileObj.close()"
   ]
  },
  {
   "cell_type": "code",
   "execution_count": null,
   "metadata": {},
   "outputs": [],
   "source": [
    "CLBR1808v1 = Path.home() /'projetos' / 'cej_saj' / 'acervo-clbr' /'1808'\n",
    "CLBR1808v1 = Path.home().joinpath('projetos','cej_saj','acervo-clbr','1808', 'colleccao_leis_1808_parte1.pdf')\n",
    "CLBR1808v1"
   ]
  },
  {
   "cell_type": "code",
   "execution_count": null,
   "metadata": {},
   "outputs": [],
   "source": [
    "ex01(CLBR1808v1)"
   ]
  },
  {
   "cell_type": "code",
   "execution_count": null,
   "metadata": {},
   "outputs": [],
   "source": [
    "def ex02(file: Path):\n",
    "    \"\"\"Exemplo atualizado de https://www.geeksforgeeks.org/extract-text-from-pdf-file-using-python/.\"\"\"\n",
    "    logging.debug(inspect.stack()[0][3].__doc__)\n",
    "\n",
    "    # creating a pdf file object\n",
    "    with file.open('rb') as pdfFileObj:\n",
    "\n",
    "        # creating a pdf reader object\n",
    "        pdfReader = PyPDF2.PdfReader(pdfFileObj)\n",
    "\n",
    "        # printing number of pages in pdf file\n",
    "        print('paginas: ', len(pdfReader.pages))\n",
    "\n",
    "        # creating a page object\n",
    "        pageObj = pdfReader.pages[0]\n",
    "\n",
    "        # extracting text from page\n",
    "        print('content: ', pageObj.extract_text())"
   ]
  },
  {
   "cell_type": "code",
   "execution_count": null,
   "metadata": {},
   "outputs": [],
   "source": [
    "ex02(CLBR1808v1)"
   ]
  },
  {
   "cell_type": "code",
   "execution_count": null,
   "metadata": {},
   "outputs": [],
   "source": [
    "def ex03(file: Path):\n",
    "    \"\"\"Exemplo atualizado de https://www.geeksforgeeks.org/extract-text-from-pdf-file-using-python/.\"\"\"\n",
    "    logging.debug(inspect.stack()[0][3].__doc__)\n",
    "\n",
    "    # creating a pdf file object\n",
    "    with file.open('rb') as pdf_file_obj:\n",
    "\n",
    "        # creating a pdf reader object\n",
    "        pdf_handler = PyPDF2.PdfReader(pdf_file_obj)\n",
    "\n",
    "        # printing number of pages in pdf file\n",
    "        print('paginas: ', len(pdf_handler.pages))\n",
    "        \n",
    "        for idx, page in enumerate(pdf_handler.pages):\n",
    "            print(idx, page)\n",
    " \n"
   ]
  },
  {
   "cell_type": "code",
   "execution_count": null,
   "metadata": {},
   "outputs": [],
   "source": [
    "ex03(CLBR1808v1)"
   ]
  },
  {
   "cell_type": "code",
   "execution_count": null,
   "metadata": {},
   "outputs": [],
   "source": [
    "def ex04(file: Path) -> list:\n",
    "    \"\"\"Exemplo atualizado de https://www.geeksforgeeks.org/extract-text-from-pdf-file-using-python/.\"\"\"\n",
    "    logging.debug(inspect.stack()[0][3].__doc__)\n",
    "    content: list = []\n",
    "    # creating a pdf file object\n",
    "    with file.open('rb') as pdf_file_obj:\n",
    "\n",
    "        # creating a pdf reader object\n",
    "        pdf_handler = PyPDF2.PdfReader(pdf_file_obj)\n",
    "\n",
    "        # printing number of pages in pdf file\n",
    "        print('paginas: ', len(pdf_handler.pages))\n",
    "        \n",
    "        for idx, page in enumerate(pdf_handler.pages):\n",
    "            print(idx, type(page), page)\n",
    "\n",
    "            # extracting text from page\n",
    "            content.append(page.extract_text())\n",
    "    return content"
   ]
  },
  {
   "cell_type": "code",
   "execution_count": null,
   "metadata": {},
   "outputs": [],
   "source": [
    "content = ex04(CLBR1808v1)"
   ]
  },
  {
   "cell_type": "code",
   "execution_count": null,
   "metadata": {},
   "outputs": [],
   "source": [
    "len(content)"
   ]
  },
  {
   "cell_type": "code",
   "execution_count": null,
   "metadata": {},
   "outputs": [],
   "source": [
    "content"
   ]
  },
  {
   "cell_type": "code",
   "execution_count": null,
   "metadata": {},
   "outputs": [],
   "source": [
    "print(content[10])"
   ]
  },
  {
   "cell_type": "code",
   "execution_count": null,
   "metadata": {},
   "outputs": [],
   "source": [
    "print(content[11])"
   ]
  },
  {
   "cell_type": "code",
   "execution_count": null,
   "metadata": {},
   "outputs": [],
   "source": []
  },
  {
   "cell_type": "code",
   "execution_count": null,
   "metadata": {},
   "outputs": [],
   "source": []
  }
 ],
 "metadata": {
  "kernelspec": {
   "display_name": "academia-jedi",
   "language": "python",
   "name": "academia-jedi"
  },
  "language_info": {
   "codemirror_mode": {
    "name": "ipython",
    "version": 3
   },
   "file_extension": ".py",
   "mimetype": "text/x-python",
   "name": "python",
   "nbconvert_exporter": "python",
   "pygments_lexer": "ipython3",
   "version": "3.10.8"
  }
 },
 "nbformat": 4,
 "nbformat_minor": 2
}
