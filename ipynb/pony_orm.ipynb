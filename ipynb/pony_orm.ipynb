{
 "cells": [
  {
   "cell_type": "code",
   "execution_count": 1,
   "id": "25919a22-1a16-4654-b0bc-33ba5b3a3a89",
   "metadata": {},
   "outputs": [
    {
     "name": "stdout",
     "output_type": "stream",
     "text": [
      "Requirement already satisfied: pony in /opt/conda/lib/python3.10/site-packages (0.7.16)\n"
     ]
    }
   ],
   "source": [
    "!pip install pony"
   ]
  },
  {
   "cell_type": "code",
   "execution_count": 2,
   "id": "b2fb6eb3-50ce-404f-80da-a0044b75e656",
   "metadata": {},
   "outputs": [],
   "source": [
    "from pony import orm\n",
    "from pony.orm import Required, Optional, Set, select\n",
    "from pathlib import Path\n",
    "import pandas as pd"
   ]
  },
  {
   "cell_type": "code",
   "execution_count": 3,
   "id": "69ef6404-b97b-4699-9ba9-fbd65510c33b",
   "metadata": {},
   "outputs": [],
   "source": [
    "db = orm.Database()"
   ]
  },
  {
   "cell_type": "code",
   "execution_count": 4,
   "id": "486ab6d2-20d3-4098-8df0-3fe926efff4e",
   "metadata": {},
   "outputs": [],
   "source": [
    "class Person(db.Entity):\n",
    "    __table__='persons'\n",
    "    name = Required(str)\n",
    "    age = Required(int)\n",
    "    cars = Set('Car')\n",
    "\n",
    "class Car(db.Entity):\n",
    "    __table__='cars'\n",
    "    make = Required(str)\n",
    "    model = Required(str)\n",
    "    owner = Required(Person)"
   ]
  },
  {
   "cell_type": "code",
   "execution_count": 5,
   "id": "d465fbf7-a669-4598-bb2e-bfa55132081d",
   "metadata": {},
   "outputs": [
    {
     "data": {
      "text/plain": [
       "PosixPath('/home/jovyan/work/data_files/databases/database.sqlite')"
      ]
     },
     "execution_count": 5,
     "metadata": {},
     "output_type": "execute_result"
    }
   ],
   "source": [
    "Path().absolute().parent.joinpath('data_files', 'databases', 'database.sqlite')"
   ]
  },
  {
   "cell_type": "code",
   "execution_count": 6,
   "id": "19250218-1f18-4812-ba89-6813c55d6f6f",
   "metadata": {},
   "outputs": [],
   "source": [
    "database = Path().absolute().parent.joinpath('data_files', 'databases', 'database.sqlite')\n",
    "db.bind(provider='sqlite', filename=database.as_posix(), create_db=True)\n",
    "db.generate_mapping(create_tables=True)"
   ]
  },
  {
   "cell_type": "code",
   "execution_count": null,
   "id": "496cf28d-e62c-46a4-9f95-02192eeb8305",
   "metadata": {},
   "outputs": [],
   "source": []
  },
  {
   "cell_type": "code",
   "execution_count": 7,
   "id": "343819fa-51cb-4d63-932d-26ddb9b70032",
   "metadata": {},
   "outputs": [],
   "source": [
    "p1 = Person(name='John', age=20)\n",
    "p2 = Person(name='Mary', age=22)\n",
    "p3 = Person(name='Bob', age=30)\n",
    "\n",
    "c1 = Car(make='Toyota', model='Prius', owner=p2)\n",
    "c2 = Car(make='Ford', model='Explorer', owner=p3)"
   ]
  },
  {
   "cell_type": "code",
   "execution_count": 8,
   "id": "65a77bfe-b0bc-413c-8c34-950d2a32e3fd",
   "metadata": {},
   "outputs": [
    {
     "data": {
      "text/plain": [
       "[Person[1], Person[2], Person[3]]"
      ]
     },
     "execution_count": 8,
     "metadata": {},
     "output_type": "execute_result"
    }
   ],
   "source": [
    "Person.select_by_sql('SELECT * FROM Person')"
   ]
  },
  {
   "cell_type": "code",
   "execution_count": 9,
   "id": "ecc9de96-ea6f-48ee-a9fe-55638b87c643",
   "metadata": {},
   "outputs": [
    {
     "data": {
      "text/plain": [
       "[Car[1], Car[2]]"
      ]
     },
     "execution_count": 9,
     "metadata": {},
     "output_type": "execute_result"
    }
   ],
   "source": [
    "Car.select_by_sql('SELECT * FROM Car')"
   ]
  },
  {
   "cell_type": "code",
   "execution_count": 10,
   "id": "ff9b53c3-a220-4df1-9adc-16276e4cf868",
   "metadata": {},
   "outputs": [
    {
     "name": "stdout",
     "output_type": "stream",
     "text": [
      "Mary\n",
      "Bob\n"
     ]
    }
   ],
   "source": [
    "for person in select(p for p in Person if p.age > 20):\n",
    "    print(person.name)"
   ]
  },
  {
   "cell_type": "code",
   "execution_count": 13,
   "id": "6868f700-3500-4701-8cd6-2e47042dabf0",
   "metadata": {},
   "outputs": [
    {
     "name": "stdout",
     "output_type": "stream",
     "text": [
      "Mary\n",
      "Bob\n"
     ]
    }
   ],
   "source": [
    "for person in Person.select_by_sql('SELECT \"p\".\"id\", \"p\".\"name\" FROM \"Person\" \"p\" WHERE \"p\".\"age\" > 20'):\n",
    "    print(person.name)"
   ]
  }
 ],
 "metadata": {
  "kernelspec": {
   "display_name": "Python 3 (ipykernel)",
   "language": "python",
   "name": "python3"
  },
  "language_info": {
   "codemirror_mode": {
    "name": "ipython",
    "version": 3
   },
   "file_extension": ".py",
   "mimetype": "text/x-python",
   "name": "python",
   "nbconvert_exporter": "python",
   "pygments_lexer": "ipython3",
   "version": "3.10.6"
  }
 },
 "nbformat": 4,
 "nbformat_minor": 5
}
