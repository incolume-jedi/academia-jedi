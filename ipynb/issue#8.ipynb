{
 "cells": [
  {
   "cell_type": "code",
   "execution_count": 1,
   "id": "57d7b20d",
   "metadata": {},
   "outputs": [],
   "source": [
    "from pathlib import Path"
   ]
  },
  {
   "cell_type": "code",
   "execution_count": 13,
   "id": "2270ac6b",
   "metadata": {},
   "outputs": [],
   "source": [
    "directory = Path().resolve().parent.joinpath('incolume', 'academia_jedi')"
   ]
  },
  {
   "cell_type": "code",
   "execution_count": 14,
   "id": "206280c4",
   "metadata": {},
   "outputs": [
    {
     "data": {
      "text/plain": [
       "PosixPath('/home/brito/projetos/treinamentos/academia-jedi/incolume/academia_jedi')"
      ]
     },
     "execution_count": 14,
     "metadata": {},
     "output_type": "execute_result"
    }
   ],
   "source": [
    "directory"
   ]
  },
  {
   "cell_type": "code",
   "execution_count": 15,
   "id": "6350972c",
   "metadata": {},
   "outputs": [
    {
     "data": {
      "text/plain": [
       "True"
      ]
     },
     "execution_count": 15,
     "metadata": {},
     "output_type": "execute_result"
    }
   ],
   "source": [
    "directory.exists()"
   ]
  },
  {
   "cell_type": "code",
   "execution_count": 16,
   "id": "0c9fd013",
   "metadata": {},
   "outputs": [
    {
     "name": "stdout",
     "output_type": "stream",
     "text": [
      "/home/brito/projetos/treinamentos/academia-jedi/incolume/academia_jedi/20220831_docker_ojs\n",
      "/home/brito/projetos/treinamentos/academia-jedi/incolume/academia_jedi/20220801_Dockerfile_apache\n",
      "/home/brito/projetos/treinamentos/academia-jedi/incolume/academia_jedi/20220729_click\n",
      "/home/brito/projetos/treinamentos/academia-jedi/incolume/academia_jedi/20220830_docker_ojs_php7_psql\n",
      "/home/brito/projetos/treinamentos/academia-jedi/incolume/academia_jedi/20220728_crud_nodb\n",
      "/home/brito/projetos/treinamentos/academia-jedi/incolume/academia_jedi/20220918_raspagem_lista_proxies\n",
      "/home/brito/projetos/treinamentos/academia-jedi/incolume/academia_jedi/2022-08-31_docker_ojs\n",
      "/home/brito/projetos/treinamentos/academia-jedi/incolume/academia_jedi/20220801_ojs\n",
      "/home/brito/projetos/treinamentos/academia-jedi/incolume/academia_jedi/20220924_dynaconf\n",
      "/home/brito/projetos/treinamentos/academia-jedi/incolume/academia_jedi/20220819_docker_ojs_rjp_hom_recover\n",
      "/home/brito/projetos/treinamentos/academia-jedi/incolume/academia_jedi/20220924_massa_dados\n",
      "/home/brito/projetos/treinamentos/academia-jedi/incolume/academia_jedi/20220924_python_dotenv\n",
      "/home/brito/projetos/treinamentos/academia-jedi/incolume/academia_jedi/20220807_docker_mysql\n",
      "/home/brito/projetos/treinamentos/academia-jedi/incolume/academia_jedi/20220901_docker_ojs\n",
      "/home/brito/projetos/treinamentos/academia-jedi/incolume/academia_jedi/20220806_docker_nginx\n",
      "/home/brito/projetos/treinamentos/academia-jedi/incolume/academia_jedi/20220816_docker_python_pgsql\n",
      "/home/brito/projetos/treinamentos/academia-jedi/incolume/academia_jedi/20220925_arquivos_csv\n",
      "/home/brito/projetos/treinamentos/academia-jedi/incolume/academia_jedi/20220829_docker_ojs_php7_psql\n",
      "/home/brito/projetos/treinamentos/academia-jedi/incolume/academia_jedi/__pycache__\n",
      "/home/brito/projetos/treinamentos/academia-jedi/incolume/academia_jedi/20220806_docker_stack\n",
      "/home/brito/projetos/treinamentos/academia-jedi/incolume/academia_jedi/20220822_docker_ojs_update_php8\n",
      "/home/brito/projetos/treinamentos/academia-jedi/incolume/academia_jedi/20220807_docker_pgsql\n",
      "/home/brito/projetos/treinamentos/academia-jedi/incolume/academia_jedi/volumes\n",
      "/home/brito/projetos/treinamentos/academia-jedi/incolume/academia_jedi/20220824_docker_ojs_php7_psql\n",
      "/home/brito/projetos/treinamentos/academia-jedi/incolume/academia_jedi/20220925_massa_dados_faker_protocol\n",
      "/home/brito/projetos/treinamentos/academia-jedi/incolume/academia_jedi/20220817_docker_ojs_pgsql\n",
      "/home/brito/projetos/treinamentos/academia-jedi/incolume/academia_jedi/20220801_crud_sqlite\n",
      "/home/brito/projetos/treinamentos/academia-jedi/incolume/academia_jedi/20220815_pytest_doctest\n",
      "/home/brito/projetos/treinamentos/academia-jedi/incolume/academia_jedi/20220807_docker_mssql\n",
      "/home/brito/projetos/treinamentos/academia-jedi/incolume/academia_jedi/20220818_docker_ojs_local_vol\n",
      "/home/brito/projetos/treinamentos/academia-jedi/incolume/academia_jedi/20220918_proxy_2_python\n",
      "/home/brito/projetos/treinamentos/academia-jedi/incolume/academia_jedi/20220807_docker_mariadb\n",
      "/home/brito/projetos/treinamentos/academia-jedi/incolume/academia_jedi/__init__.py\n",
      "/home/brito/projetos/treinamentos/academia-jedi/incolume/academia_jedi/20220731_sgbd_pandas\n",
      "/home/brito/projetos/treinamentos/academia-jedi/incolume/academia_jedi/scripts\n"
     ]
    }
   ],
   "source": [
    "\n",
    "for p in directory.iterdir():\n",
    "    print(p)"
   ]
  },
  {
   "cell_type": "code",
   "execution_count": 21,
   "id": "d01b19f8",
   "metadata": {},
   "outputs": [
    {
     "name": "stdout",
     "output_type": "stream",
     "text": [
      "/home/brito/projetos/treinamentos/academia-jedi/incolume/academia_jedi/20220831_docker_ojs\n",
      "/home/brito/projetos/treinamentos/academia-jedi/incolume/academia_jedi/20220801_Dockerfile_apache\n",
      "/home/brito/projetos/treinamentos/academia-jedi/incolume/academia_jedi/20220729_click\n",
      "/home/brito/projetos/treinamentos/academia-jedi/incolume/academia_jedi/20220830_docker_ojs_php7_psql\n",
      "/home/brito/projetos/treinamentos/academia-jedi/incolume/academia_jedi/20220728_crud_nodb\n",
      "/home/brito/projetos/treinamentos/academia-jedi/incolume/academia_jedi/20220918_raspagem_lista_proxies\n",
      "/home/brito/projetos/treinamentos/academia-jedi/incolume/academia_jedi/2022-08-31_docker_ojs\n",
      "/home/brito/projetos/treinamentos/academia-jedi/incolume/academia_jedi/20220801_ojs\n",
      "/home/brito/projetos/treinamentos/academia-jedi/incolume/academia_jedi/20220924_dynaconf\n",
      "/home/brito/projetos/treinamentos/academia-jedi/incolume/academia_jedi/20220819_docker_ojs_rjp_hom_recover\n",
      "/home/brito/projetos/treinamentos/academia-jedi/incolume/academia_jedi/20220924_massa_dados\n",
      "/home/brito/projetos/treinamentos/academia-jedi/incolume/academia_jedi/20220924_python_dotenv\n",
      "/home/brito/projetos/treinamentos/academia-jedi/incolume/academia_jedi/20220807_docker_mysql\n",
      "/home/brito/projetos/treinamentos/academia-jedi/incolume/academia_jedi/20220901_docker_ojs\n",
      "/home/brito/projetos/treinamentos/academia-jedi/incolume/academia_jedi/20220806_docker_nginx\n",
      "/home/brito/projetos/treinamentos/academia-jedi/incolume/academia_jedi/20220816_docker_python_pgsql\n",
      "/home/brito/projetos/treinamentos/academia-jedi/incolume/academia_jedi/20220925_arquivos_csv\n",
      "/home/brito/projetos/treinamentos/academia-jedi/incolume/academia_jedi/20220829_docker_ojs_php7_psql\n",
      "/home/brito/projetos/treinamentos/academia-jedi/incolume/academia_jedi/20220806_docker_stack\n",
      "/home/brito/projetos/treinamentos/academia-jedi/incolume/academia_jedi/20220822_docker_ojs_update_php8\n",
      "/home/brito/projetos/treinamentos/academia-jedi/incolume/academia_jedi/20220807_docker_pgsql\n",
      "/home/brito/projetos/treinamentos/academia-jedi/incolume/academia_jedi/20220824_docker_ojs_php7_psql\n",
      "/home/brito/projetos/treinamentos/academia-jedi/incolume/academia_jedi/20220925_massa_dados_faker_protocol\n",
      "/home/brito/projetos/treinamentos/academia-jedi/incolume/academia_jedi/20220817_docker_ojs_pgsql\n",
      "/home/brito/projetos/treinamentos/academia-jedi/incolume/academia_jedi/20220801_crud_sqlite\n",
      "/home/brito/projetos/treinamentos/academia-jedi/incolume/academia_jedi/20220815_pytest_doctest\n",
      "/home/brito/projetos/treinamentos/academia-jedi/incolume/academia_jedi/20220807_docker_mssql\n",
      "/home/brito/projetos/treinamentos/academia-jedi/incolume/academia_jedi/20220818_docker_ojs_local_vol\n",
      "/home/brito/projetos/treinamentos/academia-jedi/incolume/academia_jedi/20220918_proxy_2_python\n",
      "/home/brito/projetos/treinamentos/academia-jedi/incolume/academia_jedi/20220807_docker_mariadb\n",
      "/home/brito/projetos/treinamentos/academia-jedi/incolume/academia_jedi/20220731_sgbd_pandas\n"
     ]
    }
   ],
   "source": [
    "for p in directory.glob(\"[0-9]*\"):\n",
    "    print(p)"
   ]
  },
  {
   "cell_type": "code",
   "execution_count": 32,
   "id": "34e406d5",
   "metadata": {},
   "outputs": [
    {
     "name": "stdout",
     "output_type": "stream",
     "text": [
      "20220831_docker_ojs\n",
      "20220801_Dockerfile_apache\n",
      "20220729_click\n",
      "20220830_docker_ojs_php7_psql\n",
      "20220728_crud_nodb\n",
      "20220918_raspagem_lista_proxies\n",
      "20220801_ojs\n",
      "20220924_dynaconf\n",
      "20220819_docker_ojs_rjp_hom_recover\n",
      "20220924_massa_dados\n",
      "20220924_python_dotenv\n",
      "20220807_docker_mysql\n",
      "20220901_docker_ojs\n",
      "20220806_docker_nginx\n",
      "20220816_docker_python_pgsql\n",
      "20220925_arquivos_csv\n",
      "20220829_docker_ojs_php7_psql\n",
      "20220806_docker_stack\n",
      "20220822_docker_ojs_update_php8\n",
      "20220807_docker_pgsql\n",
      "20220824_docker_ojs_php7_psql\n",
      "20220925_massa_dados_faker_protocol\n",
      "20220817_docker_ojs_pgsql\n",
      "20220801_crud_sqlite\n",
      "20220815_pytest_doctest\n",
      "20220807_docker_mssql\n",
      "20220818_docker_ojs_local_vol\n",
      "20220918_proxy_2_python\n",
      "20220807_docker_mariadb\n",
      "20220731_sgbd_pandas\n"
     ]
    }
   ],
   "source": [
    "for p in directory.glob(\"20220*\"):\n",
    "    print(p.stem)"
   ]
  },
  {
   "cell_type": "code",
   "execution_count": 36,
   "id": "b6d54152",
   "metadata": {},
   "outputs": [
    {
     "name": "stdout",
     "output_type": "stream",
     "text": [
      "prj20220831_docker_ojs\n",
      "prj20220801_Dockerfile_apache\n",
      "prj20220729_click\n",
      "prj20220830_docker_ojs_php7_psql\n",
      "prj20220728_crud_nodb\n",
      "prj20220918_raspagem_lista_proxies\n",
      "prj20220801_ojs\n",
      "prj20220924_dynaconf\n",
      "prj20220819_docker_ojs_rjp_hom_recover\n",
      "prj20220924_massa_dados\n",
      "prj20220924_python_dotenv\n",
      "prj20220807_docker_mysql\n",
      "prj20220901_docker_ojs\n",
      "prj20220806_docker_nginx\n",
      "prj20220816_docker_python_pgsql\n",
      "prj20220925_arquivos_csv\n",
      "prj20220829_docker_ojs_php7_psql\n",
      "prj20220806_docker_stack\n",
      "prj20220822_docker_ojs_update_php8\n",
      "prj20220807_docker_pgsql\n",
      "prj20220824_docker_ojs_php7_psql\n",
      "prj20220925_massa_dados_faker_protocol\n",
      "prj20220817_docker_ojs_pgsql\n",
      "prj20220801_crud_sqlite\n",
      "prj20220815_pytest_doctest\n",
      "prj20220807_docker_mssql\n",
      "prj20220818_docker_ojs_local_vol\n",
      "prj20220918_proxy_2_python\n",
      "prj20220807_docker_mariadb\n",
      "prj20220731_sgbd_pandas\n"
     ]
    }
   ],
   "source": [
    "for p in directory.glob(\"20220*\"):\n",
    "    print(f\"prj{p.stem}\")"
   ]
  },
  {
   "cell_type": "code",
   "execution_count": 37,
   "id": "9e053f27",
   "metadata": {},
   "outputs": [
    {
     "name": "stdout",
     "output_type": "stream",
     "text": [
      "pjt20220831_docker_ojs\n",
      "pjt20220801_Dockerfile_apache\n",
      "pjt20220729_click\n",
      "pjt20220830_docker_ojs_php7_psql\n",
      "pjt20220728_crud_nodb\n",
      "pjt20220918_raspagem_lista_proxies\n",
      "pjt20220801_ojs\n",
      "pjt20220924_dynaconf\n",
      "pjt20220819_docker_ojs_rjp_hom_recover\n",
      "pjt20220924_massa_dados\n",
      "pjt20220924_python_dotenv\n",
      "pjt20220807_docker_mysql\n",
      "pjt20220901_docker_ojs\n",
      "pjt20220806_docker_nginx\n",
      "pjt20220816_docker_python_pgsql\n",
      "pjt20220925_arquivos_csv\n",
      "pjt20220829_docker_ojs_php7_psql\n",
      "pjt20220806_docker_stack\n",
      "pjt20220822_docker_ojs_update_php8\n",
      "pjt20220807_docker_pgsql\n",
      "pjt20220824_docker_ojs_php7_psql\n",
      "pjt20220925_massa_dados_faker_protocol\n",
      "pjt20220817_docker_ojs_pgsql\n",
      "pjt20220801_crud_sqlite\n",
      "pjt20220815_pytest_doctest\n",
      "pjt20220807_docker_mssql\n",
      "pjt20220818_docker_ojs_local_vol\n",
      "pjt20220918_proxy_2_python\n",
      "pjt20220807_docker_mariadb\n",
      "pjt20220731_sgbd_pandas\n"
     ]
    }
   ],
   "source": [
    "for p in directory.glob(\"20220*\"):\n",
    "    print(f\"pjt{p.stem}\")"
   ]
  },
  {
   "cell_type": "code",
   "execution_count": 38,
   "id": "4fab570b",
   "metadata": {},
   "outputs": [
    {
     "name": "stdout",
     "output_type": "stream",
     "text": [
      "p20220831_docker_ojs\n",
      "p20220801_Dockerfile_apache\n",
      "p20220729_click\n",
      "p20220830_docker_ojs_php7_psql\n",
      "p20220728_crud_nodb\n",
      "p20220918_raspagem_lista_proxies\n",
      "p20220801_ojs\n",
      "p20220924_dynaconf\n",
      "p20220819_docker_ojs_rjp_hom_recover\n",
      "p20220924_massa_dados\n",
      "p20220924_python_dotenv\n",
      "p20220807_docker_mysql\n",
      "p20220901_docker_ojs\n",
      "p20220806_docker_nginx\n",
      "p20220816_docker_python_pgsql\n",
      "p20220925_arquivos_csv\n",
      "p20220829_docker_ojs_php7_psql\n",
      "p20220806_docker_stack\n",
      "p20220822_docker_ojs_update_php8\n",
      "p20220807_docker_pgsql\n",
      "p20220824_docker_ojs_php7_psql\n",
      "p20220925_massa_dados_faker_protocol\n",
      "p20220817_docker_ojs_pgsql\n",
      "p20220801_crud_sqlite\n",
      "p20220815_pytest_doctest\n",
      "p20220807_docker_mssql\n",
      "p20220818_docker_ojs_local_vol\n",
      "p20220918_proxy_2_python\n",
      "p20220807_docker_mariadb\n",
      "p20220731_sgbd_pandas\n"
     ]
    }
   ],
   "source": [
    "for p in directory.glob(\"20220*\"):\n",
    "    print(f\"p{p.stem}\")"
   ]
  },
  {
   "cell_type": "code",
   "execution_count": 39,
   "id": "fe26b7c5",
   "metadata": {},
   "outputs": [
    {
     "name": "stdout",
     "output_type": "stream",
     "text": [
      "ajedi20220831_docker_ojs\n",
      "ajedi20220801_Dockerfile_apache\n",
      "ajedi20220729_click\n",
      "ajedi20220830_docker_ojs_php7_psql\n",
      "ajedi20220728_crud_nodb\n",
      "ajedi20220918_raspagem_lista_proxies\n",
      "ajedi20220801_ojs\n",
      "ajedi20220924_dynaconf\n",
      "ajedi20220819_docker_ojs_rjp_hom_recover\n",
      "ajedi20220924_massa_dados\n",
      "ajedi20220924_python_dotenv\n",
      "ajedi20220807_docker_mysql\n",
      "ajedi20220901_docker_ojs\n",
      "ajedi20220806_docker_nginx\n",
      "ajedi20220816_docker_python_pgsql\n",
      "ajedi20220925_arquivos_csv\n",
      "ajedi20220829_docker_ojs_php7_psql\n",
      "ajedi20220806_docker_stack\n",
      "ajedi20220822_docker_ojs_update_php8\n",
      "ajedi20220807_docker_pgsql\n",
      "ajedi20220824_docker_ojs_php7_psql\n",
      "ajedi20220925_massa_dados_faker_protocol\n",
      "ajedi20220817_docker_ojs_pgsql\n",
      "ajedi20220801_crud_sqlite\n",
      "ajedi20220815_pytest_doctest\n",
      "ajedi20220807_docker_mssql\n",
      "ajedi20220818_docker_ojs_local_vol\n",
      "ajedi20220918_proxy_2_python\n",
      "ajedi20220807_docker_mariadb\n",
      "ajedi20220731_sgbd_pandas\n"
     ]
    }
   ],
   "source": [
    "for p in directory.glob(\"20220*\"):\n",
    "    print(f\"ajedi{p.stem}\")"
   ]
  },
  {
   "cell_type": "code",
   "execution_count": 41,
   "id": "3f8c6f58",
   "metadata": {},
   "outputs": [
    {
     "name": "stdout",
     "output_type": "stream",
     "text": [
      "/home/brito/projetos/treinamentos/academia-jedi/incolume/academia_jedi/20220831_docker_ojs ajedi20220831_docker_ojs\n",
      "/home/brito/projetos/treinamentos/academia-jedi/incolume/academia_jedi/20220801_Dockerfile_apache ajedi20220801_Dockerfile_apache\n",
      "/home/brito/projetos/treinamentos/academia-jedi/incolume/academia_jedi/20220729_click ajedi20220729_click\n",
      "/home/brito/projetos/treinamentos/academia-jedi/incolume/academia_jedi/20220830_docker_ojs_php7_psql ajedi20220830_docker_ojs_php7_psql\n",
      "/home/brito/projetos/treinamentos/academia-jedi/incolume/academia_jedi/20220728_crud_nodb ajedi20220728_crud_nodb\n",
      "/home/brito/projetos/treinamentos/academia-jedi/incolume/academia_jedi/20220918_raspagem_lista_proxies ajedi20220918_raspagem_lista_proxies\n",
      "/home/brito/projetos/treinamentos/academia-jedi/incolume/academia_jedi/20220801_ojs ajedi20220801_ojs\n",
      "/home/brito/projetos/treinamentos/academia-jedi/incolume/academia_jedi/20220924_dynaconf ajedi20220924_dynaconf\n",
      "/home/brito/projetos/treinamentos/academia-jedi/incolume/academia_jedi/20220819_docker_ojs_rjp_hom_recover ajedi20220819_docker_ojs_rjp_hom_recover\n",
      "/home/brito/projetos/treinamentos/academia-jedi/incolume/academia_jedi/20220924_massa_dados ajedi20220924_massa_dados\n",
      "/home/brito/projetos/treinamentos/academia-jedi/incolume/academia_jedi/20220924_python_dotenv ajedi20220924_python_dotenv\n",
      "/home/brito/projetos/treinamentos/academia-jedi/incolume/academia_jedi/20220807_docker_mysql ajedi20220807_docker_mysql\n",
      "/home/brito/projetos/treinamentos/academia-jedi/incolume/academia_jedi/20220901_docker_ojs ajedi20220901_docker_ojs\n",
      "/home/brito/projetos/treinamentos/academia-jedi/incolume/academia_jedi/20220806_docker_nginx ajedi20220806_docker_nginx\n",
      "/home/brito/projetos/treinamentos/academia-jedi/incolume/academia_jedi/20220816_docker_python_pgsql ajedi20220816_docker_python_pgsql\n",
      "/home/brito/projetos/treinamentos/academia-jedi/incolume/academia_jedi/20220925_arquivos_csv ajedi20220925_arquivos_csv\n",
      "/home/brito/projetos/treinamentos/academia-jedi/incolume/academia_jedi/20220829_docker_ojs_php7_psql ajedi20220829_docker_ojs_php7_psql\n",
      "/home/brito/projetos/treinamentos/academia-jedi/incolume/academia_jedi/20220806_docker_stack ajedi20220806_docker_stack\n",
      "/home/brito/projetos/treinamentos/academia-jedi/incolume/academia_jedi/20220822_docker_ojs_update_php8 ajedi20220822_docker_ojs_update_php8\n",
      "/home/brito/projetos/treinamentos/academia-jedi/incolume/academia_jedi/20220807_docker_pgsql ajedi20220807_docker_pgsql\n",
      "/home/brito/projetos/treinamentos/academia-jedi/incolume/academia_jedi/20220824_docker_ojs_php7_psql ajedi20220824_docker_ojs_php7_psql\n",
      "/home/brito/projetos/treinamentos/academia-jedi/incolume/academia_jedi/20220925_massa_dados_faker_protocol ajedi20220925_massa_dados_faker_protocol\n",
      "/home/brito/projetos/treinamentos/academia-jedi/incolume/academia_jedi/20220817_docker_ojs_pgsql ajedi20220817_docker_ojs_pgsql\n",
      "/home/brito/projetos/treinamentos/academia-jedi/incolume/academia_jedi/20220801_crud_sqlite ajedi20220801_crud_sqlite\n",
      "/home/brito/projetos/treinamentos/academia-jedi/incolume/academia_jedi/20220815_pytest_doctest ajedi20220815_pytest_doctest\n",
      "/home/brito/projetos/treinamentos/academia-jedi/incolume/academia_jedi/20220807_docker_mssql ajedi20220807_docker_mssql\n",
      "/home/brito/projetos/treinamentos/academia-jedi/incolume/academia_jedi/20220818_docker_ojs_local_vol ajedi20220818_docker_ojs_local_vol\n",
      "/home/brito/projetos/treinamentos/academia-jedi/incolume/academia_jedi/20220918_proxy_2_python ajedi20220918_proxy_2_python\n",
      "/home/brito/projetos/treinamentos/academia-jedi/incolume/academia_jedi/20220807_docker_mariadb ajedi20220807_docker_mariadb\n",
      "/home/brito/projetos/treinamentos/academia-jedi/incolume/academia_jedi/20220731_sgbd_pandas ajedi20220731_sgbd_pandas\n"
     ]
    }
   ],
   "source": [
    "for p in directory.glob(\"20220*\"):\n",
    "    print(p, f\"ajedi{p.stem}\")"
   ]
  },
  {
   "cell_type": "code",
   "execution_count": 42,
   "id": "b3c6f09c",
   "metadata": {},
   "outputs": [
    {
     "data": {
      "text/plain": [
       "PosixPath('/home/brito/projetos/treinamentos/academia-jedi/incolume/academia_jedi/20220831_docker_ojs')"
      ]
     },
     "execution_count": 42,
     "metadata": {},
     "output_type": "execute_result"
    }
   ],
   "source": [
    "f = next(directory.glob(\"20220*\"))\n",
    "f"
   ]
  },
  {
   "cell_type": "code",
   "execution_count": 43,
   "id": "f3f2da7a",
   "metadata": {},
   "outputs": [
    {
     "data": {
      "text/plain": [
       "PosixPath('/home/brito/projetos/treinamentos/academia-jedi/incolume/academia_jedi/20220831_docker_ojs')"
      ]
     },
     "execution_count": 43,
     "metadata": {},
     "output_type": "execute_result"
    }
   ],
   "source": [
    "f.rename('ajedi20220831_docker_ojs')\n",
    "f"
   ]
  },
  {
   "cell_type": "code",
   "execution_count": 44,
   "id": "1baa6781",
   "metadata": {},
   "outputs": [
    {
     "data": {
      "text/plain": [
       "PosixPath('/home/brito/projetos/treinamentos/academia-jedi/incolume/academia_jedi/20220831_docker_ojs')"
      ]
     },
     "execution_count": 44,
     "metadata": {},
     "output_type": "execute_result"
    }
   ],
   "source": [
    "f"
   ]
  },
  {
   "cell_type": "code",
   "execution_count": 45,
   "id": "6925b28a",
   "metadata": {},
   "outputs": [
    {
     "name": "stdout",
     "output_type": "stream",
     "text": [
      "Help on function rename in module pathlib:\n",
      "\n",
      "rename(self, target)\n",
      "    Rename this path to the target path.\n",
      "    \n",
      "    The target path may be absolute or relative. Relative paths are\n",
      "    interpreted relative to the current working directory, *not* the\n",
      "    directory of the Path object.\n",
      "    \n",
      "    Returns the new Path instance pointing to the target path.\n",
      "\n"
     ]
    }
   ],
   "source": [
    "help(Path.rename)"
   ]
  },
  {
   "cell_type": "code",
   "execution_count": 47,
   "id": "0828b041",
   "metadata": {},
   "outputs": [
    {
     "name": "stdout",
     "output_type": "stream",
     "text": [
      "Help on property:\n",
      "\n",
      "    The final path component, if any.\n",
      "\n"
     ]
    }
   ],
   "source": [
    "help(Path.name)"
   ]
  },
  {
   "cell_type": "code",
   "execution_count": 48,
   "id": "0663ee56",
   "metadata": {},
   "outputs": [
    {
     "name": "stdout",
     "output_type": "stream",
     "text": [
      "Help on property:\n",
      "\n",
      "    The final path component, minus its last suffix.\n",
      "\n"
     ]
    }
   ],
   "source": [
    "help(Path.stem)"
   ]
  },
  {
   "cell_type": "code",
   "execution_count": 49,
   "id": "8c07dabf",
   "metadata": {},
   "outputs": [
    {
     "name": "stdout",
     "output_type": "stream",
     "text": [
      "Help on function with_stem in module pathlib:\n",
      "\n",
      "with_stem(self, stem)\n",
      "    Return a new path with the stem changed.\n",
      "\n"
     ]
    }
   ],
   "source": [
    "help(Path.with_stem)"
   ]
  },
  {
   "cell_type": "code",
   "execution_count": null,
   "id": "4676484c",
   "metadata": {},
   "outputs": [],
   "source": []
  },
  {
   "cell_type": "code",
   "execution_count": 50,
   "id": "f6905328",
   "metadata": {},
   "outputs": [
    {
     "name": "stdout",
     "output_type": "stream",
     "text": [
      "/home/brito/projetos/treinamentos/academia-jedi/incolume/academia_jedi/ajedi20220801_Dockerfile_apache\n",
      "/home/brito/projetos/treinamentos/academia-jedi/incolume/academia_jedi/ajedi20220729_click\n",
      "/home/brito/projetos/treinamentos/academia-jedi/incolume/academia_jedi/ajedi20220830_docker_ojs_php7_psql\n",
      "/home/brito/projetos/treinamentos/academia-jedi/incolume/academia_jedi/ajedi20220728_crud_nodb\n",
      "/home/brito/projetos/treinamentos/academia-jedi/incolume/academia_jedi/ajedi20220918_raspagem_lista_proxies\n",
      "/home/brito/projetos/treinamentos/academia-jedi/incolume/academia_jedi/ajedi20220801_ojs\n",
      "/home/brito/projetos/treinamentos/academia-jedi/incolume/academia_jedi/ajedi20220924_dynaconf\n",
      "/home/brito/projetos/treinamentos/academia-jedi/incolume/academia_jedi/ajedi20220819_docker_ojs_rjp_hom_recover\n",
      "/home/brito/projetos/treinamentos/academia-jedi/incolume/academia_jedi/ajedi20220924_massa_dados\n",
      "/home/brito/projetos/treinamentos/academia-jedi/incolume/academia_jedi/ajedi20220924_python_dotenv\n",
      "/home/brito/projetos/treinamentos/academia-jedi/incolume/academia_jedi/ajedi20220807_docker_mysql\n",
      "/home/brito/projetos/treinamentos/academia-jedi/incolume/academia_jedi/ajedi20220901_docker_ojs\n",
      "/home/brito/projetos/treinamentos/academia-jedi/incolume/academia_jedi/ajedi20220806_docker_nginx\n",
      "/home/brito/projetos/treinamentos/academia-jedi/incolume/academia_jedi/ajedi20220816_docker_python_pgsql\n",
      "/home/brito/projetos/treinamentos/academia-jedi/incolume/academia_jedi/ajedi20220925_arquivos_csv\n",
      "/home/brito/projetos/treinamentos/academia-jedi/incolume/academia_jedi/ajedi20220829_docker_ojs_php7_psql\n",
      "/home/brito/projetos/treinamentos/academia-jedi/incolume/academia_jedi/ajedi20220806_docker_stack\n",
      "/home/brito/projetos/treinamentos/academia-jedi/incolume/academia_jedi/ajedi20220822_docker_ojs_update_php8\n",
      "/home/brito/projetos/treinamentos/academia-jedi/incolume/academia_jedi/ajedi20220807_docker_pgsql\n",
      "/home/brito/projetos/treinamentos/academia-jedi/incolume/academia_jedi/ajedi20220824_docker_ojs_php7_psql\n",
      "/home/brito/projetos/treinamentos/academia-jedi/incolume/academia_jedi/ajedi20220925_massa_dados_faker_protocol\n",
      "/home/brito/projetos/treinamentos/academia-jedi/incolume/academia_jedi/ajedi20220817_docker_ojs_pgsql\n",
      "/home/brito/projetos/treinamentos/academia-jedi/incolume/academia_jedi/ajedi20220801_crud_sqlite\n",
      "/home/brito/projetos/treinamentos/academia-jedi/incolume/academia_jedi/ajedi20220815_pytest_doctest\n",
      "/home/brito/projetos/treinamentos/academia-jedi/incolume/academia_jedi/ajedi20220807_docker_mssql\n",
      "/home/brito/projetos/treinamentos/academia-jedi/incolume/academia_jedi/ajedi20220818_docker_ojs_local_vol\n",
      "/home/brito/projetos/treinamentos/academia-jedi/incolume/academia_jedi/ajedi20220918_proxy_2_python\n",
      "/home/brito/projetos/treinamentos/academia-jedi/incolume/academia_jedi/ajedi20220807_docker_mariadb\n",
      "/home/brito/projetos/treinamentos/academia-jedi/incolume/academia_jedi/ajedi20220731_sgbd_pandas\n"
     ]
    }
   ],
   "source": [
    "for p in directory.glob(\"20220*\"):\n",
    "#     print(p, f\"ajedi{p.stem}\")\n",
    "    print(p.with_stem(f\"ajedi{p.stem}\"))\n"
   ]
  },
  {
   "cell_type": "code",
   "execution_count": 51,
   "id": "91111102",
   "metadata": {},
   "outputs": [],
   "source": [
    "# Renomeando os arquivos para nova definição\n",
    "\n",
    "for p in directory.glob(\"20220*\"):\n",
    "#     print(p, f\"ajedi{p.stem}\")\n",
    "    p.rename(p.with_stem(f\"ajedi{p.stem}\"))"
   ]
  },
  {
   "cell_type": "code",
   "execution_count": null,
   "id": "05533020",
   "metadata": {},
   "outputs": [],
   "source": []
  }
 ],
 "metadata": {
  "kernelspec": {
   "display_name": "academia-jedi",
   "language": "python",
   "name": "academia-jedi"
  },
  "language_info": {
   "codemirror_mode": {
    "name": "ipython",
    "version": 3
   },
   "file_extension": ".py",
   "mimetype": "text/x-python",
   "name": "python",
   "nbconvert_exporter": "python",
   "pygments_lexer": "ipython3",
   "version": "3.10.5"
  }
 },
 "nbformat": 4,
 "nbformat_minor": 5
}
