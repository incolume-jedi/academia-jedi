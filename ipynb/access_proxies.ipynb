{
 "cells": [
  {
   "cell_type": "code",
   "execution_count": 1,
   "id": "b7f00d7a",
   "metadata": {},
   "outputs": [],
   "source": [
    "import pandas as pd\n",
    "import requests\n",
    "import pathlib\n",
    "import datetime as dt\n",
    "import requests"
   ]
  },
  {
   "cell_type": "raw",
   "id": "14b0ce27",
   "metadata": {},
   "source": [
    "baseado em incolume.academin_jedi.20220918proxy_2_python"
   ]
  },
  {
   "cell_type": "code",
   "execution_count": 2,
   "id": "ce36e85b",
   "metadata": {},
   "outputs": [],
   "source": [
    "# urls\n",
    "urls = 'https://httpbin.org/ip',\n",
    "\n",
    "\n",
    "# proxies from https://free-proxy-list.net/\n",
    "proxies_list = [\n",
    "    '193.122.71.184:3128', '198.59.191.234:8080', '45.42.177.49:3128',\n",
    "    '49.0.2.242:8090', '8.219.97.248:80', '8.211.22.130:5678'\n",
    "]\n"
   ]
  },
  {
   "cell_type": "code",
   "execution_count": 3,
   "id": "24e90604",
   "metadata": {},
   "outputs": [],
   "source": [
    "def no_proxy_access():\n",
    "    r = requests.get(urls[0])\n",
    "    return f'{r.status_code=}, {r.json()=}'"
   ]
  },
  {
   "cell_type": "code",
   "execution_count": 4,
   "id": "9fc0f96b",
   "metadata": {},
   "outputs": [],
   "source": [
    "def with_proxy_01():\n",
    "    r = requests.get(\n",
    "        urls[0],\n",
    "        proxies={'http': proxies_list[0], 'https': proxies_list[0]},\n",
    "        timeout=3\n",
    "    )\n",
    "    return f'{r.status_code=}, {r.json()=}'"
   ]
  },
  {
   "cell_type": "code",
   "execution_count": 5,
   "id": "5ac016e1",
   "metadata": {},
   "outputs": [
    {
     "data": {
      "text/plain": [
       "\"r.status_code=200, r.json()={'origin': '170.150.146.14'}\""
      ]
     },
     "metadata": {},
     "output_type": "display_data"
    },
    {
     "data": {
      "text/plain": [
       "\"r.status_code=200, r.json()={'origin': '150.230.53.13'}\""
      ]
     },
     "metadata": {},
     "output_type": "display_data"
    }
   ],
   "source": [
    "display(no_proxy_access())\n",
    "display(with_proxy_01())"
   ]
  },
  {
   "cell_type": "code",
   "execution_count": null,
   "id": "0601188c",
   "metadata": {},
   "outputs": [],
   "source": []
  }
 ],
 "metadata": {
  "kernelspec": {
   "display_name": "Python 3 (ipykernel)",
   "language": "python",
   "name": "python3"
  },
  "language_info": {
   "codemirror_mode": {
    "name": "ipython",
    "version": 3
   },
   "file_extension": ".py",
   "mimetype": "text/x-python",
   "name": "python",
   "nbconvert_exporter": "python",
   "pygments_lexer": "ipython3",
   "version": "3.10.6"
  }
 },
 "nbformat": 4,
 "nbformat_minor": 5
}
