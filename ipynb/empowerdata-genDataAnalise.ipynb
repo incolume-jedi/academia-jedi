{
 "cells": [
  {
   "cell_type": "code",
   "execution_count": 250,
   "id": "9e4be4aa-9f80-456b-803f-98e3282b25a3",
   "metadata": {},
   "outputs": [],
   "source": [
    "try:\n",
    "    from faker import Faker\n",
    "except (ModuleNotFoundError, ImportError):\n",
    "    !pip install faker\n",
    "    from faker import Faker\n",
    "\n",
    "from itertools import repeat, cycle, count\n",
    "from dataclasses import dataclass\n",
    "import enum\n",
    "from uuid import uuid4\n",
    "import json\n",
    "import datetime as dt\n",
    "import random\n",
    "from pprint import pprint\n",
    "import pandas as pd\n",
    "from pathlib import Path"
   ]
  },
  {
   "cell_type": "code",
   "execution_count": 138,
   "id": "bf53e9e7-d9c5-4711-9faa-33f4635a3c7a",
   "metadata": {},
   "outputs": [],
   "source": [
    "seed = 37\n",
    "counter = count()   # gerador de números sequênciais\n",
    "random.seed(seed)\n",
    "Faker.seed(seed)    # Semente para números pseudo-aleatórios\n",
    "fake = Faker('pt_BR')   # Faker para português brasileiro\n",
    "fake.seed_instance(seed)   # Semente para números pseudo-aleatórios\n",
    "\n",
    "class FormaPagamento(enum.Enum):\n",
    "    \"\"\"Formas de pagamento.\"\"\"\n",
    "    GRATIS = 0\n",
    "    DINHEIRO = enum.auto()\n",
    "    DEBITO = enum.auto()\n",
    "    CREDITO = enum.auto()\n",
    "    PIX = enum.auto()\n",
    "    \n",
    "class LocalConsumo(enum.Enum):\n",
    "    DELIVERY=1\n",
    "    NOLOCAL=enum.auto()\n",
    "\n",
    "Regiao = enum.Enum('Regiao', 'NORTE NORDESTE CENTROESTE SUDESTE SUL'.split())\n",
    "\n",
    "\n",
    "@dataclass\n",
    "class Estado:\n",
    "    sigla: str\n",
    "    nome: str\n",
    "    capital: str\n",
    "    regiao: Regiao\n",
    "    \n",
    "\n",
    "@dataclass\n",
    "class Loja:\n",
    "    nome: str\n",
    "    cidade: str\n",
    "    estado: Estado\n",
    "    regiao: Regiao"
   ]
  },
  {
   "cell_type": "markdown",
   "id": "997afd55-66fa-4445-a87f-40035a091d25",
   "metadata": {
    "tags": []
   },
   "source": [
    "## Brainstorms"
   ]
  },
  {
   "cell_type": "code",
   "execution_count": 3,
   "id": "b4e4ec03-44e7-42ff-b6c4-15cccb4df978",
   "metadata": {},
   "outputs": [
    {
     "data": {
      "text/plain": [
       "<FormaPagamento.GRATIS: 0>"
      ]
     },
     "metadata": {},
     "output_type": "display_data"
    },
    {
     "data": {
      "text/plain": [
       "<LocalConsumo.NOLOCAL: 2>"
      ]
     },
     "metadata": {},
     "output_type": "display_data"
    }
   ],
   "source": [
    "display(FormaPagamento.GRATIS)\n",
    "display(LocalConsumo.NOLOCAL)"
   ]
  },
  {
   "cell_type": "code",
   "execution_count": 4,
   "id": "d924437d-873a-49e9-93f6-cc19b7b4da4b",
   "metadata": {},
   "outputs": [
    {
     "name": "stdout",
     "output_type": "stream",
     "text": [
      "Help on class repeat in module itertools:\n",
      "\n",
      "class repeat(builtins.object)\n",
      " |  repeat(object [,times]) -> create an iterator which returns the object\n",
      " |  for the specified number of times.  If not specified, returns the object\n",
      " |  endlessly.\n",
      " |  \n",
      " |  Methods defined here:\n",
      " |  \n",
      " |  __getattribute__(self, name, /)\n",
      " |      Return getattr(self, name).\n",
      " |  \n",
      " |  __iter__(self, /)\n",
      " |      Implement iter(self).\n",
      " |  \n",
      " |  __length_hint__(...)\n",
      " |      Private method returning an estimate of len(list(it)).\n",
      " |  \n",
      " |  __next__(self, /)\n",
      " |      Implement next(self).\n",
      " |  \n",
      " |  __reduce__(...)\n",
      " |      Return state information for pickling.\n",
      " |  \n",
      " |  __repr__(self, /)\n",
      " |      Return repr(self).\n",
      " |  \n",
      " |  ----------------------------------------------------------------------\n",
      " |  Static methods defined here:\n",
      " |  \n",
      " |  __new__(*args, **kwargs) from builtins.type\n",
      " |      Create and return a new object.  See help(type) for accurate signature.\n",
      "\n"
     ]
    }
   ],
   "source": [
    "help(repeat)"
   ]
  },
  {
   "cell_type": "code",
   "execution_count": 5,
   "id": "706e14d5-825c-40ce-9c9c-a5f6e1a4ed6d",
   "metadata": {},
   "outputs": [
    {
     "name": "stdout",
     "output_type": "stream",
     "text": [
      "Help on class cycle in module itertools:\n",
      "\n",
      "class cycle(builtins.object)\n",
      " |  cycle(iterable, /)\n",
      " |  \n",
      " |  Return elements from the iterable until it is exhausted. Then repeat the sequence indefinitely.\n",
      " |  \n",
      " |  Methods defined here:\n",
      " |  \n",
      " |  __getattribute__(self, name, /)\n",
      " |      Return getattr(self, name).\n",
      " |  \n",
      " |  __iter__(self, /)\n",
      " |      Implement iter(self).\n",
      " |  \n",
      " |  __next__(self, /)\n",
      " |      Implement next(self).\n",
      " |  \n",
      " |  __reduce__(...)\n",
      " |      Return state information for pickling.\n",
      " |  \n",
      " |  __setstate__(...)\n",
      " |      Set state information for unpickling.\n",
      " |  \n",
      " |  ----------------------------------------------------------------------\n",
      " |  Static methods defined here:\n",
      " |  \n",
      " |  __new__(*args, **kwargs) from builtins.type\n",
      " |      Create and return a new object.  See help(type) for accurate signature.\n",
      "\n"
     ]
    }
   ],
   "source": [
    "help(cycle)"
   ]
  },
  {
   "cell_type": "code",
   "execution_count": 6,
   "id": "9ab76cff-020f-4b95-bc78-567f97c7e946",
   "metadata": {},
   "outputs": [],
   "source": [
    "a, b, c, d, e = repeat(True, 5)"
   ]
  },
  {
   "cell_type": "code",
   "execution_count": 7,
   "id": "55ef54f4-f8be-4cbf-b3d7-3d17ad942f75",
   "metadata": {},
   "outputs": [
    {
     "data": {
      "text/plain": [
       "[(1, True), (2, True), (3, True), (4, True), (5, True), (6, True)]"
      ]
     },
     "execution_count": 7,
     "metadata": {},
     "output_type": "execute_result"
    }
   ],
   "source": [
    "z=zip((1,2,3,4,5,6), cycle([True]))\n",
    "list(z)"
   ]
  },
  {
   "cell_type": "code",
   "execution_count": 8,
   "id": "b88d2e98-1b6b-4149-ae40-196a17510bbf",
   "metadata": {},
   "outputs": [
    {
     "data": {
      "text/plain": [
       "'Maria Carvalho'"
      ]
     },
     "execution_count": 8,
     "metadata": {},
     "output_type": "execute_result"
    }
   ],
   "source": [
    "fake.name()"
   ]
  },
  {
   "cell_type": "code",
   "execution_count": 9,
   "id": "239a05ad-bfd5-42a0-85ba-c672ee822301",
   "metadata": {},
   "outputs": [
    {
     "data": {
      "text/plain": [
       "<Regiao.CENTROESTE: 3>"
      ]
     },
     "execution_count": 9,
     "metadata": {},
     "output_type": "execute_result"
    }
   ],
   "source": [
    "\n",
    "Regiao.CENTROESTE"
   ]
  },
  {
   "cell_type": "code",
   "execution_count": 10,
   "id": "9684d23d-b946-4224-98c4-cc0502803bc6",
   "metadata": {},
   "outputs": [
    {
     "data": {
      "text/plain": [
       "'3d4683a4dc214ca59ae6abd11a1bc77a'"
      ]
     },
     "execution_count": 10,
     "metadata": {},
     "output_type": "execute_result"
    }
   ],
   "source": [
    "uuid4().hex"
   ]
  },
  {
   "cell_type": "code",
   "execution_count": 11,
   "id": "20589119-2ba7-46ad-a1da-78b789c9f852",
   "metadata": {},
   "outputs": [
    {
     "data": {
      "text/plain": [
       "222748887400216239420142960413937851943"
      ]
     },
     "execution_count": 11,
     "metadata": {},
     "output_type": "execute_result"
    }
   ],
   "source": [
    "uuid4().int"
   ]
  },
  {
   "cell_type": "code",
   "execution_count": 12,
   "id": "a18831f0-0bdf-4105-9503-1bb2b3b36ea2",
   "metadata": {},
   "outputs": [
    {
     "data": {
      "text/plain": [
       "UUID('16d29e36-533c-4ebc-a226-e5d636ac009e')"
      ]
     },
     "execution_count": 12,
     "metadata": {},
     "output_type": "execute_result"
    }
   ],
   "source": [
    "uuid4()"
   ]
  },
  {
   "cell_type": "code",
   "execution_count": 13,
   "id": "22459b64-bf74-41b7-baef-610991f01ccc",
   "metadata": {},
   "outputs": [
    {
     "data": {
      "text/plain": [
       "(2919839887, 62908, 19088, 167, 217, 194178242576003)"
      ]
     },
     "execution_count": 13,
     "metadata": {},
     "output_type": "execute_result"
    }
   ],
   "source": [
    "uuid4().fields"
   ]
  },
  {
   "cell_type": "code",
   "execution_count": 14,
   "id": "86beff3a-9341-4a13-abd1-3e0138a53d5e",
   "metadata": {},
   "outputs": [
    {
     "data": {
      "text/plain": [
       "0"
      ]
     },
     "execution_count": 14,
     "metadata": {},
     "output_type": "execute_result"
    }
   ],
   "source": [
    "next(counter)"
   ]
  },
  {
   "cell_type": "markdown",
   "id": "ab474e18-1e66-4a49-a6ea-077c68c06588",
   "metadata": {},
   "source": [
    "## Geração de dados"
   ]
  },
  {
   "cell_type": "code",
   "execution_count": 15,
   "id": "8c851824-c22a-4090-a987-e2557c0c7ce6",
   "metadata": {},
   "outputs": [
    {
     "data": {
      "text/plain": [
       "[{'SIGLA': 'AC', 'ESTADO': 'Acre', 'CAPITAL': 'Rio Branco', 'REGIAO': 'NORTE'},\n",
       " {'SIGLA': 'AL',\n",
       "  'ESTADO': 'Alagoas',\n",
       "  'CAPITAL': 'Maceió',\n",
       "  'REGIAO': 'NORDESTE'},\n",
       " {'SIGLA': 'AP', 'ESTADO': 'Amapá', 'CAPITAL': 'Macapá', 'REGIAO': 'NORTE'},\n",
       " {'SIGLA': 'AM', 'ESTADO': 'Amazonas', 'CAPITAL': 'Manaus', 'REGIAO': 'NORTE'},\n",
       " {'SIGLA': 'BA',\n",
       "  'ESTADO': 'Bahia',\n",
       "  'CAPITAL': 'Salvador',\n",
       "  'REGIAO': 'NORDESTE'},\n",
       " {'SIGLA': 'CE',\n",
       "  'ESTADO': 'Ceará',\n",
       "  'CAPITAL': 'Fortaleza',\n",
       "  'REGIAO': 'NORDESTE'},\n",
       " {'SIGLA': 'DF',\n",
       "  'ESTADO': 'Distrito Federal',\n",
       "  'CAPITAL': 'Brasília',\n",
       "  'REGIAO': 'CENTROESTE'},\n",
       " {'SIGLA': 'ES',\n",
       "  'ESTADO': 'Espírito Santo',\n",
       "  'CAPITAL': 'Vitória',\n",
       "  'REGIAO': 'SUDESTE'},\n",
       " {'SIGLA': 'GO',\n",
       "  'ESTADO': 'Goiás',\n",
       "  'CAPITAL': 'Goiânia',\n",
       "  'REGIAO': 'CENTROESTE'},\n",
       " {'SIGLA': 'MA',\n",
       "  'ESTADO': 'Maranhão',\n",
       "  'CAPITAL': 'São Luís',\n",
       "  'REGIAO': 'NORDESTE'},\n",
       " {'SIGLA': 'MT',\n",
       "  'ESTADO': 'Mato Grosso',\n",
       "  'CAPITAL': 'Cuiabá',\n",
       "  'REGIAO': 'CENTROESTE'},\n",
       " {'SIGLA': 'MS',\n",
       "  'ESTADO': 'Mato Grosso do Sul',\n",
       "  'CAPITAL': 'Campo Grande',\n",
       "  'REGIAO': 'CENTROESTE'},\n",
       " {'SIGLA': 'MG',\n",
       "  'ESTADO': 'Minas Gerais',\n",
       "  'CAPITAL': 'Belo Horizonte',\n",
       "  'REGIAO': 'SUDESTE'},\n",
       " {'SIGLA': 'PR', 'ESTADO': 'Paraná', 'CAPITAL': 'Curitiba', 'REGIAO': 'SUL'},\n",
       " {'SIGLA': 'PB',\n",
       "  'ESTADO': 'Paraíba',\n",
       "  'CAPITAL': 'João Pessoa',\n",
       "  'REGIAO': 'NORDESTE'},\n",
       " {'SIGLA': 'PA', 'ESTADO': 'Pará', 'CAPITAL': 'Belém', 'REGIAO': 'NORTE'},\n",
       " {'SIGLA': 'PE',\n",
       "  'ESTADO': 'Pernambuco',\n",
       "  'CAPITAL': 'Recife',\n",
       "  'REGIAO': 'NORDESTE'},\n",
       " {'SIGLA': 'PI',\n",
       "  'ESTADO': 'Piauí',\n",
       "  'CAPITAL': 'Teresina',\n",
       "  'REGIAO': 'NORDESTE'},\n",
       " {'SIGLA': 'RN',\n",
       "  'ESTADO': 'Rio Grande do Norte',\n",
       "  'CAPITAL': 'Natal',\n",
       "  'REGIAO': 'NORDESTE'},\n",
       " {'SIGLA': 'RS',\n",
       "  'ESTADO': 'Rio Grande do Sul',\n",
       "  'CAPITAL': 'Porto Alegre',\n",
       "  'REGIAO': 'SUL'},\n",
       " {'SIGLA': 'RJ',\n",
       "  'ESTADO': 'Rio de Janeiro',\n",
       "  'CAPITAL': 'Rio de Janeiro',\n",
       "  'REGIAO': 'SUDESTE'},\n",
       " {'SIGLA': 'RO',\n",
       "  'ESTADO': 'Rondônia',\n",
       "  'CAPITAL': 'Porto Velho',\n",
       "  'REGIAO': 'NORTE'},\n",
       " {'SIGLA': 'RR',\n",
       "  'ESTADO': 'Roraima',\n",
       "  'CAPITAL': 'Boa Vista',\n",
       "  'REGIAO': 'NORTE'},\n",
       " {'SIGLA': 'SC',\n",
       "  'ESTADO': 'Santa Catarina',\n",
       "  'CAPITAL': 'Florianópolis',\n",
       "  'REGIAO': 'SUL'},\n",
       " {'SIGLA': 'SE',\n",
       "  'ESTADO': 'Sergipe',\n",
       "  'CAPITAL': 'Aracaju',\n",
       "  'REGIAO': 'NORDESTE'},\n",
       " {'SIGLA': 'SP',\n",
       "  'ESTADO': 'São Paulo',\n",
       "  'CAPITAL': 'São Paulo',\n",
       "  'REGIAO': 'SUDESTE'},\n",
       " {'SIGLA': 'TO',\n",
       "  'ESTADO': 'Tocantins',\n",
       "  'CAPITAL': 'Palmas',\n",
       "  'REGIAO': 'NORTE'}]"
      ]
     },
     "execution_count": 15,
     "metadata": {},
     "output_type": "execute_result"
    }
   ],
   "source": [
    "with open('../data_files/estados_br.json') as f:\n",
    "    estadosBr = json.load(f)\n",
    "estadosBr"
   ]
  },
  {
   "cell_type": "code",
   "execution_count": 16,
   "id": "413085de-000b-47ce-887b-28e006477660",
   "metadata": {},
   "outputs": [
    {
     "data": {
      "text/plain": [
       "{'cod_pedido': None,\n",
       " 'data': None,\n",
       " 'loja': None,\n",
       " 'cidade': None,\n",
       " 'estado': None,\n",
       " 'regiao': None,\n",
       " 'tamanho': None,\n",
       " 'local_consumo': None,\n",
       " 'preco': None,\n",
       " 'forma_pagamento': None,\n",
       " 'ano_mes': None}"
      ]
     },
     "execution_count": 16,
     "metadata": {},
     "output_type": "execute_result"
    }
   ],
   "source": [
    "{\n",
    "    'cod_pedido': None,\n",
    "    'data': None,\n",
    "    'loja': None,\n",
    "    'cidade': None,\n",
    "    'estado': None,\n",
    "    'regiao': None,\n",
    "    'tamanho': None,\n",
    "    'local_consumo': None,\n",
    "    'preco': None,\n",
    "    'forma_pagamento': None,\n",
    "    'data': None,\n",
    "    'ano_mes': None\n",
    "}"
   ]
  },
  {
   "cell_type": "code",
   "execution_count": 34,
   "id": "66444aa9-650e-45d2-914e-10e81649da99",
   "metadata": {},
   "outputs": [
    {
     "data": {
      "text/plain": [
       "datetime.datetime(2020, 1, 1, 20, 20, 20, 123456, tzinfo=datetime.timezone(datetime.timedelta(days=-1, seconds=75600)))"
      ]
     },
     "execution_count": 34,
     "metadata": {},
     "output_type": "execute_result"
    }
   ],
   "source": [
    "dt.datetime.fromisoformat('2020-01-01T20:20:20.123456-03:00')"
   ]
  },
  {
   "cell_type": "code",
   "execution_count": 35,
   "id": "1cbbb9b8-1ecf-4083-b9e2-4d91eadeafe6",
   "metadata": {},
   "outputs": [
    {
     "data": {
      "text/plain": [
       "'2020-01-01'"
      ]
     },
     "execution_count": 35,
     "metadata": {},
     "output_type": "execute_result"
    }
   ],
   "source": [
    "dt.datetime.fromisoformat('2020-01-01T20:20:20.123456-03:00').strftime(\"%F\")"
   ]
  },
  {
   "cell_type": "code",
   "execution_count": 127,
   "id": "6d32b63d-da24-4262-bd09-61c2e616cc9b",
   "metadata": {},
   "outputs": [
    {
     "data": {
      "text/plain": [
       "datetime.date(2021, 2, 18)"
      ]
     },
     "execution_count": 127,
     "metadata": {},
     "output_type": "execute_result"
    }
   ],
   "source": [
    "fake.date_between(start_date=dt.datetime.strptime('2020-12-31', '%Y-%m-%d'), end_date=dt.datetime.now())"
   ]
  },
  {
   "cell_type": "code",
   "execution_count": 135,
   "id": "f1c95c99-61fe-45fc-85c8-0f631d88fb51",
   "metadata": {},
   "outputs": [
    {
     "data": {
      "text/plain": [
       "'2022-01-03'"
      ]
     },
     "execution_count": 135,
     "metadata": {},
     "output_type": "execute_result"
    }
   ],
   "source": [
    "fake.date_between(start_date=dt.datetime.strptime('2020-12-31', '%Y-%m-%d'), end_date=dt.datetime.now()).strftime(\"%F\")"
   ]
  },
  {
   "cell_type": "code",
   "execution_count": 188,
   "id": "47e11b5b-16be-469d-b79e-2b374be773be",
   "metadata": {},
   "outputs": [
    {
     "data": {
      "text/plain": [
       "dict_keys(['DELIVERY', 'NOLOCAL'])"
      ]
     },
     "execution_count": 188,
     "metadata": {},
     "output_type": "execute_result"
    }
   ],
   "source": [
    "LocalConsumo.__members__.keys()"
   ]
  },
  {
   "cell_type": "code",
   "execution_count": 247,
   "id": "ce052a39-dc2a-4c82-9560-e2cffaf82fbb",
   "metadata": {},
   "outputs": [
    {
     "name": "stderr",
     "output_type": "stream",
     "text": [
      "IOPub data rate exceeded.\n",
      "The Jupyter server will temporarily stop sending output\n",
      "to the client in order to avoid crashing it.\n",
      "To change this limit, set the config variable\n",
      "`--ServerApp.iopub_data_rate_limit`.\n",
      "\n",
      "Current values:\n",
      "ServerApp.iopub_data_rate_limit=1000000.0 (bytes/sec)\n",
      "ServerApp.rate_limit_window=3.0 (secs)\n",
      "\n"
     ]
    }
   ],
   "source": [
    "random.seed(37)\n",
    "products = tuple(zip(['200ml', '300ml', '500ml', '700ml', '1000ml'], (18, 25.5, 40, 55, 75.5)))\n",
    "# cities = random.choices(estadosBr, k=10)\n",
    "cities = random.sample(estadosBr, k=10)\n",
    "lojas = [{'loja': f'loja{(x +1):02}', **cities[x]} for x in range(len(cities))]\n",
    "registros = []\n",
    "# pprint(cities)\n",
    "for _ in range(7*10**4):\n",
    "    d = fake.date_between(start_date=dt.datetime.strptime('2020-12-31', '%Y-%m-%d'), end_date=dt.datetime.now())\n",
    "    p = random.choices(products, [1,1,2,2,1], k=1)[0]\n",
    "    city = random.choice(lojas)\n",
    "    registro = {\n",
    "        'cod_pedido': uuid4().hex,\n",
    "        'data': d.strftime('%F'),\n",
    "        'loja': city.get('loja'),\n",
    "        'cidade': city.get('CAPITAL'),\n",
    "        'estado': city.get('ESTADO'),\n",
    "        'regiao': city.get('REGIAO'),\n",
    "        'tamanho': p[0],\n",
    "        'local_consumo': random.choice(list(LocalConsumo.__members__.keys())),\n",
    "        'preco': p[1],\n",
    "        'forma_pagamento': random.choice([FormaPagamento.PIX.name, FormaPagamento.CREDITO.name, FormaPagamento.DEBITO.name, FormaPagamento.DINHEIRO.name]),\n",
    "        'ano_mes': d.strftime(\"%Y-%m\")\n",
    "    }\n",
    "    registros.append(registro)\n",
    "print(registros)"
   ]
  },
  {
   "cell_type": "code",
   "execution_count": 248,
   "id": "6c1f1cc0-44e3-478f-a4dc-c2ff817dcafe",
   "metadata": {},
   "outputs": [
    {
     "data": {
      "text/html": [
       "<div>\n",
       "<style scoped>\n",
       "    .dataframe tbody tr th:only-of-type {\n",
       "        vertical-align: middle;\n",
       "    }\n",
       "\n",
       "    .dataframe tbody tr th {\n",
       "        vertical-align: top;\n",
       "    }\n",
       "\n",
       "    .dataframe thead th {\n",
       "        text-align: right;\n",
       "    }\n",
       "</style>\n",
       "<table border=\"1\" class=\"dataframe\">\n",
       "  <thead>\n",
       "    <tr style=\"text-align: right;\">\n",
       "      <th></th>\n",
       "      <th>cod_pedido</th>\n",
       "      <th>data</th>\n",
       "      <th>loja</th>\n",
       "      <th>cidade</th>\n",
       "      <th>estado</th>\n",
       "      <th>regiao</th>\n",
       "      <th>tamanho</th>\n",
       "      <th>local_consumo</th>\n",
       "      <th>preco</th>\n",
       "      <th>forma_pagamento</th>\n",
       "      <th>ano_mes</th>\n",
       "    </tr>\n",
       "  </thead>\n",
       "  <tbody>\n",
       "    <tr>\n",
       "      <th>0</th>\n",
       "      <td>fc9c53e49cb649ed9d0ab7991fdf3e9a</td>\n",
       "      <td>2021-10-28</td>\n",
       "      <td>loja02</td>\n",
       "      <td>Porto Alegre</td>\n",
       "      <td>Rio Grande do Sul</td>\n",
       "      <td>SUL</td>\n",
       "      <td>500ml</td>\n",
       "      <td>NOLOCAL</td>\n",
       "      <td>40.0</td>\n",
       "      <td>DEBITO</td>\n",
       "      <td>2021-10</td>\n",
       "    </tr>\n",
       "    <tr>\n",
       "      <th>1</th>\n",
       "      <td>8b59eab421bc486b97e711cd3e461879</td>\n",
       "      <td>2022-05-29</td>\n",
       "      <td>loja07</td>\n",
       "      <td>Recife</td>\n",
       "      <td>Pernambuco</td>\n",
       "      <td>NORDESTE</td>\n",
       "      <td>1000ml</td>\n",
       "      <td>NOLOCAL</td>\n",
       "      <td>75.5</td>\n",
       "      <td>CREDITO</td>\n",
       "      <td>2022-05</td>\n",
       "    </tr>\n",
       "    <tr>\n",
       "      <th>2</th>\n",
       "      <td>471f469d3d7d4b289e2753f8f6c5846a</td>\n",
       "      <td>2021-04-09</td>\n",
       "      <td>loja01</td>\n",
       "      <td>Porto Velho</td>\n",
       "      <td>Rondônia</td>\n",
       "      <td>NORTE</td>\n",
       "      <td>1000ml</td>\n",
       "      <td>DELIVERY</td>\n",
       "      <td>75.5</td>\n",
       "      <td>DINHEIRO</td>\n",
       "      <td>2021-04</td>\n",
       "    </tr>\n",
       "    <tr>\n",
       "      <th>3</th>\n",
       "      <td>cac59816964b4e32a5ab542a46c13fae</td>\n",
       "      <td>2022-06-02</td>\n",
       "      <td>loja05</td>\n",
       "      <td>Palmas</td>\n",
       "      <td>Tocantins</td>\n",
       "      <td>NORTE</td>\n",
       "      <td>200ml</td>\n",
       "      <td>NOLOCAL</td>\n",
       "      <td>18.0</td>\n",
       "      <td>DINHEIRO</td>\n",
       "      <td>2022-06</td>\n",
       "    </tr>\n",
       "    <tr>\n",
       "      <th>4</th>\n",
       "      <td>6d7e12b449f743b5bc19a279188bbdca</td>\n",
       "      <td>2022-02-28</td>\n",
       "      <td>loja10</td>\n",
       "      <td>João Pessoa</td>\n",
       "      <td>Paraíba</td>\n",
       "      <td>NORDESTE</td>\n",
       "      <td>700ml</td>\n",
       "      <td>NOLOCAL</td>\n",
       "      <td>55.0</td>\n",
       "      <td>PIX</td>\n",
       "      <td>2022-02</td>\n",
       "    </tr>\n",
       "    <tr>\n",
       "      <th>...</th>\n",
       "      <td>...</td>\n",
       "      <td>...</td>\n",
       "      <td>...</td>\n",
       "      <td>...</td>\n",
       "      <td>...</td>\n",
       "      <td>...</td>\n",
       "      <td>...</td>\n",
       "      <td>...</td>\n",
       "      <td>...</td>\n",
       "      <td>...</td>\n",
       "      <td>...</td>\n",
       "    </tr>\n",
       "    <tr>\n",
       "      <th>69995</th>\n",
       "      <td>f512b4b80c5242aba4dd2bd61a1bca95</td>\n",
       "      <td>2022-03-14</td>\n",
       "      <td>loja05</td>\n",
       "      <td>Palmas</td>\n",
       "      <td>Tocantins</td>\n",
       "      <td>NORTE</td>\n",
       "      <td>700ml</td>\n",
       "      <td>DELIVERY</td>\n",
       "      <td>55.0</td>\n",
       "      <td>CREDITO</td>\n",
       "      <td>2022-03</td>\n",
       "    </tr>\n",
       "    <tr>\n",
       "      <th>69996</th>\n",
       "      <td>9060c1f734dc478d97e7c125334ae359</td>\n",
       "      <td>2021-07-09</td>\n",
       "      <td>loja04</td>\n",
       "      <td>São Paulo</td>\n",
       "      <td>São Paulo</td>\n",
       "      <td>SUDESTE</td>\n",
       "      <td>500ml</td>\n",
       "      <td>NOLOCAL</td>\n",
       "      <td>40.0</td>\n",
       "      <td>DEBITO</td>\n",
       "      <td>2021-07</td>\n",
       "    </tr>\n",
       "    <tr>\n",
       "      <th>69997</th>\n",
       "      <td>7466aaef9a004909a8e9a3fda59a822e</td>\n",
       "      <td>2022-04-13</td>\n",
       "      <td>loja05</td>\n",
       "      <td>Palmas</td>\n",
       "      <td>Tocantins</td>\n",
       "      <td>NORTE</td>\n",
       "      <td>500ml</td>\n",
       "      <td>DELIVERY</td>\n",
       "      <td>40.0</td>\n",
       "      <td>CREDITO</td>\n",
       "      <td>2022-04</td>\n",
       "    </tr>\n",
       "    <tr>\n",
       "      <th>69998</th>\n",
       "      <td>fa0b66e664154eee91d61dd42d4305ba</td>\n",
       "      <td>2021-07-06</td>\n",
       "      <td>loja09</td>\n",
       "      <td>Campo Grande</td>\n",
       "      <td>Mato Grosso do Sul</td>\n",
       "      <td>CENTROESTE</td>\n",
       "      <td>700ml</td>\n",
       "      <td>DELIVERY</td>\n",
       "      <td>55.0</td>\n",
       "      <td>CREDITO</td>\n",
       "      <td>2021-07</td>\n",
       "    </tr>\n",
       "    <tr>\n",
       "      <th>69999</th>\n",
       "      <td>dc4de8e16824417891bf6b98bff79d14</td>\n",
       "      <td>2021-11-10</td>\n",
       "      <td>loja03</td>\n",
       "      <td>Macapá</td>\n",
       "      <td>Amapá</td>\n",
       "      <td>NORTE</td>\n",
       "      <td>700ml</td>\n",
       "      <td>DELIVERY</td>\n",
       "      <td>55.0</td>\n",
       "      <td>CREDITO</td>\n",
       "      <td>2021-11</td>\n",
       "    </tr>\n",
       "  </tbody>\n",
       "</table>\n",
       "<p>70000 rows × 11 columns</p>\n",
       "</div>"
      ],
      "text/plain": [
       "                             cod_pedido        data    loja        cidade  \\\n",
       "0      fc9c53e49cb649ed9d0ab7991fdf3e9a  2021-10-28  loja02  Porto Alegre   \n",
       "1      8b59eab421bc486b97e711cd3e461879  2022-05-29  loja07        Recife   \n",
       "2      471f469d3d7d4b289e2753f8f6c5846a  2021-04-09  loja01   Porto Velho   \n",
       "3      cac59816964b4e32a5ab542a46c13fae  2022-06-02  loja05        Palmas   \n",
       "4      6d7e12b449f743b5bc19a279188bbdca  2022-02-28  loja10   João Pessoa   \n",
       "...                                 ...         ...     ...           ...   \n",
       "69995  f512b4b80c5242aba4dd2bd61a1bca95  2022-03-14  loja05        Palmas   \n",
       "69996  9060c1f734dc478d97e7c125334ae359  2021-07-09  loja04     São Paulo   \n",
       "69997  7466aaef9a004909a8e9a3fda59a822e  2022-04-13  loja05        Palmas   \n",
       "69998  fa0b66e664154eee91d61dd42d4305ba  2021-07-06  loja09  Campo Grande   \n",
       "69999  dc4de8e16824417891bf6b98bff79d14  2021-11-10  loja03        Macapá   \n",
       "\n",
       "                   estado      regiao tamanho local_consumo  preco  \\\n",
       "0       Rio Grande do Sul         SUL   500ml       NOLOCAL   40.0   \n",
       "1              Pernambuco    NORDESTE  1000ml       NOLOCAL   75.5   \n",
       "2                Rondônia       NORTE  1000ml      DELIVERY   75.5   \n",
       "3               Tocantins       NORTE   200ml       NOLOCAL   18.0   \n",
       "4                 Paraíba    NORDESTE   700ml       NOLOCAL   55.0   \n",
       "...                   ...         ...     ...           ...    ...   \n",
       "69995           Tocantins       NORTE   700ml      DELIVERY   55.0   \n",
       "69996           São Paulo     SUDESTE   500ml       NOLOCAL   40.0   \n",
       "69997           Tocantins       NORTE   500ml      DELIVERY   40.0   \n",
       "69998  Mato Grosso do Sul  CENTROESTE   700ml      DELIVERY   55.0   \n",
       "69999               Amapá       NORTE   700ml      DELIVERY   55.0   \n",
       "\n",
       "      forma_pagamento  ano_mes  \n",
       "0              DEBITO  2021-10  \n",
       "1             CREDITO  2022-05  \n",
       "2            DINHEIRO  2021-04  \n",
       "3            DINHEIRO  2022-06  \n",
       "4                 PIX  2022-02  \n",
       "...               ...      ...  \n",
       "69995         CREDITO  2022-03  \n",
       "69996          DEBITO  2021-07  \n",
       "69997         CREDITO  2022-04  \n",
       "69998         CREDITO  2021-07  \n",
       "69999         CREDITO  2021-11  \n",
       "\n",
       "[70000 rows x 11 columns]"
      ]
     },
     "execution_count": 248,
     "metadata": {},
     "output_type": "execute_result"
    }
   ],
   "source": [
    "df = pd.DataFrame(registros)\n",
    "df"
   ]
  },
  {
   "cell_type": "code",
   "execution_count": 252,
   "id": "9e1ac241-f3ed-4891-873d-1056d77e32cd",
   "metadata": {},
   "outputs": [],
   "source": [
    "df.to_json(\"../data_files/vendas.json\", indent=2, orient='records')"
   ]
  },
  {
   "cell_type": "code",
   "execution_count": null,
   "id": "b4d16e75-95ef-4298-943d-ef82d28f4038",
   "metadata": {},
   "outputs": [],
   "source": []
  }
 ],
 "metadata": {
  "kernelspec": {
   "display_name": "Python 3 (ipykernel)",
   "language": "python",
   "name": "python3"
  },
  "language_info": {
   "codemirror_mode": {
    "name": "ipython",
    "version": 3
   },
   "file_extension": ".py",
   "mimetype": "text/x-python",
   "name": "python",
   "nbconvert_exporter": "python",
   "pygments_lexer": "ipython3",
   "version": "3.10.6"
  }
 },
 "nbformat": 4,
 "nbformat_minor": 5
}
