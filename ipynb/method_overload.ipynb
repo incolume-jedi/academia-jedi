{
 "cells": [
  {
   "cell_type": "code",
   "execution_count": 9,
   "id": "adafcc15-8fc6-43f3-9922-fa6258c3c371",
   "metadata": {},
   "outputs": [],
   "source": [
    "from functools import singledispatch, singledispatchmethod\n",
    "from pathlib import Path"
   ]
  },
  {
   "cell_type": "code",
   "execution_count": 2,
   "id": "f8d4d72b-bd11-4083-86f9-edad217571e5",
   "metadata": {},
   "outputs": [],
   "source": [
    "@singledispatch\n",
    "def reverse(value):\n",
    "    raise NotImplementedError(f'Type \"{type(value).__name__}\" not setting.')\n",
    "    \n",
    "    \n",
    "@reverse.register(int)\n",
    "@reverse.register(float)\n",
    "def _(value: int|float):\n",
    "    return -value\n",
    "\n",
    "\n",
    "@reverse.register(list)\n",
    "@reverse.register(str)\n",
    "def _(value: (str|list)):\n",
    "    return value[::-1]\n",
    "\n",
    "@reverse.register\n",
    "def _(value: bool):\n",
    "    return not value"
   ]
  },
  {
   "cell_type": "code",
   "execution_count": 3,
   "id": "bf9e4e19-fc82-44da-a99e-db753de4c029",
   "metadata": {},
   "outputs": [
    {
     "name": "stdout",
     "output_type": "stream",
     "text": [
      "-12\n"
     ]
    }
   ],
   "source": [
    "print(reverse(12))"
   ]
  },
  {
   "cell_type": "code",
   "execution_count": 4,
   "id": "42b4124c-20cc-4106-b0e4-cec95d0f9d11",
   "metadata": {},
   "outputs": [
    {
     "data": {
      "text/plain": [
       "'cba'"
      ]
     },
     "execution_count": 4,
     "metadata": {},
     "output_type": "execute_result"
    }
   ],
   "source": [
    "reverse('abc')"
   ]
  },
  {
   "cell_type": "code",
   "execution_count": 5,
   "id": "646537e7-a330-45e9-9cc8-970e58a0d3d1",
   "metadata": {},
   "outputs": [
    {
     "data": {
      "text/plain": [
       "[3, 2, 1]"
      ]
     },
     "execution_count": 5,
     "metadata": {},
     "output_type": "execute_result"
    }
   ],
   "source": [
    "reverse([1,2,3])"
   ]
  },
  {
   "cell_type": "code",
   "execution_count": 6,
   "id": "629b826d-601c-4a12-b999-8e90e9050c88",
   "metadata": {},
   "outputs": [
    {
     "data": {
      "text/plain": [
       "True"
      ]
     },
     "execution_count": 6,
     "metadata": {},
     "output_type": "execute_result"
    }
   ],
   "source": [
    "reverse(False)"
   ]
  },
  {
   "cell_type": "code",
   "execution_count": 7,
   "id": "23083efe-3570-440d-b552-5f18954f526f",
   "metadata": {},
   "outputs": [
    {
     "data": {
      "text/plain": [
       "0.8"
      ]
     },
     "execution_count": 7,
     "metadata": {},
     "output_type": "execute_result"
    }
   ],
   "source": [
    "reverse(-.8)"
   ]
  },
  {
   "cell_type": "code",
   "execution_count": 8,
   "id": "12b548fe-69d6-4c58-8462-2bfff8a83362",
   "metadata": {},
   "outputs": [
    {
     "ename": "NotImplementedError",
     "evalue": "Type \"complex\" not setting.",
     "output_type": "error",
     "traceback": [
      "\u001b[0;31m---------------------------------------------------------------------------\u001b[0m",
      "\u001b[0;31mNotImplementedError\u001b[0m                       Traceback (most recent call last)",
      "Cell \u001b[0;32mIn [8], line 1\u001b[0m\n\u001b[0;32m----> 1\u001b[0m reverse(\u001b[38;5;241m3\u001b[39m \u001b[38;5;241m+\u001b[39m\u001b[38;5;241m6\u001b[39mj)\n",
      "File \u001b[0;32m/opt/conda/lib/python3.10/functools.py:889\u001b[0m, in \u001b[0;36msingledispatch.<locals>.wrapper\u001b[0;34m(*args, **kw)\u001b[0m\n\u001b[1;32m    885\u001b[0m \u001b[38;5;28;01mif\u001b[39;00m \u001b[38;5;129;01mnot\u001b[39;00m args:\n\u001b[1;32m    886\u001b[0m     \u001b[38;5;28;01mraise\u001b[39;00m \u001b[38;5;167;01mTypeError\u001b[39;00m(\u001b[38;5;124mf\u001b[39m\u001b[38;5;124m'\u001b[39m\u001b[38;5;132;01m{\u001b[39;00mfuncname\u001b[38;5;132;01m}\u001b[39;00m\u001b[38;5;124m requires at least \u001b[39m\u001b[38;5;124m'\u001b[39m\n\u001b[1;32m    887\u001b[0m                     \u001b[38;5;124m'\u001b[39m\u001b[38;5;124m1 positional argument\u001b[39m\u001b[38;5;124m'\u001b[39m)\n\u001b[0;32m--> 889\u001b[0m \u001b[38;5;28;01mreturn\u001b[39;00m \u001b[43mdispatch\u001b[49m\u001b[43m(\u001b[49m\u001b[43margs\u001b[49m\u001b[43m[\u001b[49m\u001b[38;5;241;43m0\u001b[39;49m\u001b[43m]\u001b[49m\u001b[38;5;241;43m.\u001b[39;49m\u001b[38;5;18;43m__class__\u001b[39;49m\u001b[43m)\u001b[49m\u001b[43m(\u001b[49m\u001b[38;5;241;43m*\u001b[39;49m\u001b[43margs\u001b[49m\u001b[43m,\u001b[49m\u001b[43m \u001b[49m\u001b[38;5;241;43m*\u001b[39;49m\u001b[38;5;241;43m*\u001b[39;49m\u001b[43mkw\u001b[49m\u001b[43m)\u001b[49m\n",
      "Cell \u001b[0;32mIn [2], line 3\u001b[0m, in \u001b[0;36mreverse\u001b[0;34m(value)\u001b[0m\n\u001b[1;32m      1\u001b[0m \u001b[38;5;129m@singledispatch\u001b[39m\n\u001b[1;32m      2\u001b[0m \u001b[38;5;28;01mdef\u001b[39;00m \u001b[38;5;21mreverse\u001b[39m(value):\n\u001b[0;32m----> 3\u001b[0m     \u001b[38;5;28;01mraise\u001b[39;00m \u001b[38;5;167;01mNotImplementedError\u001b[39;00m(\u001b[38;5;124mf\u001b[39m\u001b[38;5;124m'\u001b[39m\u001b[38;5;124mType \u001b[39m\u001b[38;5;124m\"\u001b[39m\u001b[38;5;132;01m{\u001b[39;00m\u001b[38;5;28mtype\u001b[39m(value)\u001b[38;5;241m.\u001b[39m\u001b[38;5;18m__name__\u001b[39m\u001b[38;5;132;01m}\u001b[39;00m\u001b[38;5;124m\"\u001b[39m\u001b[38;5;124m not setting.\u001b[39m\u001b[38;5;124m'\u001b[39m)\n",
      "\u001b[0;31mNotImplementedError\u001b[0m: Type \"complex\" not setting."
     ]
    }
   ],
   "source": [
    "reverse(3 +6j)"
   ]
  },
  {
   "cell_type": "code",
   "execution_count": 29,
   "id": "34a7046d-7443-45f1-ba0e-cc504b0aa9a8",
   "metadata": {},
   "outputs": [],
   "source": [
    "from dataclasses import dataclass\n",
    "\n",
    "\n",
    "@dataclass\n",
    "class Reverse:\n",
    "    \n",
    "    @singledispatchmethod\n",
    "    def reverse(value):\n",
    "        raise NotImplementedError(f'Type \"{type(value).__name__}\" not setting.')\n",
    "\n",
    "\n",
    "    @reverse.register(int)\n",
    "    @reverse.register(float)\n",
    "    def _(self, value):\n",
    "        return -value\n",
    "\n",
    "\n",
    "    @reverse.register(str)\n",
    "    @reverse.register(list)\n",
    "    def _(self, value):\n",
    "        return value[::-1]\n",
    "\n",
    "    @reverse.register(bool)\n",
    "    def _(self, value):\n",
    "        return not value"
   ]
  },
  {
   "cell_type": "code",
   "execution_count": 34,
   "id": "7cf88006-ffa5-4772-ab4e-871d1e2538b6",
   "metadata": {},
   "outputs": [
    {
     "data": {
      "text/plain": [
       "-1"
      ]
     },
     "metadata": {},
     "output_type": "display_data"
    },
    {
     "data": {
      "text/plain": [
       "False"
      ]
     },
     "metadata": {},
     "output_type": "display_data"
    },
    {
     "data": {
      "text/plain": [
       "0.09"
      ]
     },
     "metadata": {},
     "output_type": "display_data"
    },
    {
     "data": {
      "text/plain": [
       "'cba'"
      ]
     },
     "metadata": {},
     "output_type": "display_data"
    },
    {
     "data": {
      "text/plain": [
       "[5, 4, 3, 2, 1]"
      ]
     },
     "metadata": {},
     "output_type": "display_data"
    }
   ],
   "source": [
    "rev = Reverse()\n",
    "\n",
    "display(rev.reverse(1), rev.reverse(True), rev.reverse(-.09), rev.reverse('abc'), rev.reverse([1,2,3,4,5]))"
   ]
  },
  {
   "cell_type": "code",
   "execution_count": null,
   "id": "9319be4e-bc10-4296-ae1b-f287efbf9064",
   "metadata": {},
   "outputs": [],
   "source": []
  },
  {
   "cell_type": "code",
   "execution_count": 17,
   "id": "7858d198-1d22-4318-ac55-82c854f8fd65",
   "metadata": {},
   "outputs": [],
   "source": [
    "class Negator:\n",
    "    @singledispatchmethod\n",
    "    @classmethod\n",
    "    def neg(cls, arg):\n",
    "        raise NotImplementedError(\"Cannot negate a\")\n",
    "\n",
    "    @neg.register\n",
    "    @classmethod\n",
    "    def _(cls, arg: int):\n",
    "        return -arg\n",
    "\n",
    "    @neg.register\n",
    "    @classmethod\n",
    "    def _(cls, arg: bool):\n",
    "        return not arg"
   ]
  },
  {
   "cell_type": "code",
   "execution_count": 18,
   "id": "4fea7732-074f-4ac4-9b97-3497f1f17434",
   "metadata": {},
   "outputs": [],
   "source": [
    "n = Negator()"
   ]
  },
  {
   "cell_type": "code",
   "execution_count": 19,
   "id": "48f04c14-3e80-44ea-9ce6-ccf0a9caf8b0",
   "metadata": {},
   "outputs": [
    {
     "data": {
      "text/plain": [
       "9"
      ]
     },
     "execution_count": 19,
     "metadata": {},
     "output_type": "execute_result"
    }
   ],
   "source": [
    "n.neg(-9)"
   ]
  },
  {
   "cell_type": "code",
   "execution_count": null,
   "id": "aec4d83b-82f6-4b13-bce1-b982d8db9b68",
   "metadata": {},
   "outputs": [
    {
     "data": {
      "text/plain": [
       "True"
      ]
     },
     "execution_count": 20,
     "metadata": {},
     "output_type": "execute_result"
    }
   ],
   "source": [
    "n.neg(False"
   ]
  },
  {
   "cell_type": "code",
   "execution_count": 35,
   "id": "59554ff3-8fd1-47db-9f2a-70014cd94294",
   "metadata": {},
   "outputs": [],
   "source": [
    "from dataclasses import dataclass\n",
    "from functools import singledispatchmethod\n",
    "\n",
    "\n",
    "@dataclass\n",
    "class NewReverse:\n",
    "    value: str = False\n",
    "    \n",
    "    @singledispatchmethod\n",
    "    def reverse(value):\n",
    "        raise NotImplementedError(f'Type \"{type(value).__name__}\" not setting.')\n",
    "\n",
    "\n",
    "    @reverse.register(int)\n",
    "    def _(self):\n",
    "        return - int(self.value)\n",
    "    \n",
    "    @reverse.register(float)\n",
    "    def _(self):\n",
    "        return - float(self.value)\n",
    "\n",
    "\n",
    "    @reverse.register(str)\n",
    "    @reverse.register(list)\n",
    "    def _(self):\n",
    "        return self.value[::-1]\n",
    "\n",
    "    @reverse.register(bool)\n",
    "    def _(self):\n",
    "        return not bool(self.value)"
   ]
  },
  {
   "cell_type": "code",
   "execution_count": 37,
   "id": "7cacb2cd-28af-4135-8e6c-d9715991855b",
   "metadata": {},
   "outputs": [
    {
     "ename": "IndexError",
     "evalue": "tuple index out of range",
     "output_type": "error",
     "traceback": [
      "\u001b[0;31m---------------------------------------------------------------------------\u001b[0m",
      "\u001b[0;31mIndexError\u001b[0m                                Traceback (most recent call last)",
      "Cell \u001b[0;32mIn [37], line 2\u001b[0m\n\u001b[1;32m      1\u001b[0m nr \u001b[38;5;241m=\u001b[39m NewReverse(\u001b[38;5;124m'\u001b[39m\u001b[38;5;124mLuza\u001b[39m\u001b[38;5;124m'\u001b[39m)\n\u001b[0;32m----> 2\u001b[0m nr\u001b[38;5;241m.\u001b[39mreverse()\n",
      "File \u001b[0;32m/opt/conda/lib/python3.10/functools.py:925\u001b[0m, in \u001b[0;36msingledispatchmethod.__get__.<locals>._method\u001b[0;34m(*args, **kwargs)\u001b[0m\n\u001b[1;32m    924\u001b[0m \u001b[38;5;28;01mdef\u001b[39;00m \u001b[38;5;21m_method\u001b[39m(\u001b[38;5;241m*\u001b[39margs, \u001b[38;5;241m*\u001b[39m\u001b[38;5;241m*\u001b[39mkwargs):\n\u001b[0;32m--> 925\u001b[0m     method \u001b[38;5;241m=\u001b[39m \u001b[38;5;28mself\u001b[39m\u001b[38;5;241m.\u001b[39mdispatcher\u001b[38;5;241m.\u001b[39mdispatch(\u001b[43margs\u001b[49m\u001b[43m[\u001b[49m\u001b[38;5;241;43m0\u001b[39;49m\u001b[43m]\u001b[49m\u001b[38;5;241m.\u001b[39m\u001b[38;5;18m__class__\u001b[39m)\n\u001b[1;32m    926\u001b[0m     \u001b[38;5;28;01mreturn\u001b[39;00m method\u001b[38;5;241m.\u001b[39m\u001b[38;5;21m__get__\u001b[39m(obj, \u001b[38;5;28mcls\u001b[39m)(\u001b[38;5;241m*\u001b[39margs, \u001b[38;5;241m*\u001b[39m\u001b[38;5;241m*\u001b[39mkwargs)\n",
      "\u001b[0;31mIndexError\u001b[0m: tuple index out of range"
     ]
    }
   ],
   "source": [
    "nr = NewReverse('Luza')\n",
    "nr.reverse()"
   ]
  }
 ],
 "metadata": {
  "kernelspec": {
   "display_name": "Python 3 (ipykernel)",
   "language": "python",
   "name": "python3"
  },
  "language_info": {
   "codemirror_mode": {
    "name": "ipython",
    "version": 3
   },
   "file_extension": ".py",
   "mimetype": "text/x-python",
   "name": "python",
   "nbconvert_exporter": "python",
   "pygments_lexer": "ipython3",
   "version": "3.10.6"
  }
 },
 "nbformat": 4,
 "nbformat_minor": 5
}
